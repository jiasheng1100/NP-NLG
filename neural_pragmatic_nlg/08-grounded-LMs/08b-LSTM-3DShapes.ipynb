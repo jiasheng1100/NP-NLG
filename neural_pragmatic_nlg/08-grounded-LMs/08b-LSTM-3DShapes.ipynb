{
  "cells": [
    {
      "cell_type": "markdown",
      "metadata": {
        "id": "4wHnq54bM35Y"
      },
      "source": [
        "Sheet 8.1: An LSTM-based image captioner for the annotated 3D-Shapes data set\n",
        "=============================================================================\n",
        "\n",
        "**Author:** Michael Franke & Polina Tsvilodub\n",
        "\n"
      ]
    },
    {
      "cell_type": "markdown",
      "metadata": {
        "id": "NCiJql7fM35j"
      },
      "source": [
        "In order to see how a custom-built neural image captioning (NIC) system can be implemented and used for inference, we look here at a relatively simple LSTM-based image captioner.\n",
        "To shortcut the time it takes for training this model, we use downloadable weights from a trained version of this model.\n",
        "The goal is to see the architecture in full detail and to get a feeling for the way in which images and text data is handled during inference.\n",
        "Most importantly, however, we will want to get a feeling for how good the model&rsquo;s predictions are, at least intuitively.\n",
        "\n",
        "This tutorial uses a synthetic data set of annotations for the [3D Shapes data set](https://github.com/deepmind/3d-shapes), which we will refer to as &ldquo;annotated 3D Shapes data set&rdquo; or &ldquo;A3DS&rdquo; for short.\n",
        "Other image-captioning data sets (like MS-Coco) contain heterogeneous pictures and often only a small number of captions per picture, making it less clear whether it is the NIC&rsquo;s fault or the potentially poor quality of the data set that causes generations to be intuitively inadequate (garbled, untrue, over- or underspecified &#x2026;).\n",
        "In contrast, using the A3DS data set, makes it easier to judge, on intuitive grounds, whether generated captions are any good.\n",
        "\n"
      ]
    },
    {
      "cell_type": "markdown",
      "metadata": {
        "id": "QcoWw26VM35m"
      },
      "source": [
        "## Credits and origin of material\n",
        "\n"
      ]
    },
    {
      "cell_type": "markdown",
      "metadata": {
        "id": "Xy8atuEFM35n"
      },
      "source": [
        "The material presented in this tutorial is in large part based on work conducted by Polina Tsvilodub for her 2022 MSc thesis &ldquo;Language Drift of Multi-Agent Communication Systems in Reference Games&rdquo;.\n",
        "In particular, the annotated 3D Shapes data set and the LSTM-based architecture stems from this thesis.\n",
        "\n"
      ]
    },
    {
      "cell_type": "markdown",
      "metadata": {
        "id": "NunOemjuM35o"
      },
      "source": [
        "## Packages\n",
        "\n"
      ]
    },
    {
      "cell_type": "markdown",
      "metadata": {
        "id": "U1cQVYIMM35q"
      },
      "source": [
        "On top of the usual suspects, we will use the &rsquo;Image&rsquo; and &rsquo;torchvision&rsquo; package to process image data.\n",
        "We need package &rsquo;pickle&rsquo; to load image data and pre-trained model weights.\n",
        "\n"
      ]
    },
    {
      "cell_type": "code",
      "source": [
        "!wget https://github.com/michael-franke/npNLG/raw/main/neural_pragmatic_nlg/data/A3DS/A3DS.zip\n",
        "!unzip A3DS.zip"
      ],
      "metadata": {
        "id": "e8Cw2FIKM7FT",
        "outputId": "40f3e51f-ad68-4f70-9b29-92e970759210",
        "colab": {
          "base_uri": "https://localhost:8080/"
        }
      },
      "execution_count": null,
      "outputs": [
        {
          "output_type": "stream",
          "name": "stdout",
          "text": [
            "--2023-01-11 09:41:29--  https://github.com/michael-franke/npNLG/raw/main/neural_pragmatic_nlg/data/A3DS/A3DS.zip\n",
            "Resolving github.com (github.com)... 140.82.114.3\n",
            "Connecting to github.com (github.com)|140.82.114.3|:443... connected.\n",
            "HTTP request sent, awaiting response... 302 Found\n",
            "Location: https://raw.githubusercontent.com/michael-franke/npNLG/main/neural_pragmatic_nlg/data/A3DS/A3DS.zip [following]\n",
            "--2023-01-11 09:41:29--  https://raw.githubusercontent.com/michael-franke/npNLG/main/neural_pragmatic_nlg/data/A3DS/A3DS.zip\n",
            "Resolving raw.githubusercontent.com (raw.githubusercontent.com)... 185.199.108.133, 185.199.109.133, 185.199.110.133, ...\n",
            "Connecting to raw.githubusercontent.com (raw.githubusercontent.com)|185.199.108.133|:443... connected.\n",
            "HTTP request sent, awaiting response... 200 OK\n",
            "Length: 31636302 (30M) [application/zip]\n",
            "Saving to: ‘A3DS.zip’\n",
            "\n",
            "\rA3DS.zip              0%[                    ]       0  --.-KB/s               \rA3DS.zip            100%[===================>]  30.17M  --.-KB/s    in 0.1s    \n",
            "\n",
            "2023-01-11 09:41:29 (246 MB/s) - ‘A3DS.zip’ saved [31636302/31636302]\n",
            "\n",
            "Archive:  A3DS.zip\n",
            "   creating: A3DS/\n",
            "  inflating: __MACOSX/._A3DS         \n",
            "  inflating: A3DS/sandbox_3Dshapes_1000.pkl  \n",
            "  inflating: __MACOSX/A3DS/._sandbox_3Dshapes_1000.pkl  \n",
            "  inflating: A3DS/sandbox_3Dshapes_resnet50_features_1000.pt  \n",
            "  inflating: __MACOSX/A3DS/._sandbox_3Dshapes_resnet50_features_1000.pt  \n",
            "  inflating: A3DS/vocab.pkl          \n",
            "  inflating: __MACOSX/A3DS/._vocab.pkl  \n",
            "  inflating: A3DS/pretrained_decoder_3dshapes.pkl  \n",
            "  inflating: __MACOSX/A3DS/._pretrained_decoder_3dshapes.pkl  \n",
            "  inflating: A3DS/sandbox_IDs_3dshapes_1000.txt  \n",
            "  inflating: __MACOSX/A3DS/._sandbox_IDs_3dshapes_1000.txt  \n"
          ]
        }
      ]
    },
    {
      "cell_type": "code",
      "execution_count": null,
      "metadata": {
        "id": "EnwOpFdVM35s"
      },
      "outputs": [],
      "source": [
        "##################################################\n",
        "## import packages\n",
        "##################################################\n",
        "\n",
        "import torch\n",
        "import torch.nn as nn\n",
        "from torch.utils.data import Dataset\n",
        "from torchtext.data import get_tokenizer\n",
        "from torchvision import transforms\n",
        "from PIL import Image\n",
        "import matplotlib.pyplot as plt\n",
        "import os\n",
        "import numpy as np\n",
        "import json\n",
        "import random\n",
        "from random import shuffle\n",
        "# from tqdm import tqdm\n",
        "import pickle\n",
        "# import 5py\n",
        "\n",
        "import warnings\n",
        "warnings.filterwarnings('ignore')"
      ]
    },
    {
      "cell_type": "markdown",
      "metadata": {
        "id": "iKTjZH_LM35w"
      },
      "source": [
        "## The A3DS data set\n",
        "\n"
      ]
    },
    {
      "cell_type": "markdown",
      "metadata": {
        "id": "N2DftR4LM35z"
      },
      "source": [
        "The following code gives us PyTorch &rsquo;Dataset&rsquo; and &rsquo;DataLoader&rsquo; objects, with which to handle a 1k-subset of images and annotations from the A3DS data set.\n",
        "\n"
      ]
    },
    {
      "cell_type": "markdown",
      "metadata": {
        "id": "ZMdP4ONfM350"
      },
      "source": [
        "### The &rsquo;Dataset&rsquo; object\n",
        "\n"
      ]
    },
    {
      "cell_type": "markdown",
      "metadata": {
        "id": "Jui07UvFM351"
      },
      "source": [
        "Here is the definition of the &rsquo;Dataset&rsquo; object.\n",
        "\n"
      ]
    },
    {
      "cell_type": "code",
      "execution_count": null,
      "metadata": {
        "id": "6sDldp19M352"
      },
      "outputs": [],
      "source": [
        "class A3DS(Dataset):\n",
        "    \"\"\"\n",
        "    Dataset class for loading the dataset of images and captions from the 3dshapes dataset.\n",
        "\n",
        "    Arguments:\n",
        "    ---------\n",
        "    num_labels: int\n",
        "        Number of distinct captions to sample for each image. Relevant for using the dataloader for training models.\n",
        "    labels_type: str\n",
        "        \"long\" or \"short\". Indicates whether long or short captions should be used.\n",
        "    run_inference: bool\n",
        "        Flag indicating whether this dataset will be used for performing inference with a trained image captioner.\n",
        "    batch_size: int\n",
        "        Batch size. Has to be 1 in order to save the example image-caption pairs.\n",
        "    vocab_file: str\n",
        "        Name of vocab file.\n",
        "    start_token: str\n",
        "        Start token.\n",
        "    end_token: str\n",
        "        End token.\n",
        "    unk_token: str\n",
        "        Token to be used when encoding unknown tokens.\n",
        "    pad_token: str\n",
        "        Pad token to be used for padding captions tp max_sequence_length.\n",
        "    max_sequence_length: int\n",
        "        Length to which all captions are padded / truncated.\n",
        "    \"\"\"\n",
        "    def __init__(\n",
        "            self,\n",
        "            path=\"A3DS\",\n",
        "            num_labels=1, # number of ground truth labels to retrieve per image\n",
        "            labels_type=\"long\", # alternative: short\n",
        "            run_inference=False, # depending on this flag, check presence of model weights\n",
        "            batch_size=1,\n",
        "            vocab_file=\"vocab.pkl\",\n",
        "            start_token=\"START\",  # might be unnecessary since vocab file is fixed anyways\n",
        "            end_token=\"END\",\n",
        "            unk_token=\"UNK\",\n",
        "            pad_token=\"PAD\",\n",
        "            max_sequence_length=26, # important for padding length\n",
        "        ):\n",
        "\n",
        "        # check vocab file exists\n",
        "        assert os.path.exists(os.path.join(path, vocab_file)), \"Make sure the vocab file exists in the directory passed to the dataloader (see README)\"\n",
        "\n",
        "        # check if image file exists\n",
        "        assert (os.path.exists(os.path.join(path, \"sandbox_3Dshapes_1000.pkl\")) and os.path.join(path, \"sandbox_3Dshapes_resnet50_features_1000.pt\")), \"Make sure the sandbox dataset exists in the directory passed to the dataloader (see README)\"\n",
        "\n",
        "        if labels_type == \"long\":\n",
        "            assert num_labels <= 20, \"Maximally 20 distinct image-long caption pairs can be created for one image\"\n",
        "        else:\n",
        "            assert num_labels <= 27, \"Maximally 27 distinct image-short caption pairs can be created for one image\"\n",
        "\n",
        "        self.batch_size = batch_size\n",
        "        with open(os.path.join(path, vocab_file), \"rb\") as vf:\n",
        "            self.vocab = pickle.load(vf)\n",
        "\n",
        "        self.max_sequence_length = max_sequence_length\n",
        "        self.start_token = start_token\n",
        "        self.end_token = end_token\n",
        "        self.unk_token = unk_token\n",
        "        self.pad_token = pad_token\n",
        "        self.tokenizer = get_tokenizer(\"basic_english\")\n",
        "\n",
        "        self.embedded_imgs = torch.load(os.path.join(path, \"sandbox_3Dshapes_resnet50_features_1000.pt\"))\n",
        "        with open(os.path.join(path, \"sandbox_3Dshapes_1000.pkl\"), \"rb\") as f:\n",
        "            self.sandbox_file = pickle.load(f)\n",
        "            self.images = self.sandbox_file[\"images\"]\n",
        "            self.numeric_labels = self.sandbox_file[\"labels_numeric\"]\n",
        "            self.labels_long = self.sandbox_file[\"labels_long\"]\n",
        "            self.labels_short = self.sandbox_file[\"labels_short\"]\n",
        "\n",
        "        if labels_type == \"long\":\n",
        "            labels_ids_flat = [list(np.random.choice(range(len(self.labels_long[0])), num_labels, replace=False)) for i in range(len(self.images))]\n",
        "            self.labels_flat = [self.labels_long[i][l] for i, sublst in enumerate(labels_ids_flat) for l in sublst]\n",
        "            self.img_ids_flat = [id for id in range(len(self.images)) for i in range(num_labels)]\n",
        "        else:\n",
        "            labels_ids_flat = [list(np.random.choice(range(len(self.labels_short[0])), num_labels, replace=False)) for i in range(len(self.images))]\n",
        "            self.labels_flat = [self.labels_short[i][l] for i, sublst in enumerate(labels_ids_flat) for l in sublst]\n",
        "            self.img_ids_flat = [i for id in range(len(self.images)) for id in range(num_labels)]\n",
        "\n",
        "        # print(\"len labels ids flat \", len(labels_ids_flat))\n",
        "        # print(\"len labels flat \", len(self.labels_flat), self.labels_flat[:5])\n",
        "        # print(\"len image ids flat \", len(self.img_ids_flat), self.img_ids_flat[:5])\n",
        "\n",
        "    def __len__(self):\n",
        "        \"\"\"\n",
        "        Returns length of dataset.\n",
        "        \"\"\"\n",
        "        return len(self.img_ids_flat)\n",
        "\n",
        "    def __getitem__(self, idx):\n",
        "        \"\"\"\n",
        "        Iterator over the dataset.\n",
        "\n",
        "        Arguments:\n",
        "        ---------\n",
        "        idx: int\n",
        "            Index for accessing the flat image-caption pairs.\n",
        "\n",
        "        Returns:\n",
        "        -------\n",
        "        target_img: np.ndarray (64,64,3)\n",
        "            Original image.\n",
        "        target_features: torch.Tensor(2048,)\n",
        "            ResNet features of the image.\n",
        "        target_lbl: str\n",
        "            String caption.\n",
        "        numeric_lbl: np.ndarray (6,)\n",
        "            Original numeric image annotation.\n",
        "        target_caption: torch.Tensor(batch_size, 25)\n",
        "            Encoded caption.\n",
        "        \"\"\"\n",
        "        # access raw image corresponding to the index in the entire dataset\n",
        "        target_img = self.images[self.img_ids_flat[idx]]\n",
        "        # access caption\n",
        "        target_lbl = self.labels_flat[idx]\n",
        "        # access original numeric annotation of the image\n",
        "        numeric_lbl = self.numeric_labels[self.img_ids_flat[idx]]\n",
        "        # cast type\n",
        "        target_img = np.asarray(target_img).astype('uint8')\n",
        "        # retrieve ResNet features, accessed through original image ID\n",
        "        target_features = self.embedded_imgs[self.img_ids_flat[idx]]\n",
        "        # tokenize label\n",
        "        tokens = self.tokenizer(str(target_lbl).lower().replace(\"-\", \" \"))\n",
        "        # Convert caption to tensor of word ids, append start and end tokens.\n",
        "        target_caption = self.tokenize_caption(tokens)\n",
        "        # convert to tensor\n",
        "        target_caption = torch.Tensor(target_caption).long()\n",
        "\n",
        "        return target_img, target_features, target_lbl, numeric_lbl, target_caption\n",
        "\n",
        "    def tokenize_caption(self, label):\n",
        "        \"\"\"\n",
        "        Helper for converting list of tokens into list of token IDs.\n",
        "        Expects tokenized caption as input.\n",
        "\n",
        "        Arguments:\n",
        "        --------\n",
        "        label: list\n",
        "            Tokenized caption.\n",
        "\n",
        "        Returns:\n",
        "        -------\n",
        "        tokens: list\n",
        "            List of token IDs, prepended with start, end, padded to max length.\n",
        "        \"\"\"\n",
        "        label = label[:self.max_sequence_length]\n",
        "        tokens = [self.vocab[\"word2idx\"][self.start_token]]\n",
        "        for t in label:\n",
        "            try:\n",
        "                tokens.append(self.vocab[\"word2idx\"][t])\n",
        "            except:\n",
        "                tokens.append(self.vocab[\"word2idx\"][self.unk_token])\n",
        "        tokens.append(self.vocab[\"word2idx\"][self.end_token])\n",
        "        # pad\n",
        "        while len(tokens) < self.max_sequence_length:\n",
        "            tokens.append(self.vocab[\"word2idx\"][self.pad_token])\n",
        "\n",
        "        return tokens\n",
        "\n",
        "    def get_labels_for_image(self, id, caption_type=\"long\"):\n",
        "        \"\"\"\n",
        "        Helper for getting all annotations for a given image id.\n",
        "\n",
        "        Arguments:\n",
        "        ---------\n",
        "        id: int\n",
        "            Index of image caption pair containing the image\n",
        "            for which the full list of captions should be returned.\n",
        "        caption_type: str\n",
        "            \"long\" or \"short\". Indicates type of captions to provide.\n",
        "\n",
        "        Returns:\n",
        "        -------\n",
        "            List of all captions for given image.\n",
        "        \"\"\"\n",
        "        if caption_type == \"long\":\n",
        "            return self.labels_long[self.img_ids_flat[id]]\n",
        "        else:\n",
        "            return self.labels_short[self.img_ids_flat[id]]"
      ]
    },
    {
      "cell_type": "markdown",
      "metadata": {
        "id": "LVvhUHsWM355"
      },
      "source": [
        "Lets instantiate the &rsquo;Dataset&rsquo; object and explore the structure of the A3DS data.\n",
        "Notice that there are a 1000 items in this subset of the A3DS data set.\n",
        "\n"
      ]
    },
    {
      "cell_type": "code",
      "execution_count": null,
      "metadata": {
        "id": "XFLccExgM357",
        "outputId": "4ae7f51d-988e-4405-cc27-5d53f5845335",
        "colab": {
          "base_uri": "https://localhost:8080/"
        }
      },
      "outputs": [
        {
          "output_type": "stream",
          "name": "stdout",
          "text": [
            "1000\n"
          ]
        }
      ],
      "source": [
        "A3DS_dataset = A3DS()\n",
        "print(A3DS_dataset.__len__())"
      ]
    },
    {
      "cell_type": "markdown",
      "metadata": {
        "id": "kwzyRolJM36A"
      },
      "source": [
        "Let&rsquo;s get a single item by some ID, here taking the first item.\n",
        "\n"
      ]
    },
    {
      "cell_type": "code",
      "execution_count": null,
      "metadata": {
        "id": "EC5Bibl5M36B"
      },
      "outputs": [],
      "source": [
        "itemID=0\n",
        "image, target_features, caption_text, numeric_lbl, caption_indx = A3DS_dataset.__getitem__(itemID)"
      ]
    },
    {
      "cell_type": "markdown",
      "metadata": {
        "id": "2tTpCgQkM36C"
      },
      "source": [
        "Each item is a tuple with 5 pieces of information.\n",
        "For our purposes, the most important ones are in slot 0 (the image information) and in slot 2 (the caption as a text).\n",
        "\n",
        "Let&rsquo;s have a look at the image, which is stored as a tensor.\n",
        "\n"
      ]
    },
    {
      "cell_type": "code",
      "execution_count": null,
      "metadata": {
        "id": "AZBcKnjtM36D",
        "outputId": "30bd2760-73a0-4b2c-d071-54260cbfbb9d",
        "colab": {
          "base_uri": "https://localhost:8080/",
          "height": 1000
        }
      },
      "outputs": [
        {
          "output_type": "stream",
          "name": "stdout",
          "text": [
            "[[[153 226 249]\n",
            "  [153 226 249]\n",
            "  [153 226 249]\n",
            "  ...\n",
            "  [153 226 249]\n",
            "  [153 226 249]\n",
            "  [153 226 249]]\n",
            "\n",
            " [[153 226 249]\n",
            "  [153 226 249]\n",
            "  [153 226 249]\n",
            "  ...\n",
            "  [153 226 249]\n",
            "  [153 226 249]\n",
            "  [153 226 249]]\n",
            "\n",
            " [[153 226 249]\n",
            "  [153 226 249]\n",
            "  [153 226 249]\n",
            "  ...\n",
            "  [153 226 249]\n",
            "  [153 226 249]\n",
            "  [153 226 249]]\n",
            "\n",
            " ...\n",
            "\n",
            " [[254   0   0]\n",
            "  [254   0   0]\n",
            "  [253   0   0]\n",
            "  ...\n",
            "  [214   0   0]\n",
            "  [216   0   0]\n",
            "  [219   0   0]]\n",
            "\n",
            " [[251   0   0]\n",
            "  [246   0   0]\n",
            "  [250   0   0]\n",
            "  ...\n",
            "  [220   0   0]\n",
            "  [215   0   0]\n",
            "  [212   0   0]]\n",
            "\n",
            " [[255   0   0]\n",
            "  [248   0   0]\n",
            "  [243   0   0]\n",
            "  ...\n",
            "  [219   0   0]\n",
            "  [219   0   0]\n",
            "  [217   0   0]]]\n"
          ]
        },
        {
          "output_type": "display_data",
          "data": {
            "text/plain": [
              "<Figure size 432x288 with 1 Axes>"
            ],
            "image/png": "[encoded data removed]"
          },
          "metadata": {
            "needs_background": "light"
          }
        }
      ],
      "source": [
        "# picture\n",
        "print(image)\n",
        "\n",
        "# plot image\n",
        "plt.imshow(image)\n",
        "plt.show()"
      ]
    },
    {
      "cell_type": "markdown",
      "metadata": {
        "id": "eTqZqm9SM36E"
      },
      "source": [
        "And here is a caption that goes with this picture.\n",
        "\n"
      ]
    },
    {
      "cell_type": "code",
      "execution_count": null,
      "metadata": {
        "id": "IiSgUN3pM36F",
        "outputId": "2cb7ca49-b247-4d85-daa9-8b70fd88d963",
        "colab": {
          "base_uri": "https://localhost:8080/"
        }
      },
      "outputs": [
        {
          "output_type": "stream",
          "name": "stdout",
          "text": [
            "a small orange cylinder located in the left corner in front of a purple wall on red floor\n"
          ]
        }
      ],
      "source": [
        "# ground-truth caption\n",
        "print(caption_text)"
      ]
    },
    {
      "cell_type": "markdown",
      "metadata": {
        "id": "92fyQ-RvM36F"
      },
      "source": [
        "There are actually long and short captions for each image.\n",
        "We have created an instance of the data set with one random long caption per image.\n",
        "We can inspect the full list of short captions like so:\n",
        "\n"
      ]
    },
    {
      "cell_type": "code",
      "execution_count": null,
      "metadata": {
        "id": "4pCTmO7AM36G",
        "outputId": "2e1e01f9-b68c-4776-f099-8d817ab4b615",
        "colab": {
          "base_uri": "https://localhost:8080/"
        }
      },
      "outputs": [
        {
          "output_type": "stream",
          "name": "stdout",
          "text": [
            "there is a small cylinder\n",
            "there is a orange cylinder\n",
            "there is a cylinder in the left corner\n",
            "there is a cylinder in front of a purple wall\n",
            "there is a cylinder on red floor\n",
            "there is a small cylinder in the left corner\n",
            "there is a small cylinder in front of a purple wall\n",
            "there is a small cylinder on red floor\n",
            "there is a orange cylinder in the left corner\n",
            "there is a orange cylinder in front of a purple wall\n",
            "there is a orange cylinder on red floor\n",
            "a small cylinder\n",
            "a orange cylinder\n",
            "a cylinder in the left corner\n",
            "a cylinder in front of a purple wall\n",
            "a cylinder on red floor\n",
            "a small cylinder in the left corner\n",
            "a small cylinder in front of a purple wall\n",
            "a small cylinder on red floor\n",
            "a orange cylinder in the left corner\n",
            "a orange cylinder in front of a purple wall\n",
            "a orange cylinder on red floor\n",
            "the cylinder is in the left corner\n",
            "the cylinder is in front of a purple wall\n",
            "the cylinder is on red floor\n",
            "the cylinder is small\n",
            "the cylinder is orange\n"
          ]
        }
      ],
      "source": [
        "# Retrieve all short-captions for the image ID:\n",
        "all_short_caps = A3DS_dataset.get_labels_for_image(itemID, caption_type='short')\n",
        "for c in all_short_caps:\n",
        "    print(c)"
      ]
    },
    {
      "cell_type": "markdown",
      "metadata": {
        "id": "4hnLl9yFM36H"
      },
      "source": [
        "And similarly for the long captions.\n",
        "\n"
      ]
    },
    {
      "cell_type": "code",
      "execution_count": null,
      "metadata": {
        "id": "7WN0FweEM36H",
        "outputId": "c6d9548b-56b1-4e92-d704-e58cd7aa4404",
        "colab": {
          "base_uri": "https://localhost:8080/"
        }
      },
      "outputs": [
        {
          "output_type": "stream",
          "name": "stdout",
          "text": [
            "a small orange cylinder in the left corner in front of a purple wall on red floor\n",
            "a small orange cylinder in the left corner on red floor in front of a purple wall\n",
            "a small orange cylinder on red floor in the left corner in front of a purple wall\n",
            "a small orange cylinder on red floor in front of a purple wall in the left corner\n",
            "the picture shows a small orange cylinder in the left corner in front of a purple wall on red floor\n",
            "the picture shows a small orange cylinder in the left corner on red floor in front of a purple wall\n",
            "the picture shows a small orange cylinder on red floor in the left corner in front of a purple wall\n",
            "the picture shows a small orange cylinder on red floor in front of a purple wall in the left corner\n",
            "a small orange cylinder located in the left corner in front of a purple wall on red floor\n",
            "a small orange cylinder located in the left corner on red floor in front of a purple\n",
            "a small orange cylinder located on red floor in the left corner in front of a purple wall\n",
            "a small orange cylinder located on red floor in front of a purple wall in the left corner\n",
            "the small cylinder in the left corner in front of a purple wall on red floor is orange\n",
            "the small cylinder in the left corner on red floor in front of a purple wall is orange\n",
            "the small cylinder on red floor in the left corner in front of a purple wall is orange\n",
            "the small cylinder on red floor in front of a purple wall in the left corner is orange\n",
            "the orange cylinder in the left corner in front of a purple wall on red floor is small\n",
            "the orange cylinder in the left corner on red floor in front of a purple wall is small\n",
            "the orange cylinder on red floor in the left corner in front of a purple wall is small\n",
            "the orange cylinder on red floor in front of a purple wall in the left corner is small\n"
          ]
        }
      ],
      "source": [
        "# Retrieve all long-captions for the image ID:\n",
        "\n",
        "all_long_caps = A3DS_dataset.get_labels_for_image(itemID, caption_type='long')\n",
        "for c in all_long_caps:\n",
        "    print(c)"
      ]
    },
    {
      "cell_type": "markdown",
      "metadata": {
        "id": "NDvlGlJLM36I"
      },
      "source": [
        "Finally, let&rsquo;s also have a look at the vocabulary for this A3DS data set:\n",
        "\n"
      ]
    },
    {
      "cell_type": "code",
      "execution_count": null,
      "metadata": {
        "id": "hHjP87jgM36J",
        "outputId": "9077e0be-6ea3-47a2-de28-62abc549edee",
        "colab": {
          "base_uri": "https://localhost:8080/"
        }
      },
      "outputs": [
        {
          "output_type": "stream",
          "name": "stdout",
          "text": [
            "VOCAB:  dict_keys(['START', 'END', 'UNK', 'PAD', 'a', 'tiny', 'red', 'block', 'in', 'the', 'right', 'corner', 'front', 'of', 'wall', 'on', 'floor', 'picture', 'shows', 'standing', 'is', 'close', 'to', 'side', 'near', 'middle', 'nearly', 'left', 'cylinder', 'ball', 'pill', 'small', 'medium', 'sized', 'big', 'large', 'huge', 'giant', 'orange', 'yellow', 'light', 'green', 'dark', 'cyan', 'blue', 'purple', 'pink'])\n",
            "VOCAB SIZE:  47\n"
          ]
        }
      ],
      "source": [
        "vocab = A3DS_dataset.vocab[\"word2idx\"].keys()\n",
        "print(\"VOCAB: \", vocab)\n",
        "\n",
        "vocab_size = len(vocab)\n",
        "print(\"VOCAB SIZE: \", vocab_size)"
      ]
    },
    {
      "cell_type": "markdown",
      "metadata": {
        "id": "xnye08QGM36L"
      },
      "source": [
        "We see that this vocabulary is actually pretty small.\n",
        "\n"
      ]
    },
    {
      "cell_type": "markdown",
      "metadata": {
        "id": "047TruYgM36L"
      },
      "source": [
        "### Creating a &rsquo;DataLoader&rsquo;\n",
        "\n"
      ]
    },
    {
      "cell_type": "markdown",
      "metadata": {
        "id": "LhVHzmaTM36M"
      },
      "source": [
        "Let&rsquo;s create a &rsquo;DataLoader&rsquo; for batches of a specified size, using a random shuffle of the data.\n",
        "\n"
      ]
    },
    {
      "cell_type": "code",
      "execution_count": null,
      "metadata": {
        "id": "QOtIlNV2M36N"
      },
      "outputs": [],
      "source": [
        "batch_size = 50\n",
        "A3DS_data_loader = torch.utils.data.DataLoader(\n",
        "    dataset    = A3DS_dataset,\n",
        "    batch_size = batch_size,\n",
        "    shuffle    = True,\n",
        ")"
      ]
    },
    {
      "cell_type": "markdown",
      "metadata": {
        "id": "wnORcGq9M36N"
      },
      "source": [
        "## The (pre-trained) LSTM NIC\n",
        "\n"
      ]
    },
    {
      "cell_type": "markdown",
      "metadata": {
        "id": "637k0QfzM36O"
      },
      "source": [
        "Definition of the LSTM-based neural image captioner as an instance of PyTorch&rsquo;s &rsquo;nn.Module&rsquo;:\n",
        "\n"
      ]
    },
    {
      "cell_type": "code",
      "execution_count": null,
      "metadata": {
        "id": "mlYepCrHM36P"
      },
      "outputs": [],
      "source": [
        "class DecoderRNN(nn.Module):\n",
        "    def __init__(self, embed_size, hidden_size, vocab_size, visual_embed_size, batch_size=1, num_layers=1):\n",
        "        \"\"\"\n",
        "        Initialize the language module consisting of a one-layer LSTM and\n",
        "        trainable embeddings. The image embeddings (both target and distractor!)\n",
        "        are used as additional context at every step of the training\n",
        "        (prepended to each word embedding).\n",
        "\n",
        "        Args:\n",
        "        -----\n",
        "            embed_size: int\n",
        "                Dimensionality of trainable embeddings.\n",
        "            hidden_size: int\n",
        "                Hidden/ cell state dimensionality of the LSTM.\n",
        "            vocab_size: int\n",
        "                Length of vocabulary.\n",
        "            visual_embed_size: int\n",
        "                Dimensionality of each image embedding to be appended at each time step as additional context.\n",
        "            batch_size: int\n",
        "                Batch size.\n",
        "            num_layers: int\n",
        "                Number of LSTM layers.\n",
        "        \"\"\"\n",
        "        super(DecoderRNN, self).__init__()\n",
        "        self.num_layers = num_layers\n",
        "        self.hidden_size = hidden_size\n",
        "        self.embed_size= embed_size\n",
        "        self.vocabulary_size = vocab_size\n",
        "        self.visual_embed_size = visual_embed_size\n",
        "        # embedding layer\n",
        "        self.embed = nn.Embedding(self.vocabulary_size, self.embed_size)\n",
        "        # layer projecting ResNet features of a single image to desired size\n",
        "        self.project = nn.Linear(2048, self.visual_embed_size)\n",
        "\n",
        "      # LSTM takes as input the word embedding with prepended embeddings of the two images at each time step\n",
        "        # note that the batch dimension comes first\n",
        "        self.lstm = nn.LSTM(self.embed_size + 2*self.visual_embed_size, self.hidden_size , self.num_layers, batch_first=True)\n",
        "        # transforming last lstm hidden state to scores over vocabulary\n",
        "        self.linear = nn.Linear(hidden_size, self.vocabulary_size)\n",
        "\n",
        "        self.batch_size = batch_size\n",
        "        # initial hidden state of the lstm\n",
        "        self.hidden = self.init_hidden(self.batch_size)\n",
        "\n",
        "        # initialization of the layers\n",
        "        self.embed.weight.data.uniform_(-0.1, 0.1)\n",
        "        self.linear.weight.data.uniform_(-0.1, 0.1)\n",
        "        self.linear.bias.data.fill_(0)\n",
        "\n",
        "    def init_hidden(self, batch_size):\n",
        "\n",
        "        \"\"\"\n",
        "        At the start of training, we need to initialize a hidden state;\n",
        "        Defines a hidden state with all zeroes\n",
        "        The axes are (num_layers, batch_size, hidden_size)\n",
        "        \"\"\"\n",
        "        # if torch.backends.mps.is_available():\n",
        "        #     device = torch.device(\"mps\")\n",
        "        # elif torch.cuda.is_available():\n",
        "        #     device = torch.device(\"cuda\")\n",
        "        # else:\n",
        "        #     device = torch.device(\"cpu\")\n",
        "        device = torch.device('cpu')\n",
        "\n",
        "        return (torch.zeros((1, batch_size, self.hidden_size), device=device), \\\n",
        "                torch.zeros((1, batch_size, self.hidden_size), device=device))\n",
        "\n",
        "    def forward(self, features, captions, prev_hidden):\n",
        "        \"\"\"\n",
        "        Perform forward step through the LSTM.\n",
        "\n",
        "        Args:\n",
        "        -----\n",
        "            features: torch.tensor(batch_size, 2, embed_size)\n",
        "                Embeddings of images, target and distractor concatenated in this order.\n",
        "            captions: torch.tensor(batch_size, caption_length)\n",
        "                Lists of indices representing tokens of each caption.\n",
        "            prev_hidden: (torch.tensor(num_layers, batch_size, hidden_size), torch.tensor(num_layers, batch_size, hidden_size))\n",
        "                Tuple containing previous hidden and cell states of the LSTM.\n",
        "        Returns:\n",
        "        ------\n",
        "            outputs: torch.tensor(batch_size, caption_length, embedding_dim)\n",
        "                Scores over vocabulary for each token in each caption.\n",
        "            hidden_state: (torch.tensor(num_layers, batch_size, hidden_size), torch.tensor(num_layers, batch_size, hidden_size))\n",
        "                Tuple containing new hidden and cell state of the LSTM.\n",
        "        \"\"\"\n",
        "\n",
        "        # features of shape (batch_size, 2, 2048)\n",
        "        image_emb = self.project(features) # image_emb should have shape (batch_size, 2, 512)\n",
        "        # concatenate target and distractor embeddings\n",
        "        img_features = torch.cat((image_emb[:, 0, :], image_emb[:, 1, :]), dim=-1).unsqueeze(1)\n",
        "        embeddings = self.embed(captions)\n",
        "        # repeat image features such that they can be prepended to each token\n",
        "        img_features_reps = img_features.repeat(1, embeddings.shape[1], 1)\n",
        "        # PREpend the feature embedding as additional context as first token, assume there is no END token\n",
        "        embeddings = torch.cat((img_features_reps, embeddings), dim=-1)\n",
        "        out, hidden_state = self.lstm(embeddings, prev_hidden)\n",
        "        # project LSTM predictions on to vocab\n",
        "        outputs = self.linear(out) # prediction shape is (batch_size, max_sequence_length, vocab_size)\n",
        "        # print(\"outputs shape in forward \", outputs.shape)\n",
        "        return outputs, hidden_state\n",
        "\n",
        "    def log_prob_helper(self, logits, values):\n",
        "        \"\"\"\n",
        "        Helper function for scoring the sampled token,\n",
        "        because it is not implemented for MPS yet.\n",
        "        Just duplicates source code from PyTorch.\n",
        "        \"\"\"\n",
        "        values = values.long().unsqueeze(-1)\n",
        "        values, log_pmf = torch.broadcast_tensors(values, logits)\n",
        "        values = values[..., :1]\n",
        "        return log_pmf.gather(-1, values).squeeze(-1)\n",
        "\n",
        "    def sample(self, inputs, max_sequence_length):\n",
        "        \"\"\"\n",
        "        Function for sampling a caption during functional (reference game) training.\n",
        "        Implements greedy sampling. Sampling stops when END token is sampled or when max_sequence_length is reached.\n",
        "        Also returns the log probabilities of the action (the sampled caption) for REINFORCE.\n",
        "\n",
        "        Args:\n",
        "        ----\n",
        "            inputs: torch.tensor(1, 1, embed_size)\n",
        "                pre-processed image tensor.\n",
        "            max_sequence_length: int\n",
        "                Max length of sequence which the nodel should generate.\n",
        "        Returns:\n",
        "        ------\n",
        "            output: list\n",
        "                predicted sentence (list of tensor ids).\n",
        "            log_probs: torch.Tensor\n",
        "                log probabilities of the generated tokens (up to and including first END token)\n",
        "            raw_outputs: torch.Tensor\n",
        "                Raw logits for each prediction timestep.\n",
        "            entropies: torch.Tesnor\n",
        "                Entropies at each generation timestep.\n",
        "        \"\"\"\n",
        "\n",
        "        # placeholders for output\n",
        "        output = []\n",
        "        raw_outputs = [] # for structural loss computation\n",
        "        log_probs = []\n",
        "        entropies = []\n",
        "        batch_size = inputs.shape[0]\n",
        "        softmax = nn.Softmax(dim=-1)\n",
        "        init_hiddens = self.init_hidden(batch_size)\n",
        "\n",
        "        # if torch.backends.mps.is_available():\n",
        "        #     device = torch.device(\"mps\")\n",
        "        # elif torch.cuda.is_available():\n",
        "        #     device = torch.device(\"cuda\")\n",
        "        # else:\n",
        "        #     device = torch.device(\"cpu\")\n",
        "        device = torch.device('cpu')\n",
        "\n",
        "        #### start sampling ####\n",
        "        for i in range(max_sequence_length):\n",
        "            if i == 0:\n",
        "                cat_samples = torch.tensor([0]).repeat(batch_size, 1)\n",
        "                hidden_state = init_hiddens\n",
        "\n",
        "            cat_samples = cat_samples.to(device)\n",
        "            inputs = inputs.to(device)\n",
        "\n",
        "            out, hidden_state = self.forward(inputs, cat_samples, hidden_state)\n",
        "            \n",
        "            # get and save probabilities and save raw outputs\n",
        "            raw_outputs.extend(out)\n",
        "            probs = softmax(out)\n",
        "\n",
        "            max_probs, cat_samples = torch.max(probs, dim = -1)\n",
        "            log_p = torch.log(max_probs)\n",
        "            entropy = -log_p * max_probs\n",
        "\n",
        "            top5_probs, top5_inds = torch.topk(probs, 5, dim=-1)\n",
        "\n",
        "            entropies.append(entropy)\n",
        "            output.append(cat_samples)\n",
        "            # cat_samples = torch.cat((cat_samples, cat_samples), dim=-1)\n",
        "            # print(\"Cat samples \", cat_samples)\n",
        "            log_probs.append(log_p)\n",
        "\n",
        "\n",
        "        output = torch.stack(output, dim=-1).squeeze(1)\n",
        "        # stack\n",
        "        log_probs = torch.stack(log_probs, dim=1).squeeze(-1)\n",
        "        entropies = torch.stack(entropies, dim=1).squeeze(-1)\n",
        "\n",
        "        ####\n",
        "        # get effective log prob and entropy values - the ones up to (including) END (word2idx = 1)\n",
        "        # mask positions after END - both entropy and log P should be 0 at those positions\n",
        "        end_mask = output.size(-1) - (torch.eq(output, 1).to(torch.int64).cumsum(dim=1) > 0).sum(dim=-1)\n",
        "        # include the END token\n",
        "        end_inds = end_mask.add_(1).clamp_(max=output.size(-1)) # shape: (batch_size,)\n",
        "        for pos, i in enumerate(end_inds):\n",
        "            # zero out log Ps and entropies\n",
        "            log_probs[pos, i:] = 0\n",
        "            entropies[pos, i:] = 0\n",
        "        ####\n",
        "\n",
        "        raw_outputs = torch.stack(raw_outputs, dim=1).view(batch_size, -1, self.vocabulary_size)\n",
        "        return output, log_probs, raw_outputs, entropies"
      ]
    },
    {
      "cell_type": "markdown",
      "metadata": {
        "id": "dGvq0rIrM36R"
      },
      "source": [
        "Instantiate the module (with appropriate specs), load weights and instantiate weights with pre-trained weights.\n",
        "\n"
      ]
    },
    {
      "cell_type": "code",
      "execution_count": null,
      "metadata": {
        "id": "YukcqZc_M36S",
        "outputId": "ae05f18d-641a-4064-ec5d-a87c539a863d",
        "colab": {
          "base_uri": "https://localhost:8080/"
        }
      },
      "outputs": [
        {
          "output_type": "execute_result",
          "data": {
            "text/plain": [
              "<All keys matched successfully>"
            ]
          },
          "metadata": {},
          "execution_count": 13
        }
      ],
      "source": [
        "# decoder configs\n",
        "embed_size = 512\n",
        "visual_embed_size = 512\n",
        "hidden_size = 512\n",
        "\n",
        "decoder = DecoderRNN(embed_size, hidden_size, vocab_size, visual_embed_size)\n",
        "\n",
        "# Load the trained weights.\n",
        "decoder_file = \"A3DS/pretrained_decoder_3dshapes.pkl\"\n",
        "decoder.load_state_dict(torch.load(decoder_file))"
      ]
    },
    {
      "cell_type": "code",
      "execution_count": null,
      "metadata": {
        "id": "6gl5Gx_wM36T",
        "outputId": "18c1fc56-0eba-4bf1-d49d-be622b3dc0a1",
        "colab": {
          "base_uri": "https://localhost:8080/"
        }
      },
      "outputs": [
        {
          "output_type": "stream",
          "name": "stdout",
          "text": [
            "tensor([ 0,  4, 31, 38, 28,  2,  8,  9, 27, 11,  8, 12, 13,  4, 45, 14, 15,  6,\n",
            "        16,  1,  3,  3,  3,  3,  3,  3])\n"
          ]
        }
      ],
      "source": [
        "itemID=0\n",
        "image, target_feats, caption_text, numeric_lbl, caption_indx = A3DS_dataset.__getitem__(itemID)\n",
        "print(caption_indx)"
      ]
    },
    {
      "cell_type": "markdown",
      "metadata": {
        "id": "IRfZCXQ6M36U"
      },
      "source": [
        "The current NIC module was actually trained for later use of two pictures (contrastive image captioning).\n",
        "Therefore, we need to input the picture to be described not once, but twice.\n",
        "(This is otherwise completely innocuous for our current purposes of single-picture captioning.)\n",
        "\n"
      ]
    },
    {
      "cell_type": "code",
      "execution_count": null,
      "metadata": {
        "id": "eZscJQOyM36V",
        "outputId": "56b7c820-2bb7-4e56-85d6-0107fa4025a9",
        "colab": {
          "base_uri": "https://localhost:8080/"
        }
      },
      "outputs": [
        {
          "output_type": "stream",
          "name": "stdout",
          "text": [
            "The picture shows a small orange cylinder in the left corner in front of a purple wall on red floor\n"
          ]
        }
      ],
      "source": [
        "target_features = target_feats.reshape(1,len(target_feats))\n",
        "both_images     = torch.cat((target_features.unsqueeze(1), target_features.unsqueeze(1)), dim=1)\n",
        "output, _, _, _ = decoder.sample(both_images, caption_indx.shape[0])\n",
        "\n",
        "def clean_sentence(output):\n",
        "    \"\"\"\n",
        "    Helper function for visualization purposes.\n",
        "    Transforms list of token indices to a sentence.\n",
        "    Also accepts mulit-dim tensors (for batch size > 1).\n",
        "\n",
        "    Args:\n",
        "    ----\n",
        "    output: torch.Tensor(batch_size, sentence_length)\n",
        "        Tensor representing sentences in form of token indices.\n",
        "\n",
        "    Returns:\n",
        "    -------\n",
        "    sentence: str\n",
        "        String representing decoded sentences in natural language.\n",
        "    \"\"\"\n",
        "    list_string = []\n",
        "    for idx in output:\n",
        "        for i in idx:\n",
        "            try:\n",
        "                list_string.append(A3DS_dataset.vocab[\"idx2word\"][i.item()])\n",
        "            except ValueError:\n",
        "                for y in i:\n",
        "                    list_string.append(A3DS_dataset.vocab[\"idx2word\"][y.item()])\n",
        "    sentence = ' '.join(list_string) # Convert list of strings to full string\n",
        "    sentence = sentence.capitalize()  # Capitalize the first letter of the first word\n",
        "    # find index of end token for displaying\n",
        "    if \"end\" in sentence:\n",
        "        len_sentence = sentence.split(\" \").index(\"end\")\n",
        "    else:\n",
        "        len_sentence = len(sentence.split(\" \"))\n",
        "    cleaned_sentence = \" \".join(sentence.split()[:len_sentence])\n",
        "    return(cleaned_sentence)\n",
        "\n",
        "print(clean_sentence(output))"
      ]
    },
    {
      "cell_type": "markdown",
      "metadata": {
        "id": "VqStxEx_M36W"
      },
      "source": [
        "> <strong><span style=&ldquo;color:#D83D2B;&rdquo;>Exercise 8.1.1: </span></strong>\n",
        ">\n",
        "> 0. [Just for yourself] Try out different images and generate captions for them. Try to get a feeling for how reliable or good they are. Try to figure out what criteria you use when you intuitively judge a caption as good. Think about what &rsquo;goodness&rsquo; of a generated caption means (also in relation to the ground truth in the training set).\n",
        ">\n",
        "> 1. Describe the architecture of the decoder module that is used in in direct comparison to the set up from the paper [Vinyals et al. (2015)](https://arxiv.org/abs/1411.4555). Highlight at least two differences in model architecture between the model used here and that of Vinyals et al. These differences should all be *major* differences, i.e., differences that *could* plausible have a strong impact on the quality of the results. I.o.w., do not mention trivialities.\n",
        ">\n",
        "> 2. Name at least two things that would be important to know for a direct, close reproduction of Vinyals et al. results that are not or only insufficiently described in the paper.\n",
        "\n"
      ]
    },
    {
      "cell_type": "markdown",
      "source": [
        "### Answer to Exercise 8.1.1.1\n",
        "\n",
        "The architecture of the decoder module:\n",
        "\n",
        "The decoder is LSTM-based. Its core is a memory cell c which encodes knowlegde of what has been observed up to this step at every step. Then, this cell's behaviour is controlled by 3 gates: the forget gate f controls whether to forget the current cell value, the input gate i controls whether to read the input of the cell value, and the output gate o controls whether to output the new cell value. These gates are layers calculated by sigmoid functions on trained parameters and in the end they are to be multiplicated (product) to the either keep the new trained parameter or make it 0 in each step. \n",
        "\n",
        "During the training, a copy of LSTM memory is created for the image and each setence word and each output of LSTM at one step is fed to the next step (feed-forwarded). Each word is represented as a one-hot encoded vector. The image is mapped by a vision CNN, and the words are mapped by word embeddings. Besides, each word is also represented as a one-hot encoded vector of vocabulary size.\n",
        "\n",
        "\n",
        "\n",
        "\n",
        "The weights are trained by stochastic gradient descent with fixed learning rate and no momentum. The loss is calculated by the accumulative negative log likelihoods and are minimized by all LSTM parameters, the word embeddings, and the top layer of CNN. \n",
        "\n",
        "Finally, the sentences are generated by Beam search sampling, with a beam size of 20. \n",
        "\n",
        "It aims to maximize p(S|I), the probability of correct description given the image. And the probability of the sentence S is calculated by the joint probability over S0, S1, ..., St-1. The sum of these log probabilities is then optimized by a stochastic gradient descent. This model is modeled by RNN (Recurrent Neural Network), which has fixed-length hidden states and uses a LSTM (Long-Short Term Memory) net.\n",
        "\n",
        "The images are represented by a CNN (Convolutional Neural Network)."
      ],
      "metadata": {
        "id": "Xq4DHYSC9s4M"
      }
    }
  ],
  "metadata": {
    "org": null,
    "kernelspec": {
      "display_name": "Python 3",
      "language": "python",
      "name": "python3"
    },
    "language_info": {
      "codemirror_mode": {
        "name": "ipython",
        "version": 3
      },
      "file_extension": ".py",
      "mimetype": "text/x-python",
      "name": "python",
      "nbconvert_exporter": "python",
      "pygments_lexer": "ipython3",
      "version": "3.5.2"
    },
    "colab": {
      "provenance": []
    }
  },
  "nbformat": 4,
  "nbformat_minor": 0
}