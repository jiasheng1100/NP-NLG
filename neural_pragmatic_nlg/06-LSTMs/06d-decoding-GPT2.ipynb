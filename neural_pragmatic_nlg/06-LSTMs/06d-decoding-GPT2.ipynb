{
  "cells": [
    {
      "cell_type": "markdown",
      "metadata": {
        "id": "IxBM2kcA__3m"
      },
      "source": [
        "# Sheet 6.3: Decoding strategies\n",
        "\n",
        "Given a (blackbox) function that gives us a next-word probability, how do we use this to generate naturally sounding text?\n",
        "\n",
        "This tutorial explores a bunch of options, using the GPT-2 distribution provided by 🤗's `transformer` package. \n",
        "\n",
        "The tutorial closely follows this blog post: https://huggingface.co/blog/how-to-generate\n",
        "\n",
        "We will look at the following decoding strategies (in this order):\n",
        "\n",
        "1. pure sampling\n",
        "2. soft-max sampling\n",
        "3. greedy sampling\n",
        "4. beam search\n",
        "5. top-$k$ sampling"
      ]
    },
    {
      "cell_type": "markdown",
      "metadata": {
        "id": "IgiDQH32__3t"
      },
      "source": [
        "## Preparation (imports, defs)"
      ]
    },
    {
      "cell_type": "code",
      "execution_count": 3,
      "metadata": {
        "id": "qqrEubui__3v",
        "outputId": "2a32f356-f002-40f1-d162-e8d1d19a8d47",
        "colab": {
          "base_uri": "https://localhost:8080/",
          "height": 182,
          "referenced_widgets": [
            "766bdcb16d944ff9abdc350bc3dafe28",
            "5d821e38193d43e2ae0d75dee6a60f4f",
            "e4f53149322c453d9c9d06ff4f91b54f",
            "6d5455c471f4484db0a4bf2526a1a64e",
            "f6006d99d39742aebc91d7cb48271e6b",
            "11930db90bda4d55808cd5f63e772961",
            "c6f4e40854f04a21badc815a8f0bc223",
            "7a1ed5ff66a0437ca664167adc50d66b",
            "25d248db91cb495a833a93b8107184c0",
            "8952135e5d914e9997c5906938b7b760",
            "089653ddd99245839365c799f13ddf17",
            "aa5a19aecd0546ac97bae0440347bb6e",
            "c0c91feebacc42e0bb33ded36b91c2f6",
            "c5ac0b9043454287b6b21e0c9e1e7ba9",
            "247a707867f64a16b32d2ea81a0b5ab7",
            "7dfed479397e451b9350a385296af4cf",
            "2b99671e74d248ad8a67f375db4aa470",
            "a9b94fc8a7c6434cbc2c587341447928",
            "9c729b5a15c2444db4c429adb35fcff3",
            "f85e1e06d2354104af32ff522f61adec",
            "5a0edcdcc183491aa0c3b13e5e09b907",
            "059a46cee0af46228e1e9cd4b2acec7a",
            "acd0c4e6dc7a42aaad3b0286e245e822",
            "be2ec16598234f7daac8880b2b60caf2",
            "82cbf28b3a1040a3a59a4a957889330f",
            "a74f8e7cc35f4f93975b8a1a7e48e775",
            "c771f70f9fb342f1ae36391af90e709d",
            "67cd5224c0ca441abd097f6c5a614350",
            "4740481851194275ab35d32a10304e83",
            "e0150e791ec14c3e839ec457f953cb74",
            "6db2954c4ea2471f8a627b0693a7c31d",
            "0b3a7e2777b3481290415f9124d9f6cd",
            "c6ac9f2498f843c8862db589150b9a79",
            "1fa814051fd6436889839bddc4df988f",
            "265620d7633c43d2a00ecec51c2cc81c",
            "2293a58170874a62b39a406c162ef102",
            "dc14b3e8474c407eaa714614f558e504",
            "3c65b2b3b4b34c9e804be46cfd2b3c91",
            "cca2ed453b914d1a910c537d01f431e3",
            "f3eb09bac5cc4e0b906fa157edfbf87c",
            "e5357add098d47999f096d3d302cde4e",
            "d2c21e617db64334b53e445742a20e46",
            "77df708fe5cb446a82add4fbee797135",
            "049d220fcc484fb4b8ec09f0a3e243dc"
          ]
        }
      },
      "outputs": [
        {
          "output_type": "display_data",
          "data": {
            "text/plain": [
              "Downloading:   0%|          | 0.00/1.04M [00:00<?, ?B/s]"
            ],
            "application/vnd.jupyter.widget-view+json": {
              "version_major": 2,
              "version_minor": 0,
              "model_id": "766bdcb16d944ff9abdc350bc3dafe28"
            }
          },
          "metadata": {}
        },
        {
          "output_type": "display_data",
          "data": {
            "text/plain": [
              "Downloading:   0%|          | 0.00/456k [00:00<?, ?B/s]"
            ],
            "application/vnd.jupyter.widget-view+json": {
              "version_major": 2,
              "version_minor": 0,
              "model_id": "aa5a19aecd0546ac97bae0440347bb6e"
            }
          },
          "metadata": {}
        },
        {
          "output_type": "display_data",
          "data": {
            "text/plain": [
              "Downloading:   0%|          | 0.00/665 [00:00<?, ?B/s]"
            ],
            "application/vnd.jupyter.widget-view+json": {
              "version_major": 2,
              "version_minor": 0,
              "model_id": "acd0c4e6dc7a42aaad3b0286e245e822"
            }
          },
          "metadata": {}
        },
        {
          "output_type": "display_data",
          "data": {
            "text/plain": [
              "Downloading:   0%|          | 0.00/548M [00:00<?, ?B/s]"
            ],
            "application/vnd.jupyter.widget-view+json": {
              "version_major": 2,
              "version_minor": 0,
              "model_id": "1fa814051fd6436889839bddc4df988f"
            }
          },
          "metadata": {}
        }
      ],
      "source": [
        "\n",
        "# import relevant packages\n",
        "import torch \n",
        "from transformers import GPT2LMHeadModel, GPT2Tokenizer\n",
        "\n",
        "# load the tokenizer\n",
        "tokenizer = GPT2Tokenizer.from_pretrained(\"gpt2\")\n",
        "\n",
        "# add the EOS token as PAD token to avoid warnings\n",
        "model = GPT2LMHeadModel.from_pretrained(\"gpt2\", pad_token_id=tokenizer.eos_token_id)\n",
        "\n",
        "# convenience function for nicer output\n",
        "def pretty_print(s):\n",
        "    print(\"Output:\\n\" + 100 * '-')\n",
        "    print(tokenizer.decode(s, skip_special_tokens=True))\n",
        "\n",
        "# encode context the generation is conditioned on\n",
        "input_ids = tokenizer.encode('I enjoy walking with my cute dog', return_tensors='pt')"
      ]
    },
    {
      "cell_type": "markdown",
      "metadata": {
        "id": "tZ5Kr0dG__3w"
      },
      "source": [
        "## Pure sampling approach\n",
        "\n",
        "In a pure sampling approach, we just sample each next word with exactly the probability assigned to it by the LM. Notice that this process, therefore, is non-determinisitic. We can force replicable results, though, by setting a seed."
      ]
    },
    {
      "cell_type": "code",
      "execution_count": 4,
      "metadata": {
        "id": "5_TY6M8t__3y",
        "outputId": "da8c0f08-aca8-4240-c74d-9b2ed9d5cd36",
        "colab": {
          "base_uri": "https://localhost:8080/"
        }
      },
      "outputs": [
        {
          "output_type": "stream",
          "name": "stdout",
          "text": [
            "Output:\n",
            "----------------------------------------------------------------------------------------------------\n",
            "I enjoy walking with my cute dog. Please don't dirty it. It will roll with my stove cup on the back. Stop ch5kz cold: if using a stove after plating your eggs we might put a lot uam? I\n"
          ]
        }
      ],
      "source": [
        "# set a seed for reproducibility (if you want)\n",
        "# torch.manual_seed(1996)\n",
        "\n",
        "# use function 'model.generate' from `transformer` package to sample by\n",
        "#  setting `do_sample=True` and knocking out `top_k` sampling (see below)\n",
        "sample_output = model.generate(\n",
        "    input_ids,        # context to continue\n",
        "    do_sample=True,   # use sampling (not beam search (see below))\n",
        "    max_length=50,    # return maximally 50 words (including the input given)\n",
        "    top_k=0           # just sample one word\n",
        ")\n",
        "\n",
        "pretty_print(sample_output[0])"
      ]
    },
    {
      "cell_type": "markdown",
      "metadata": {
        "id": "C1KaKrm4__3z"
      },
      "source": [
        "> <strong><span style=&ldquo;color:#D83D2B;&rdquo;>Exercise 6.3.1: </span></strong>\n",
        ">\n",
        "> 1. How good is this production? Is it grammatical? Locally meaningful, globally meaningful?\n",
        ">\n",
        "> 2. [optional] Try sampling 100 single next-words for your initial sentence fragment. (Remember not to set a seed.) "
      ]
    },
    {
      "cell_type": "markdown",
      "source": [
        "#### Answers:\n",
        "**Exercise 6.3.2.1**\n",
        "\n",
        "The production is rather acceptable. \n",
        "- The sentences are generally grammatical. \n",
        "- Some of them seem to be locally meaningful, but some others not. \n",
        "- All of them are not globally meaningful.\n",
        "\n",
        "**Exercise 6.3.2.2**"
      ],
      "metadata": {
        "id": "e8VVRqKAA05Z"
      }
    },
    {
      "cell_type": "code",
      "source": [
        "# sample 100 single next-words for the initial sentence fragment\n",
        "sample_output = model.generate(\n",
        "    input_ids,        # context to continue\n",
        "    do_sample=True,   # use sampling (not beam search (see below))\n",
        "    max_length=100,    # return maximally 50 words (including the input given)\n",
        "    top_k=0           # just sample one word\n",
        ")\n",
        "\n",
        "pretty_print(sample_output[0])"
      ],
      "metadata": {
        "id": "Dw1KfivmB1jh",
        "outputId": "7c6e8109-00e0-490b-f3b9-619d8605a88e",
        "colab": {
          "base_uri": "https://localhost:8080/"
        }
      },
      "execution_count": 5,
      "outputs": [
        {
          "output_type": "stream",
          "name": "stdout",
          "text": [
            "Output:\n",
            "----------------------------------------------------------------------------------------------------\n",
            "I enjoy walking with my cute dog. Because it had such a smile on its face, I both laughed and took it to bed without missing a beat.\n",
            "\n",
            "So, now that you're active, do you have a four for six answer please? Then let's go get your four for four on Facebook!\n",
            "\n",
            "\n",
            "Best placed to reach you if you have recipes for Spices Print this recipe OH MY GOD it's such a great breakfast thing! Prep Time 15 minutes Cook Time 5 minutes Total\n"
          ]
        }
      ]
    },
    {
      "cell_type": "markdown",
      "metadata": {
        "id": "6Vv0LKvM__30"
      },
      "source": [
        "# Soft-max sampling\n",
        "\n",
        "In soft-max sampling, the probablity of sampling word $w_i$ is $P_{\\text{sample}}(w_i \\mid w_{1:i-1}) \\propto \\exp (\\frac{1}{\\tau} P_{\\text{M}}(w_i \\mid w_{1:i-1}) )$, where $\\tau$ is a temperature parameter.\n"
      ]
    },
    {
      "cell_type": "code",
      "execution_count": 7,
      "metadata": {
        "id": "CKpfpxqP__31",
        "outputId": "ad62e3f0-3e04-49b7-e948-b2943c889cc7",
        "colab": {
          "base_uri": "https://localhost:8080/"
        }
      },
      "outputs": [
        {
          "output_type": "stream",
          "name": "stdout",
          "text": [
            "Output:\n",
            "----------------------------------------------------------------------------------------------------\n",
            "I enjoy walking with my cute dog in the city and occasionally check out a movie at the theater, but I'm not my biggest fan of the city,\" she said.\n",
            "\n",
            "At the same time, she said, she is more concerned with the\n"
          ]
        }
      ],
      "source": [
        "\n",
        "# same as before but with `temperature`` parameter\n",
        "SM_sample_output = model.generate(\n",
        "    input_ids,        # context to continue\n",
        "    do_sample=True,   # use sampling (not beam search (see below))\n",
        "    max_length=50,    # return maximally 50 words (including the input given)\n",
        "    top_k=0,          # just sample one word\n",
        "    temperature=0.7   # soft-max temperature parameter\n",
        ")\n",
        "\n",
        "pretty_print(SM_sample_output[0])"
      ]
    },
    {
      "cell_type": "markdown",
      "metadata": {
        "id": "Cc2Cr4v5__32"
      },
      "source": [
        "> <strong><span style=&ldquo;color:#D83D2B;&rdquo;>Exercise 6.3.2: </span></strong>\n",
        ">\n",
        "> 1. How good is this production? Is it grammatical? Locally meaningful, globally meaningful?\n",
        ">\n",
        "> 2. Predict what will happen if you set $\\tau=5$. Try it out."
      ]
    },
    {
      "cell_type": "markdown",
      "source": [
        "#### Answers:\n",
        "**Exercise 6.3.3.1**\n",
        "\n",
        "The production seems to be better than that of pure sampling. \n",
        "- The sentences are all grammatical. \n",
        "- They are all more or less locally meaningful. \n",
        "- The two sentences seem to be globally meaningful.\n",
        "\n",
        "**Exercise 6.3.3.2**\n",
        "\n",
        "- If I lower the temperature, the probabilities in the probability distribution would be more distant to each other. When applying that to a sentence generator, it might be that the generated sentence would be more deterministic, more rigid, has higher probabilities but less variaties.\n",
        "- Try that out (see below):"
      ],
      "metadata": {
        "id": "Wd5288t7Cn-O"
      }
    },
    {
      "cell_type": "code",
      "source": [
        "# same as before but with `temperature`` parameter\n",
        "SM_sample_output = model.generate(\n",
        "    input_ids,        # context to continue\n",
        "    do_sample=True,   # use sampling (not beam search (see below))\n",
        "    max_length=50,    # return maximally 50 words (including the input given)\n",
        "    top_k=0,          # just sample one word\n",
        "    temperature=0.5   # soft-max temperature parameter\n",
        ")\n",
        "\n",
        "pretty_print(SM_sample_output[0])"
      ],
      "metadata": {
        "id": "aIOOQG5OEWTJ",
        "outputId": "891a08ad-5277-4a42-ea79-2f1e864dfc2b",
        "colab": {
          "base_uri": "https://localhost:8080/"
        }
      },
      "execution_count": 8,
      "outputs": [
        {
          "output_type": "stream",
          "name": "stdout",
          "text": [
            "Output:\n",
            "----------------------------------------------------------------------------------------------------\n",
            "I enjoy walking with my cute dog, but I'm not sure if she's going to be a happy dog. I'm not sure if she's going to be a happy dog, but I'm not sure if she's going to be a happy\n"
          ]
        }
      ]
    },
    {
      "cell_type": "markdown",
      "metadata": {
        "id": "ZvMp2AYE__34"
      },
      "source": [
        "## Greedy sampling\n",
        "\n",
        "In greedy sampling, we don't actually sample but just take the most likely next-word at every step.\n",
        "Greedy sampling is equivalent to setting $\\tau=0$ for soft-max sampling."
      ]
    },
    {
      "cell_type": "code",
      "execution_count": 9,
      "metadata": {
        "id": "5tGz4Ulj__34",
        "outputId": "785b77f4-0382-41ad-a196-9929c0fb08bd",
        "colab": {
          "base_uri": "https://localhost:8080/"
        }
      },
      "outputs": [
        {
          "output_type": "stream",
          "name": "stdout",
          "text": [
            "Output:\n",
            "----------------------------------------------------------------------------------------------------\n",
            "I enjoy walking with my cute dog, but I'm not sure if I'll ever be able to walk with my dog. I'm not sure if I'll ever be able to walk with my dog.\n",
            "\n",
            "I'm not sure if I'll\n"
          ]
        }
      ],
      "source": [
        "# greedy sampling is the default of the `model.generate` function\n",
        "\n",
        "greedy_output = model.generate(input_ids, max_length=50)\n",
        "\n",
        "pretty_print(greedy_output[0])  \n"
      ]
    },
    {
      "cell_type": "markdown",
      "metadata": {
        "id": "-0T279wy__35"
      },
      "source": [
        "> <strong><span style=&ldquo;color:#D83D2B;&rdquo;>Exercise 6.3.3: </span></strong>\n",
        ">\n",
        "> 1. How good is this production? Is it grammatical? Locally meaningful, globally meaningful?\n",
        ">\n",
        "> 2. Is greedy sampling guaranteed to select the most likely sequence? Or can it be led astray?"
      ]
    },
    {
      "cell_type": "markdown",
      "source": [
        "#### Answers:\n",
        "**Exercise 6.3.1.1**\n",
        "\n",
        "The production seems to be acceptable, however, it is highly repetitive and seems to be trapped in a loop. \n",
        "- The sentences are all grammatical. \n",
        "- They seem to be locally meaningful. \n",
        "- The sentences following are simply repeating itself, so it probably should be considered as globally meaningful\n",
        "\n",
        "**Exercise 6.3.1.2**\n",
        "\n",
        "- I believe that the greedy sampling is guaranteed to select the most likely next word, at least within a certain range. \n",
        "- However, it would behavely badly if there would be a recursion occuring within the sequence. That also happened to me when I did my parsing homework, in my case that led to an endless while loop that never terminates because it was trapped in a loop and the EOS symbol was never achieved."
      ],
      "metadata": {
        "id": "hQfNE8fREvXr"
      }
    },
    {
      "cell_type": "markdown",
      "metadata": {
        "id": "cvykx3_8__36"
      },
      "source": [
        "## Beam search\n",
        "\n",
        "In simplified terms, beam search is a parallel search procedure that keeps a number $k$ of path probabilities open at each choice point, dropping the least likely as we go along. (There is actually no unanimity in what exactly beam search means for NLG.)"
      ]
    },
    {
      "cell_type": "code",
      "execution_count": 10,
      "metadata": {
        "id": "2fM9MpKm__36",
        "outputId": "58db276c-85cd-4144-c3b6-898965828d22",
        "colab": {
          "base_uri": "https://localhost:8080/"
        }
      },
      "outputs": [
        {
          "output_type": "stream",
          "name": "stdout",
          "text": [
            "Output:\n",
            "----------------------------------------------------------------------------------------------------\n",
            "I enjoy walking with my cute dog, but I'm not sure if I'll ever be able to walk with him again.\n",
            "\n",
            "I'm not sure if I'll ever be able to walk with him again. I'm not sure if I'll\n"
          ]
        }
      ],
      "source": [
        "# option `early_stopping` implies stopping when all beams reach the end-of-sentence token\n",
        "beam_output = model.generate(\n",
        "    input_ids, \n",
        "    max_length=50, \n",
        "    num_beams=5, \n",
        "    early_stopping=True\n",
        ") \n",
        "\n",
        "pretty_print(beam_output[0])"
      ]
    },
    {
      "cell_type": "markdown",
      "metadata": {
        "id": "ueFa_8am__38"
      },
      "source": [
        "> <strong><span style=&ldquo;color:#D83D2B;&rdquo;>Exercise 6.3.4: </span></strong>\n",
        ">\n",
        "> 1. How good is this production? Is it grammatical? Locally meaningful, globally meaningful?\n",
        ">\n",
        "> 2. Try out the option `no_repeat_ngram_size=2` and see if it improves the results. This option supresses generation of $n$-grams of the given size. Play around with the number $n$ supplied."
      ]
    },
    {
      "cell_type": "markdown",
      "source": [
        "#### Answers:\n",
        "**Exercise 6.3.4.1**\n",
        "\n",
        "The production is similar to that of greedy sampling, with one small improvement: it replaces \"my dog\" by \"him\". It is acceptable, but seems to also be trapped in a loop. \n",
        "- The sentences are all grammatical. \n",
        "- They are locally meaningful. \n",
        "- The are repetitive and might not be so meaningful globally.\n",
        "\n",
        "**Exercise 6.3.4.2**\n",
        "- After using the no_repeat_ngram_size option, the results are indeed improved. Now there are no repetitions and the production seems to be grammatical and meaningful.\n",
        "- See below for the exact code and output."
      ],
      "metadata": {
        "id": "IlxV6KsXGtML"
      }
    },
    {
      "cell_type": "code",
      "source": [
        "# try the no_repeat_ngram option\n",
        "beam_output = model.generate(\n",
        "    input_ids, \n",
        "    max_length=50, \n",
        "    num_beams=5, \n",
        "    early_stopping=True,\n",
        "    no_repeat_ngram_size=2\n",
        ") \n",
        "\n",
        "pretty_print(beam_output[0])"
      ],
      "metadata": {
        "id": "VK8uAwYYHkvv",
        "outputId": "2d6a450d-afcf-4248-e85a-8796f4f5ffe2",
        "colab": {
          "base_uri": "https://localhost:8080/"
        }
      },
      "execution_count": 11,
      "outputs": [
        {
          "output_type": "stream",
          "name": "stdout",
          "text": [
            "Output:\n",
            "----------------------------------------------------------------------------------------------------\n",
            "I enjoy walking with my cute dog, but I'm not sure if I'll ever be able to walk with him again.\n",
            "\n",
            "I've been thinking about this for a while now, and I think it's time for me to take a break\n"
          ]
        }
      ]
    },
    {
      "cell_type": "code",
      "source": [
        "# try increase the size\n",
        "beam_output = model.generate(\n",
        "    input_ids, \n",
        "    max_length=50, \n",
        "    num_beams=5, \n",
        "    early_stopping=True,\n",
        "    no_repeat_ngram_size=3\n",
        ") \n",
        "\n",
        "pretty_print(beam_output[0])"
      ],
      "metadata": {
        "id": "J5zYSOcXIO5H",
        "outputId": "ad442436-97c7-407b-8725-41f308e8a5a2",
        "colab": {
          "base_uri": "https://localhost:8080/"
        }
      },
      "execution_count": 12,
      "outputs": [
        {
          "output_type": "stream",
          "name": "stdout",
          "text": [
            "Output:\n",
            "----------------------------------------------------------------------------------------------------\n",
            "I enjoy walking with my cute dog, but I'm not sure if I'll ever be able to walk with him again.\n",
            "\n",
            "I've been doing this for a few years now, and I've never had a problem with it. I've\n"
          ]
        }
      ]
    },
    {
      "cell_type": "markdown",
      "metadata": {
        "id": "9HvzixqQ__39"
      },
      "source": [
        "## Top-$k$ sampling\n",
        "\n",
        "This sampling scheme looks at the $k$ most likely next-words and samples from so that:\n",
        "\n",
        "$$P_{\\text{sample}}(w_i \\mid w_{1:i-1}) \\propto \n",
        "\\begin{cases} \n",
        "  P_{M}(w_i \\mid w_{1:i-1}) & \\text{if } w_i \\text{ in top-}k  \\\\\n",
        "  0 & \\text{otherwise}\n",
        "\\end{cases}$$"
      ]
    },
    {
      "cell_type": "code",
      "execution_count": null,
      "metadata": {
        "id": "r-ddBrp8__3-",
        "outputId": "a7b841c2-39d1-4a86-96aa-8e8db3c40bd2"
      },
      "outputs": [
        {
          "name": "stdout",
          "output_type": "stream",
          "text": [
            "Output:\n",
            "----------------------------------------------------------------------------------------------------\n",
            "I enjoy walking with my cute dog, but it's not for me to try to please a puppy.\"\n",
            "\n",
            "Michele, who lives in Fort Meade, Ga., said she never really wanted to \"lose the love\" of her\n"
          ]
        }
      ],
      "source": [
        "top_k_output = model.generate(\n",
        "    input_ids, \n",
        "    do_sample=True, \n",
        "    max_length=50, \n",
        "    top_k=50          # setting `top_k` option triggers top-k sampling\n",
        ")\n",
        "\n",
        "pretty_print(top_k_output[0])"
      ]
    },
    {
      "cell_type": "markdown",
      "metadata": {
        "id": "Argbs-sk__4A"
      },
      "source": [
        "*Task*: \n",
        "\n",
        "How good is this production? Is it grammatical? Locally meaningful, globally meaningful?"
      ]
    },
    {
      "cell_type": "markdown",
      "metadata": {
        "id": "tOQdI0E___4A"
      },
      "source": [
        "> <strong><span style=&ldquo;color:#D83D2B;&rdquo;>Exercise 6.3.5: </span></strong>\n",
        ">\n",
        "> 1. How good is this production? Is it grammatical? Locally meaningful, globally meaningful?"
      ]
    },
    {
      "cell_type": "markdown",
      "metadata": {
        "id": "7YR1SJfq__4A"
      },
      "source": [
        "## Top-$p$ sampling\n",
        "\n",
        "Top-$p$ sampling is similar to top-$k$ sampling, but restricts sampling not to the top-$k$ most likely words (so always the same number of words), but the set of most likely words the summed probability of which exceeds threshold $p$."
      ]
    },
    {
      "cell_type": "code",
      "execution_count": null,
      "metadata": {
        "id": "fW1jnZ4R__4B",
        "outputId": "181c7eca-10db-4a48-be29-d7d5ee0ccbf2"
      },
      "outputs": [
        {
          "name": "stdout",
          "output_type": "stream",
          "text": [
            "Output:\n",
            "----------------------------------------------------------------------------------------------------\n",
            "I enjoy walking with my cute dog and he's a really nice person. The second time we got to our house, my mother came over and brought a bucket of water. I'm very happy with it. She was just a little upset that I\n"
          ]
        }
      ],
      "source": [
        "top_k_output = model.generate(\n",
        "    input_ids, \n",
        "    do_sample=True, \n",
        "    max_length=50, \n",
        "    top_p=0.9        # set the top-p parameter here\n",
        ")\n",
        "\n",
        "pretty_print(top_k_output[0])"
      ]
    },
    {
      "cell_type": "markdown",
      "metadata": {
        "id": "xNOl2FRn__4B"
      },
      "source": [
        "> <strong><span style=&ldquo;color:#D83D2B;&rdquo;>Exercise 6.3.6: </span></strong>\n",
        ">\n",
        "> 1. How good (grammatical, locally and globally coherent) is this output?\n",
        ">\n",
        "> 2. In which cases would the next-word predictions of top-$k$ and top-$p$ divergence quite a bit?"
      ]
    },
    {
      "cell_type": "markdown",
      "metadata": {
        "id": "Lln9Ea7x__4C"
      },
      "source": [
        "> <strong><span style=&ldquo;color:#D83D2B;&rdquo;>Exercise 6.3.7: Comparison of different decoding schemes. </span></strong>\n",
        ">\n",
        "> 1. Which of the decoding schemes included in this work sheet is a special case of which other decoding scheme(s)? E.g., X is a special case of Y if the behavior of Y is obtained when we set certain paramters of X to specific values."
      ]
    }
  ],
  "metadata": {
    "interpreter": {
      "hash": "1c7434731747d88815ea98a4470429bf1ebbf9287f8433fda1e0ecccc300fe0c"
    },
    "kernelspec": {
      "display_name": "Python 3.9.7 ('base')",
      "language": "python",
      "name": "python3"
    },
    "language_info": {
      "codemirror_mode": {
        "name": "ipython",
        "version": 3
      },
      "file_extension": ".py",
      "mimetype": "text/x-python",
      "name": "python",
      "nbconvert_exporter": "python",
      "pygments_lexer": "ipython3",
      "version": "3.9.7"
    },
    "orig_nbformat": 4,
    "colab": {
      "provenance": []
    },
    "widgets": {
      "application/vnd.jupyter.widget-state+json": {
        "766bdcb16d944ff9abdc350bc3dafe28": {
          "model_module": "@jupyter-widgets/controls",
          "model_name": "HBoxModel",
          "model_module_version": "1.5.0",
          "state": {
            "_dom_classes": [],
            "_model_module": "@jupyter-widgets/controls",
            "_model_module_version": "1.5.0",
            "_model_name": "HBoxModel",
            "_view_count": null,
            "_view_module": "@jupyter-widgets/controls",
            "_view_module_version": "1.5.0",
            "_view_name": "HBoxView",
            "box_style": "",
            "children": [
              "IPY_MODEL_5d821e38193d43e2ae0d75dee6a60f4f",
              "IPY_MODEL_e4f53149322c453d9c9d06ff4f91b54f",
              "IPY_MODEL_6d5455c471f4484db0a4bf2526a1a64e"
            ],
            "layout": "IPY_MODEL_f6006d99d39742aebc91d7cb48271e6b"
          }
        },
        "5d821e38193d43e2ae0d75dee6a60f4f": {
          "model_module": "@jupyter-widgets/controls",
          "model_name": "HTMLModel",
          "model_module_version": "1.5.0",
          "state": {
            "_dom_classes": [],
            "_model_module": "@jupyter-widgets/controls",
            "_model_module_version": "1.5.0",
            "_model_name": "HTMLModel",
            "_view_count": null,
            "_view_module": "@jupyter-widgets/controls",
            "_view_module_version": "1.5.0",
            "_view_name": "HTMLView",
            "description": "",
            "description_tooltip": null,
            "layout": "IPY_MODEL_11930db90bda4d55808cd5f63e772961",
            "placeholder": "​",
            "style": "IPY_MODEL_c6f4e40854f04a21badc815a8f0bc223",
            "value": "Downloading: 100%"
          }
        },
        "e4f53149322c453d9c9d06ff4f91b54f": {
          "model_module": "@jupyter-widgets/controls",
          "model_name": "FloatProgressModel",
          "model_module_version": "1.5.0",
          "state": {
            "_dom_classes": [],
            "_model_module": "@jupyter-widgets/controls",
            "_model_module_version": "1.5.0",
            "_model_name": "FloatProgressModel",
            "_view_count": null,
            "_view_module": "@jupyter-widgets/controls",
            "_view_module_version": "1.5.0",
            "_view_name": "ProgressView",
            "bar_style": "success",
            "description": "",
            "description_tooltip": null,
            "layout": "IPY_MODEL_7a1ed5ff66a0437ca664167adc50d66b",
            "max": 1042301,
            "min": 0,
            "orientation": "horizontal",
            "style": "IPY_MODEL_25d248db91cb495a833a93b8107184c0",
            "value": 1042301
          }
        },
        "6d5455c471f4484db0a4bf2526a1a64e": {
          "model_module": "@jupyter-widgets/controls",
          "model_name": "HTMLModel",
          "model_module_version": "1.5.0",
          "state": {
            "_dom_classes": [],
            "_model_module": "@jupyter-widgets/controls",
            "_model_module_version": "1.5.0",
            "_model_name": "HTMLModel",
            "_view_count": null,
            "_view_module": "@jupyter-widgets/controls",
            "_view_module_version": "1.5.0",
            "_view_name": "HTMLView",
            "description": "",
            "description_tooltip": null,
            "layout": "IPY_MODEL_8952135e5d914e9997c5906938b7b760",
            "placeholder": "​",
            "style": "IPY_MODEL_089653ddd99245839365c799f13ddf17",
            "value": " 1.04M/1.04M [00:00&lt;00:00, 4.21MB/s]"
          }
        },
        "f6006d99d39742aebc91d7cb48271e6b": {
          "model_module": "@jupyter-widgets/base",
          "model_name": "LayoutModel",
          "model_module_version": "1.2.0",
          "state": {
            "_model_module": "@jupyter-widgets/base",
            "_model_module_version": "1.2.0",
            "_model_name": "LayoutModel",
            "_view_count": null,
            "_view_module": "@jupyter-widgets/base",
            "_view_module_version": "1.2.0",
            "_view_name": "LayoutView",
            "align_content": null,
            "align_items": null,
            "align_self": null,
            "border": null,
            "bottom": null,
            "display": null,
            "flex": null,
            "flex_flow": null,
            "grid_area": null,
            "grid_auto_columns": null,
            "grid_auto_flow": null,
            "grid_auto_rows": null,
            "grid_column": null,
            "grid_gap": null,
            "grid_row": null,
            "grid_template_areas": null,
            "grid_template_columns": null,
            "grid_template_rows": null,
            "height": null,
            "justify_content": null,
            "justify_items": null,
            "left": null,
            "margin": null,
            "max_height": null,
            "max_width": null,
            "min_height": null,
            "min_width": null,
            "object_fit": null,
            "object_position": null,
            "order": null,
            "overflow": null,
            "overflow_x": null,
            "overflow_y": null,
            "padding": null,
            "right": null,
            "top": null,
            "visibility": null,
            "width": null
          }
        },
        "11930db90bda4d55808cd5f63e772961": {
          "model_module": "@jupyter-widgets/base",
          "model_name": "LayoutModel",
          "model_module_version": "1.2.0",
          "state": {
            "_model_module": "@jupyter-widgets/base",
            "_model_module_version": "1.2.0",
            "_model_name": "LayoutModel",
            "_view_count": null,
            "_view_module": "@jupyter-widgets/base",
            "_view_module_version": "1.2.0",
            "_view_name": "LayoutView",
            "align_content": null,
            "align_items": null,
            "align_self": null,
            "border": null,
            "bottom": null,
            "display": null,
            "flex": null,
            "flex_flow": null,
            "grid_area": null,
            "grid_auto_columns": null,
            "grid_auto_flow": null,
            "grid_auto_rows": null,
            "grid_column": null,
            "grid_gap": null,
            "grid_row": null,
            "grid_template_areas": null,
            "grid_template_columns": null,
            "grid_template_rows": null,
            "height": null,
            "justify_content": null,
            "justify_items": null,
            "left": null,
            "margin": null,
            "max_height": null,
            "max_width": null,
            "min_height": null,
            "min_width": null,
            "object_fit": null,
            "object_position": null,
            "order": null,
            "overflow": null,
            "overflow_x": null,
            "overflow_y": null,
            "padding": null,
            "right": null,
            "top": null,
            "visibility": null,
            "width": null
          }
        },
        "c6f4e40854f04a21badc815a8f0bc223": {
          "model_module": "@jupyter-widgets/controls",
          "model_name": "DescriptionStyleModel",
          "model_module_version": "1.5.0",
          "state": {
            "_model_module": "@jupyter-widgets/controls",
            "_model_module_version": "1.5.0",
            "_model_name": "DescriptionStyleModel",
            "_view_count": null,
            "_view_module": "@jupyter-widgets/base",
            "_view_module_version": "1.2.0",
            "_view_name": "StyleView",
            "description_width": ""
          }
        },
        "7a1ed5ff66a0437ca664167adc50d66b": {
          "model_module": "@jupyter-widgets/base",
          "model_name": "LayoutModel",
          "model_module_version": "1.2.0",
          "state": {
            "_model_module": "@jupyter-widgets/base",
            "_model_module_version": "1.2.0",
            "_model_name": "LayoutModel",
            "_view_count": null,
            "_view_module": "@jupyter-widgets/base",
            "_view_module_version": "1.2.0",
            "_view_name": "LayoutView",
            "align_content": null,
            "align_items": null,
            "align_self": null,
            "border": null,
            "bottom": null,
            "display": null,
            "flex": null,
            "flex_flow": null,
            "grid_area": null,
            "grid_auto_columns": null,
            "grid_auto_flow": null,
            "grid_auto_rows": null,
            "grid_column": null,
            "grid_gap": null,
            "grid_row": null,
            "grid_template_areas": null,
            "grid_template_columns": null,
            "grid_template_rows": null,
            "height": null,
            "justify_content": null,
            "justify_items": null,
            "left": null,
            "margin": null,
            "max_height": null,
            "max_width": null,
            "min_height": null,
            "min_width": null,
            "object_fit": null,
            "object_position": null,
            "order": null,
            "overflow": null,
            "overflow_x": null,
            "overflow_y": null,
            "padding": null,
            "right": null,
            "top": null,
            "visibility": null,
            "width": null
          }
        },
        "25d248db91cb495a833a93b8107184c0": {
          "model_module": "@jupyter-widgets/controls",
          "model_name": "ProgressStyleModel",
          "model_module_version": "1.5.0",
          "state": {
            "_model_module": "@jupyter-widgets/controls",
            "_model_module_version": "1.5.0",
            "_model_name": "ProgressStyleModel",
            "_view_count": null,
            "_view_module": "@jupyter-widgets/base",
            "_view_module_version": "1.2.0",
            "_view_name": "StyleView",
            "bar_color": null,
            "description_width": ""
          }
        },
        "8952135e5d914e9997c5906938b7b760": {
          "model_module": "@jupyter-widgets/base",
          "model_name": "LayoutModel",
          "model_module_version": "1.2.0",
          "state": {
            "_model_module": "@jupyter-widgets/base",
            "_model_module_version": "1.2.0",
            "_model_name": "LayoutModel",
            "_view_count": null,
            "_view_module": "@jupyter-widgets/base",
            "_view_module_version": "1.2.0",
            "_view_name": "LayoutView",
            "align_content": null,
            "align_items": null,
            "align_self": null,
            "border": null,
            "bottom": null,
            "display": null,
            "flex": null,
            "flex_flow": null,
            "grid_area": null,
            "grid_auto_columns": null,
            "grid_auto_flow": null,
            "grid_auto_rows": null,
            "grid_column": null,
            "grid_gap": null,
            "grid_row": null,
            "grid_template_areas": null,
            "grid_template_columns": null,
            "grid_template_rows": null,
            "height": null,
            "justify_content": null,
            "justify_items": null,
            "left": null,
            "margin": null,
            "max_height": null,
            "max_width": null,
            "min_height": null,
            "min_width": null,
            "object_fit": null,
            "object_position": null,
            "order": null,
            "overflow": null,
            "overflow_x": null,
            "overflow_y": null,
            "padding": null,
            "right": null,
            "top": null,
            "visibility": null,
            "width": null
          }
        },
        "089653ddd99245839365c799f13ddf17": {
          "model_module": "@jupyter-widgets/controls",
          "model_name": "DescriptionStyleModel",
          "model_module_version": "1.5.0",
          "state": {
            "_model_module": "@jupyter-widgets/controls",
            "_model_module_version": "1.5.0",
            "_model_name": "DescriptionStyleModel",
            "_view_count": null,
            "_view_module": "@jupyter-widgets/base",
            "_view_module_version": "1.2.0",
            "_view_name": "StyleView",
            "description_width": ""
          }
        },
        "aa5a19aecd0546ac97bae0440347bb6e": {
          "model_module": "@jupyter-widgets/controls",
          "model_name": "HBoxModel",
          "model_module_version": "1.5.0",
          "state": {
            "_dom_classes": [],
            "_model_module": "@jupyter-widgets/controls",
            "_model_module_version": "1.5.0",
            "_model_name": "HBoxModel",
            "_view_count": null,
            "_view_module": "@jupyter-widgets/controls",
            "_view_module_version": "1.5.0",
            "_view_name": "HBoxView",
            "box_style": "",
            "children": [
              "IPY_MODEL_c0c91feebacc42e0bb33ded36b91c2f6",
              "IPY_MODEL_c5ac0b9043454287b6b21e0c9e1e7ba9",
              "IPY_MODEL_247a707867f64a16b32d2ea81a0b5ab7"
            ],
            "layout": "IPY_MODEL_7dfed479397e451b9350a385296af4cf"
          }
        },
        "c0c91feebacc42e0bb33ded36b91c2f6": {
          "model_module": "@jupyter-widgets/controls",
          "model_name": "HTMLModel",
          "model_module_version": "1.5.0",
          "state": {
            "_dom_classes": [],
            "_model_module": "@jupyter-widgets/controls",
            "_model_module_version": "1.5.0",
            "_model_name": "HTMLModel",
            "_view_count": null,
            "_view_module": "@jupyter-widgets/controls",
            "_view_module_version": "1.5.0",
            "_view_name": "HTMLView",
            "description": "",
            "description_tooltip": null,
            "layout": "IPY_MODEL_2b99671e74d248ad8a67f375db4aa470",
            "placeholder": "​",
            "style": "IPY_MODEL_a9b94fc8a7c6434cbc2c587341447928",
            "value": "Downloading: 100%"
          }
        },
        "c5ac0b9043454287b6b21e0c9e1e7ba9": {
          "model_module": "@jupyter-widgets/controls",
          "model_name": "FloatProgressModel",
          "model_module_version": "1.5.0",
          "state": {
            "_dom_classes": [],
            "_model_module": "@jupyter-widgets/controls",
            "_model_module_version": "1.5.0",
            "_model_name": "FloatProgressModel",
            "_view_count": null,
            "_view_module": "@jupyter-widgets/controls",
            "_view_module_version": "1.5.0",
            "_view_name": "ProgressView",
            "bar_style": "success",
            "description": "",
            "description_tooltip": null,
            "layout": "IPY_MODEL_9c729b5a15c2444db4c429adb35fcff3",
            "max": 456318,
            "min": 0,
            "orientation": "horizontal",
            "style": "IPY_MODEL_f85e1e06d2354104af32ff522f61adec",
            "value": 456318
          }
        },
        "247a707867f64a16b32d2ea81a0b5ab7": {
          "model_module": "@jupyter-widgets/controls",
          "model_name": "HTMLModel",
          "model_module_version": "1.5.0",
          "state": {
            "_dom_classes": [],
            "_model_module": "@jupyter-widgets/controls",
            "_model_module_version": "1.5.0",
            "_model_name": "HTMLModel",
            "_view_count": null,
            "_view_module": "@jupyter-widgets/controls",
            "_view_module_version": "1.5.0",
            "_view_name": "HTMLView",
            "description": "",
            "description_tooltip": null,
            "layout": "IPY_MODEL_5a0edcdcc183491aa0c3b13e5e09b907",
            "placeholder": "​",
            "style": "IPY_MODEL_059a46cee0af46228e1e9cd4b2acec7a",
            "value": " 456k/456k [00:00&lt;00:00, 741kB/s]"
          }
        },
        "7dfed479397e451b9350a385296af4cf": {
          "model_module": "@jupyter-widgets/base",
          "model_name": "LayoutModel",
          "model_module_version": "1.2.0",
          "state": {
            "_model_module": "@jupyter-widgets/base",
            "_model_module_version": "1.2.0",
            "_model_name": "LayoutModel",
            "_view_count": null,
            "_view_module": "@jupyter-widgets/base",
            "_view_module_version": "1.2.0",
            "_view_name": "LayoutView",
            "align_content": null,
            "align_items": null,
            "align_self": null,
            "border": null,
            "bottom": null,
            "display": null,
            "flex": null,
            "flex_flow": null,
            "grid_area": null,
            "grid_auto_columns": null,
            "grid_auto_flow": null,
            "grid_auto_rows": null,
            "grid_column": null,
            "grid_gap": null,
            "grid_row": null,
            "grid_template_areas": null,
            "grid_template_columns": null,
            "grid_template_rows": null,
            "height": null,
            "justify_content": null,
            "justify_items": null,
            "left": null,
            "margin": null,
            "max_height": null,
            "max_width": null,
            "min_height": null,
            "min_width": null,
            "object_fit": null,
            "object_position": null,
            "order": null,
            "overflow": null,
            "overflow_x": null,
            "overflow_y": null,
            "padding": null,
            "right": null,
            "top": null,
            "visibility": null,
            "width": null
          }
        },
        "2b99671e74d248ad8a67f375db4aa470": {
          "model_module": "@jupyter-widgets/base",
          "model_name": "LayoutModel",
          "model_module_version": "1.2.0",
          "state": {
            "_model_module": "@jupyter-widgets/base",
            "_model_module_version": "1.2.0",
            "_model_name": "LayoutModel",
            "_view_count": null,
            "_view_module": "@jupyter-widgets/base",
            "_view_module_version": "1.2.0",
            "_view_name": "LayoutView",
            "align_content": null,
            "align_items": null,
            "align_self": null,
            "border": null,
            "bottom": null,
            "display": null,
            "flex": null,
            "flex_flow": null,
            "grid_area": null,
            "grid_auto_columns": null,
            "grid_auto_flow": null,
            "grid_auto_rows": null,
            "grid_column": null,
            "grid_gap": null,
            "grid_row": null,
            "grid_template_areas": null,
            "grid_template_columns": null,
            "grid_template_rows": null,
            "height": null,
            "justify_content": null,
            "justify_items": null,
            "left": null,
            "margin": null,
            "max_height": null,
            "max_width": null,
            "min_height": null,
            "min_width": null,
            "object_fit": null,
            "object_position": null,
            "order": null,
            "overflow": null,
            "overflow_x": null,
            "overflow_y": null,
            "padding": null,
            "right": null,
            "top": null,
            "visibility": null,
            "width": null
          }
        },
        "a9b94fc8a7c6434cbc2c587341447928": {
          "model_module": "@jupyter-widgets/controls",
          "model_name": "DescriptionStyleModel",
          "model_module_version": "1.5.0",
          "state": {
            "_model_module": "@jupyter-widgets/controls",
            "_model_module_version": "1.5.0",
            "_model_name": "DescriptionStyleModel",
            "_view_count": null,
            "_view_module": "@jupyter-widgets/base",
            "_view_module_version": "1.2.0",
            "_view_name": "StyleView",
            "description_width": ""
          }
        },
        "9c729b5a15c2444db4c429adb35fcff3": {
          "model_module": "@jupyter-widgets/base",
          "model_name": "LayoutModel",
          "model_module_version": "1.2.0",
          "state": {
            "_model_module": "@jupyter-widgets/base",
            "_model_module_version": "1.2.0",
            "_model_name": "LayoutModel",
            "_view_count": null,
            "_view_module": "@jupyter-widgets/base",
            "_view_module_version": "1.2.0",
            "_view_name": "LayoutView",
            "align_content": null,
            "align_items": null,
            "align_self": null,
            "border": null,
            "bottom": null,
            "display": null,
            "flex": null,
            "flex_flow": null,
            "grid_area": null,
            "grid_auto_columns": null,
            "grid_auto_flow": null,
            "grid_auto_rows": null,
            "grid_column": null,
            "grid_gap": null,
            "grid_row": null,
            "grid_template_areas": null,
            "grid_template_columns": null,
            "grid_template_rows": null,
            "height": null,
            "justify_content": null,
            "justify_items": null,
            "left": null,
            "margin": null,
            "max_height": null,
            "max_width": null,
            "min_height": null,
            "min_width": null,
            "object_fit": null,
            "object_position": null,
            "order": null,
            "overflow": null,
            "overflow_x": null,
            "overflow_y": null,
            "padding": null,
            "right": null,
            "top": null,
            "visibility": null,
            "width": null
          }
        },
        "f85e1e06d2354104af32ff522f61adec": {
          "model_module": "@jupyter-widgets/controls",
          "model_name": "ProgressStyleModel",
          "model_module_version": "1.5.0",
          "state": {
            "_model_module": "@jupyter-widgets/controls",
            "_model_module_version": "1.5.0",
            "_model_name": "ProgressStyleModel",
            "_view_count": null,
            "_view_module": "@jupyter-widgets/base",
            "_view_module_version": "1.2.0",
            "_view_name": "StyleView",
            "bar_color": null,
            "description_width": ""
          }
        },
        "5a0edcdcc183491aa0c3b13e5e09b907": {
          "model_module": "@jupyter-widgets/base",
          "model_name": "LayoutModel",
          "model_module_version": "1.2.0",
          "state": {
            "_model_module": "@jupyter-widgets/base",
            "_model_module_version": "1.2.0",
            "_model_name": "LayoutModel",
            "_view_count": null,
            "_view_module": "@jupyter-widgets/base",
            "_view_module_version": "1.2.0",
            "_view_name": "LayoutView",
            "align_content": null,
            "align_items": null,
            "align_self": null,
            "border": null,
            "bottom": null,
            "display": null,
            "flex": null,
            "flex_flow": null,
            "grid_area": null,
            "grid_auto_columns": null,
            "grid_auto_flow": null,
            "grid_auto_rows": null,
            "grid_column": null,
            "grid_gap": null,
            "grid_row": null,
            "grid_template_areas": null,
            "grid_template_columns": null,
            "grid_template_rows": null,
            "height": null,
            "justify_content": null,
            "justify_items": null,
            "left": null,
            "margin": null,
            "max_height": null,
            "max_width": null,
            "min_height": null,
            "min_width": null,
            "object_fit": null,
            "object_position": null,
            "order": null,
            "overflow": null,
            "overflow_x": null,
            "overflow_y": null,
            "padding": null,
            "right": null,
            "top": null,
            "visibility": null,
            "width": null
          }
        },
        "059a46cee0af46228e1e9cd4b2acec7a": {
          "model_module": "@jupyter-widgets/controls",
          "model_name": "DescriptionStyleModel",
          "model_module_version": "1.5.0",
          "state": {
            "_model_module": "@jupyter-widgets/controls",
            "_model_module_version": "1.5.0",
            "_model_name": "DescriptionStyleModel",
            "_view_count": null,
            "_view_module": "@jupyter-widgets/base",
            "_view_module_version": "1.2.0",
            "_view_name": "StyleView",
            "description_width": ""
          }
        },
        "acd0c4e6dc7a42aaad3b0286e245e822": {
          "model_module": "@jupyter-widgets/controls",
          "model_name": "HBoxModel",
          "model_module_version": "1.5.0",
          "state": {
            "_dom_classes": [],
            "_model_module": "@jupyter-widgets/controls",
            "_model_module_version": "1.5.0",
            "_model_name": "HBoxModel",
            "_view_count": null,
            "_view_module": "@jupyter-widgets/controls",
            "_view_module_version": "1.5.0",
            "_view_name": "HBoxView",
            "box_style": "",
            "children": [
              "IPY_MODEL_be2ec16598234f7daac8880b2b60caf2",
              "IPY_MODEL_82cbf28b3a1040a3a59a4a957889330f",
              "IPY_MODEL_a74f8e7cc35f4f93975b8a1a7e48e775"
            ],
            "layout": "IPY_MODEL_c771f70f9fb342f1ae36391af90e709d"
          }
        },
        "be2ec16598234f7daac8880b2b60caf2": {
          "model_module": "@jupyter-widgets/controls",
          "model_name": "HTMLModel",
          "model_module_version": "1.5.0",
          "state": {
            "_dom_classes": [],
            "_model_module": "@jupyter-widgets/controls",
            "_model_module_version": "1.5.0",
            "_model_name": "HTMLModel",
            "_view_count": null,
            "_view_module": "@jupyter-widgets/controls",
            "_view_module_version": "1.5.0",
            "_view_name": "HTMLView",
            "description": "",
            "description_tooltip": null,
            "layout": "IPY_MODEL_67cd5224c0ca441abd097f6c5a614350",
            "placeholder": "​",
            "style": "IPY_MODEL_4740481851194275ab35d32a10304e83",
            "value": "Downloading: 100%"
          }
        },
        "82cbf28b3a1040a3a59a4a957889330f": {
          "model_module": "@jupyter-widgets/controls",
          "model_name": "FloatProgressModel",
          "model_module_version": "1.5.0",
          "state": {
            "_dom_classes": [],
            "_model_module": "@jupyter-widgets/controls",
            "_model_module_version": "1.5.0",
            "_model_name": "FloatProgressModel",
            "_view_count": null,
            "_view_module": "@jupyter-widgets/controls",
            "_view_module_version": "1.5.0",
            "_view_name": "ProgressView",
            "bar_style": "success",
            "description": "",
            "description_tooltip": null,
            "layout": "IPY_MODEL_e0150e791ec14c3e839ec457f953cb74",
            "max": 665,
            "min": 0,
            "orientation": "horizontal",
            "style": "IPY_MODEL_6db2954c4ea2471f8a627b0693a7c31d",
            "value": 665
          }
        },
        "a74f8e7cc35f4f93975b8a1a7e48e775": {
          "model_module": "@jupyter-widgets/controls",
          "model_name": "HTMLModel",
          "model_module_version": "1.5.0",
          "state": {
            "_dom_classes": [],
            "_model_module": "@jupyter-widgets/controls",
            "_model_module_version": "1.5.0",
            "_model_name": "HTMLModel",
            "_view_count": null,
            "_view_module": "@jupyter-widgets/controls",
            "_view_module_version": "1.5.0",
            "_view_name": "HTMLView",
            "description": "",
            "description_tooltip": null,
            "layout": "IPY_MODEL_0b3a7e2777b3481290415f9124d9f6cd",
            "placeholder": "​",
            "style": "IPY_MODEL_c6ac9f2498f843c8862db589150b9a79",
            "value": " 665/665 [00:00&lt;00:00, 7.23kB/s]"
          }
        },
        "c771f70f9fb342f1ae36391af90e709d": {
          "model_module": "@jupyter-widgets/base",
          "model_name": "LayoutModel",
          "model_module_version": "1.2.0",
          "state": {
            "_model_module": "@jupyter-widgets/base",
            "_model_module_version": "1.2.0",
            "_model_name": "LayoutModel",
            "_view_count": null,
            "_view_module": "@jupyter-widgets/base",
            "_view_module_version": "1.2.0",
            "_view_name": "LayoutView",
            "align_content": null,
            "align_items": null,
            "align_self": null,
            "border": null,
            "bottom": null,
            "display": null,
            "flex": null,
            "flex_flow": null,
            "grid_area": null,
            "grid_auto_columns": null,
            "grid_auto_flow": null,
            "grid_auto_rows": null,
            "grid_column": null,
            "grid_gap": null,
            "grid_row": null,
            "grid_template_areas": null,
            "grid_template_columns": null,
            "grid_template_rows": null,
            "height": null,
            "justify_content": null,
            "justify_items": null,
            "left": null,
            "margin": null,
            "max_height": null,
            "max_width": null,
            "min_height": null,
            "min_width": null,
            "object_fit": null,
            "object_position": null,
            "order": null,
            "overflow": null,
            "overflow_x": null,
            "overflow_y": null,
            "padding": null,
            "right": null,
            "top": null,
            "visibility": null,
            "width": null
          }
        },
        "67cd5224c0ca441abd097f6c5a614350": {
          "model_module": "@jupyter-widgets/base",
          "model_name": "LayoutModel",
          "model_module_version": "1.2.0",
          "state": {
            "_model_module": "@jupyter-widgets/base",
            "_model_module_version": "1.2.0",
            "_model_name": "LayoutModel",
            "_view_count": null,
            "_view_module": "@jupyter-widgets/base",
            "_view_module_version": "1.2.0",
            "_view_name": "LayoutView",
            "align_content": null,
            "align_items": null,
            "align_self": null,
            "border": null,
            "bottom": null,
            "display": null,
            "flex": null,
            "flex_flow": null,
            "grid_area": null,
            "grid_auto_columns": null,
            "grid_auto_flow": null,
            "grid_auto_rows": null,
            "grid_column": null,
            "grid_gap": null,
            "grid_row": null,
            "grid_template_areas": null,
            "grid_template_columns": null,
            "grid_template_rows": null,
            "height": null,
            "justify_content": null,
            "justify_items": null,
            "left": null,
            "margin": null,
            "max_height": null,
            "max_width": null,
            "min_height": null,
            "min_width": null,
            "object_fit": null,
            "object_position": null,
            "order": null,
            "overflow": null,
            "overflow_x": null,
            "overflow_y": null,
            "padding": null,
            "right": null,
            "top": null,
            "visibility": null,
            "width": null
          }
        },
        "4740481851194275ab35d32a10304e83": {
          "model_module": "@jupyter-widgets/controls",
          "model_name": "DescriptionStyleModel",
          "model_module_version": "1.5.0",
          "state": {
            "_model_module": "@jupyter-widgets/controls",
            "_model_module_version": "1.5.0",
            "_model_name": "DescriptionStyleModel",
            "_view_count": null,
            "_view_module": "@jupyter-widgets/base",
            "_view_module_version": "1.2.0",
            "_view_name": "StyleView",
            "description_width": ""
          }
        },
        "e0150e791ec14c3e839ec457f953cb74": {
          "model_module": "@jupyter-widgets/base",
          "model_name": "LayoutModel",
          "model_module_version": "1.2.0",
          "state": {
            "_model_module": "@jupyter-widgets/base",
            "_model_module_version": "1.2.0",
            "_model_name": "LayoutModel",
            "_view_count": null,
            "_view_module": "@jupyter-widgets/base",
            "_view_module_version": "1.2.0",
            "_view_name": "LayoutView",
            "align_content": null,
            "align_items": null,
            "align_self": null,
            "border": null,
            "bottom": null,
            "display": null,
            "flex": null,
            "flex_flow": null,
            "grid_area": null,
            "grid_auto_columns": null,
            "grid_auto_flow": null,
            "grid_auto_rows": null,
            "grid_column": null,
            "grid_gap": null,
            "grid_row": null,
            "grid_template_areas": null,
            "grid_template_columns": null,
            "grid_template_rows": null,
            "height": null,
            "justify_content": null,
            "justify_items": null,
            "left": null,
            "margin": null,
            "max_height": null,
            "max_width": null,
            "min_height": null,
            "min_width": null,
            "object_fit": null,
            "object_position": null,
            "order": null,
            "overflow": null,
            "overflow_x": null,
            "overflow_y": null,
            "padding": null,
            "right": null,
            "top": null,
            "visibility": null,
            "width": null
          }
        },
        "6db2954c4ea2471f8a627b0693a7c31d": {
          "model_module": "@jupyter-widgets/controls",
          "model_name": "ProgressStyleModel",
          "model_module_version": "1.5.0",
          "state": {
            "_model_module": "@jupyter-widgets/controls",
            "_model_module_version": "1.5.0",
            "_model_name": "ProgressStyleModel",
            "_view_count": null,
            "_view_module": "@jupyter-widgets/base",
            "_view_module_version": "1.2.0",
            "_view_name": "StyleView",
            "bar_color": null,
            "description_width": ""
          }
        },
        "0b3a7e2777b3481290415f9124d9f6cd": {
          "model_module": "@jupyter-widgets/base",
          "model_name": "LayoutModel",
          "model_module_version": "1.2.0",
          "state": {
            "_model_module": "@jupyter-widgets/base",
            "_model_module_version": "1.2.0",
            "_model_name": "LayoutModel",
            "_view_count": null,
            "_view_module": "@jupyter-widgets/base",
            "_view_module_version": "1.2.0",
            "_view_name": "LayoutView",
            "align_content": null,
            "align_items": null,
            "align_self": null,
            "border": null,
            "bottom": null,
            "display": null,
            "flex": null,
            "flex_flow": null,
            "grid_area": null,
            "grid_auto_columns": null,
            "grid_auto_flow": null,
            "grid_auto_rows": null,
            "grid_column": null,
            "grid_gap": null,
            "grid_row": null,
            "grid_template_areas": null,
            "grid_template_columns": null,
            "grid_template_rows": null,
            "height": null,
            "justify_content": null,
            "justify_items": null,
            "left": null,
            "margin": null,
            "max_height": null,
            "max_width": null,
            "min_height": null,
            "min_width": null,
            "object_fit": null,
            "object_position": null,
            "order": null,
            "overflow": null,
            "overflow_x": null,
            "overflow_y": null,
            "padding": null,
            "right": null,
            "top": null,
            "visibility": null,
            "width": null
          }
        },
        "c6ac9f2498f843c8862db589150b9a79": {
          "model_module": "@jupyter-widgets/controls",
          "model_name": "DescriptionStyleModel",
          "model_module_version": "1.5.0",
          "state": {
            "_model_module": "@jupyter-widgets/controls",
            "_model_module_version": "1.5.0",
            "_model_name": "DescriptionStyleModel",
            "_view_count": null,
            "_view_module": "@jupyter-widgets/base",
            "_view_module_version": "1.2.0",
            "_view_name": "StyleView",
            "description_width": ""
          }
        },
        "1fa814051fd6436889839bddc4df988f": {
          "model_module": "@jupyter-widgets/controls",
          "model_name": "HBoxModel",
          "model_module_version": "1.5.0",
          "state": {
            "_dom_classes": [],
            "_model_module": "@jupyter-widgets/controls",
            "_model_module_version": "1.5.0",
            "_model_name": "HBoxModel",
            "_view_count": null,
            "_view_module": "@jupyter-widgets/controls",
            "_view_module_version": "1.5.0",
            "_view_name": "HBoxView",
            "box_style": "",
            "children": [
              "IPY_MODEL_265620d7633c43d2a00ecec51c2cc81c",
              "IPY_MODEL_2293a58170874a62b39a406c162ef102",
              "IPY_MODEL_dc14b3e8474c407eaa714614f558e504"
            ],
            "layout": "IPY_MODEL_3c65b2b3b4b34c9e804be46cfd2b3c91"
          }
        },
        "265620d7633c43d2a00ecec51c2cc81c": {
          "model_module": "@jupyter-widgets/controls",
          "model_name": "HTMLModel",
          "model_module_version": "1.5.0",
          "state": {
            "_dom_classes": [],
            "_model_module": "@jupyter-widgets/controls",
            "_model_module_version": "1.5.0",
            "_model_name": "HTMLModel",
            "_view_count": null,
            "_view_module": "@jupyter-widgets/controls",
            "_view_module_version": "1.5.0",
            "_view_name": "HTMLView",
            "description": "",
            "description_tooltip": null,
            "layout": "IPY_MODEL_cca2ed453b914d1a910c537d01f431e3",
            "placeholder": "​",
            "style": "IPY_MODEL_f3eb09bac5cc4e0b906fa157edfbf87c",
            "value": "Downloading: 100%"
          }
        },
        "2293a58170874a62b39a406c162ef102": {
          "model_module": "@jupyter-widgets/controls",
          "model_name": "FloatProgressModel",
          "model_module_version": "1.5.0",
          "state": {
            "_dom_classes": [],
            "_model_module": "@jupyter-widgets/controls",
            "_model_module_version": "1.5.0",
            "_model_name": "FloatProgressModel",
            "_view_count": null,
            "_view_module": "@jupyter-widgets/controls",
            "_view_module_version": "1.5.0",
            "_view_name": "ProgressView",
            "bar_style": "success",
            "description": "",
            "description_tooltip": null,
            "layout": "IPY_MODEL_e5357add098d47999f096d3d302cde4e",
            "max": 548118077,
            "min": 0,
            "orientation": "horizontal",
            "style": "IPY_MODEL_d2c21e617db64334b53e445742a20e46",
            "value": 548118077
          }
        },
        "dc14b3e8474c407eaa714614f558e504": {
          "model_module": "@jupyter-widgets/controls",
          "model_name": "HTMLModel",
          "model_module_version": "1.5.0",
          "state": {
            "_dom_classes": [],
            "_model_module": "@jupyter-widgets/controls",
            "_model_module_version": "1.5.0",
            "_model_name": "HTMLModel",
            "_view_count": null,
            "_view_module": "@jupyter-widgets/controls",
            "_view_module_version": "1.5.0",
            "_view_name": "HTMLView",
            "description": "",
            "description_tooltip": null,
            "layout": "IPY_MODEL_77df708fe5cb446a82add4fbee797135",
            "placeholder": "​",
            "style": "IPY_MODEL_049d220fcc484fb4b8ec09f0a3e243dc",
            "value": " 548M/548M [00:13&lt;00:00, 59.1MB/s]"
          }
        },
        "3c65b2b3b4b34c9e804be46cfd2b3c91": {
          "model_module": "@jupyter-widgets/base",
          "model_name": "LayoutModel",
          "model_module_version": "1.2.0",
          "state": {
            "_model_module": "@jupyter-widgets/base",
            "_model_module_version": "1.2.0",
            "_model_name": "LayoutModel",
            "_view_count": null,
            "_view_module": "@jupyter-widgets/base",
            "_view_module_version": "1.2.0",
            "_view_name": "LayoutView",
            "align_content": null,
            "align_items": null,
            "align_self": null,
            "border": null,
            "bottom": null,
            "display": null,
            "flex": null,
            "flex_flow": null,
            "grid_area": null,
            "grid_auto_columns": null,
            "grid_auto_flow": null,
            "grid_auto_rows": null,
            "grid_column": null,
            "grid_gap": null,
            "grid_row": null,
            "grid_template_areas": null,
            "grid_template_columns": null,
            "grid_template_rows": null,
            "height": null,
            "justify_content": null,
            "justify_items": null,
            "left": null,
            "margin": null,
            "max_height": null,
            "max_width": null,
            "min_height": null,
            "min_width": null,
            "object_fit": null,
            "object_position": null,
            "order": null,
            "overflow": null,
            "overflow_x": null,
            "overflow_y": null,
            "padding": null,
            "right": null,
            "top": null,
            "visibility": null,
            "width": null
          }
        },
        "cca2ed453b914d1a910c537d01f431e3": {
          "model_module": "@jupyter-widgets/base",
          "model_name": "LayoutModel",
          "model_module_version": "1.2.0",
          "state": {
            "_model_module": "@jupyter-widgets/base",
            "_model_module_version": "1.2.0",
            "_model_name": "LayoutModel",
            "_view_count": null,
            "_view_module": "@jupyter-widgets/base",
            "_view_module_version": "1.2.0",
            "_view_name": "LayoutView",
            "align_content": null,
            "align_items": null,
            "align_self": null,
            "border": null,
            "bottom": null,
            "display": null,
            "flex": null,
            "flex_flow": null,
            "grid_area": null,
            "grid_auto_columns": null,
            "grid_auto_flow": null,
            "grid_auto_rows": null,
            "grid_column": null,
            "grid_gap": null,
            "grid_row": null,
            "grid_template_areas": null,
            "grid_template_columns": null,
            "grid_template_rows": null,
            "height": null,
            "justify_content": null,
            "justify_items": null,
            "left": null,
            "margin": null,
            "max_height": null,
            "max_width": null,
            "min_height": null,
            "min_width": null,
            "object_fit": null,
            "object_position": null,
            "order": null,
            "overflow": null,
            "overflow_x": null,
            "overflow_y": null,
            "padding": null,
            "right": null,
            "top": null,
            "visibility": null,
            "width": null
          }
        },
        "f3eb09bac5cc4e0b906fa157edfbf87c": {
          "model_module": "@jupyter-widgets/controls",
          "model_name": "DescriptionStyleModel",
          "model_module_version": "1.5.0",
          "state": {
            "_model_module": "@jupyter-widgets/controls",
            "_model_module_version": "1.5.0",
            "_model_name": "DescriptionStyleModel",
            "_view_count": null,
            "_view_module": "@jupyter-widgets/base",
            "_view_module_version": "1.2.0",
            "_view_name": "StyleView",
            "description_width": ""
          }
        },
        "e5357add098d47999f096d3d302cde4e": {
          "model_module": "@jupyter-widgets/base",
          "model_name": "LayoutModel",
          "model_module_version": "1.2.0",
          "state": {
            "_model_module": "@jupyter-widgets/base",
            "_model_module_version": "1.2.0",
            "_model_name": "LayoutModel",
            "_view_count": null,
            "_view_module": "@jupyter-widgets/base",
            "_view_module_version": "1.2.0",
            "_view_name": "LayoutView",
            "align_content": null,
            "align_items": null,
            "align_self": null,
            "border": null,
            "bottom": null,
            "display": null,
            "flex": null,
            "flex_flow": null,
            "grid_area": null,
            "grid_auto_columns": null,
            "grid_auto_flow": null,
            "grid_auto_rows": null,
            "grid_column": null,
            "grid_gap": null,
            "grid_row": null,
            "grid_template_areas": null,
            "grid_template_columns": null,
            "grid_template_rows": null,
            "height": null,
            "justify_content": null,
            "justify_items": null,
            "left": null,
            "margin": null,
            "max_height": null,
            "max_width": null,
            "min_height": null,
            "min_width": null,
            "object_fit": null,
            "object_position": null,
            "order": null,
            "overflow": null,
            "overflow_x": null,
            "overflow_y": null,
            "padding": null,
            "right": null,
            "top": null,
            "visibility": null,
            "width": null
          }
        },
        "d2c21e617db64334b53e445742a20e46": {
          "model_module": "@jupyter-widgets/controls",
          "model_name": "ProgressStyleModel",
          "model_module_version": "1.5.0",
          "state": {
            "_model_module": "@jupyter-widgets/controls",
            "_model_module_version": "1.5.0",
            "_model_name": "ProgressStyleModel",
            "_view_count": null,
            "_view_module": "@jupyter-widgets/base",
            "_view_module_version": "1.2.0",
            "_view_name": "StyleView",
            "bar_color": null,
            "description_width": ""
          }
        },
        "77df708fe5cb446a82add4fbee797135": {
          "model_module": "@jupyter-widgets/base",
          "model_name": "LayoutModel",
          "model_module_version": "1.2.0",
          "state": {
            "_model_module": "@jupyter-widgets/base",
            "_model_module_version": "1.2.0",
            "_model_name": "LayoutModel",
            "_view_count": null,
            "_view_module": "@jupyter-widgets/base",
            "_view_module_version": "1.2.0",
            "_view_name": "LayoutView",
            "align_content": null,
            "align_items": null,
            "align_self": null,
            "border": null,
            "bottom": null,
            "display": null,
            "flex": null,
            "flex_flow": null,
            "grid_area": null,
            "grid_auto_columns": null,
            "grid_auto_flow": null,
            "grid_auto_rows": null,
            "grid_column": null,
            "grid_gap": null,
            "grid_row": null,
            "grid_template_areas": null,
            "grid_template_columns": null,
            "grid_template_rows": null,
            "height": null,
            "justify_content": null,
            "justify_items": null,
            "left": null,
            "margin": null,
            "max_height": null,
            "max_width": null,
            "min_height": null,
            "min_width": null,
            "object_fit": null,
            "object_position": null,
            "order": null,
            "overflow": null,
            "overflow_x": null,
            "overflow_y": null,
            "padding": null,
            "right": null,
            "top": null,
            "visibility": null,
            "width": null
          }
        },
        "049d220fcc484fb4b8ec09f0a3e243dc": {
          "model_module": "@jupyter-widgets/controls",
          "model_name": "DescriptionStyleModel",
          "model_module_version": "1.5.0",
          "state": {
            "_model_module": "@jupyter-widgets/controls",
            "_model_module_version": "1.5.0",
            "_model_name": "DescriptionStyleModel",
            "_view_count": null,
            "_view_module": "@jupyter-widgets/base",
            "_view_module_version": "1.2.0",
            "_view_name": "StyleView",
            "description_width": ""
          }
        }
      }
    }
  },
  "nbformat": 4,
  "nbformat_minor": 0
}