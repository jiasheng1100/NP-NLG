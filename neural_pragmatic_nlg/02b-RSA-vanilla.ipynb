{
  "cells": [
    {
      "cell_type": "markdown",
      "metadata": {
        "id": "vTfkvVHXkaRI"
      },
      "source": [
        "Sheet 1.1: Vanilla RSA\n",
        "======================\n",
        "\n",
        "**Author:** Michael Franke\n",
        "\n"
      ]
    },
    {
      "cell_type": "markdown",
      "metadata": {
        "id": "sFz-6hbikaRU"
      },
      "source": [
        "This is a (numpy-based) Python implementation of a vanilla Rational Speech Act model for a reference game.\n",
        "\n",
        "The same model is also covered in [chapter 1 of problang.org](http://www.problang.org/chapters/01-introduction.html).\n",
        "\n"
      ]
    },
    {
      "cell_type": "markdown",
      "metadata": {
        "id": "DNyXmUe_kaRW"
      },
      "source": [
        "## Packages\n",
        "\n"
      ]
    },
    {
      "cell_type": "markdown",
      "metadata": {
        "id": "4cXAbcjJkaRY"
      },
      "source": [
        "The \\`numpy\\` package is used here in order to implement the RSA model using vector and matrix computation.\n",
        "Additionally, we use the \\`seaborn\\` package for visualizing the model&rsquo;s predictions.\n",
        "The input for the \\`seaborn\\` plots are Data Frames from the \\`pandas\\` package.\n",
        "We also might need \\`matplotlib\\` to produce (render) the plots.\n",
        "Finally, this notebook uses the \\`warnings\\` package to suppress all warning messages (not necessarily best practice in general, but acceptable here, as not all warnings are critical and could just distract).\n",
        "\n"
      ]
    },
    {
      "cell_type": "code",
      "execution_count": 1,
      "metadata": {
        "id": "Pr5d183PkaRZ"
      },
      "outputs": [],
      "source": [
        "import numpy as np\n",
        "import seaborn as sns\n",
        "import pandas as pd\n",
        "import matplotlib.pyplot as plt\n",
        "import warnings\n",
        "warnings.filterwarnings('ignore')"
      ]
    },
    {
      "cell_type": "markdown",
      "metadata": {
        "id": "AJsjLqQJkaRe"
      },
      "source": [
        "## Running example\n",
        "\n"
      ]
    },
    {
      "cell_type": "markdown",
      "metadata": {
        "id": "nIqIwP2ikaRg"
      },
      "source": [
        "We will use a single running example here.\n",
        "The reference game in question is show below.\n",
        "\n",
        "![img](https://github.com/michael-franke/npNLG/blob/main/neural_pragmatic_nlg/pics/02-reference-game.png?raw=1)\n",
        "\n",
        "There are three objects, all of which could be the speaker&rsquo;s intended referent.\n",
        "The set of utterances consists of the expressions: &rsquo;blue&rsquo;, &rsquo;green&rsquo;, &rsquo;circle&rsquo; and &rsquo;square&rsquo;.\n",
        "\n",
        "In python code, we can represent this context as follows:\n",
        "\n"
      ]
    },
    {
      "cell_type": "code",
      "execution_count": 2,
      "metadata": {
        "id": "0Qyuyq0ekaRj"
      },
      "outputs": [],
      "source": [
        "##################################################\n",
        "## defining the context\n",
        "##################################################\n",
        "\n",
        "object_names    = ['blue_circle', 'green_square', 'blue_square']\n",
        "utterance_names = ['blue', 'circle', 'green', 'square']\n",
        "\n",
        "semantic_meaning = np.array(\n",
        "    # blue circle, green square, blue square\n",
        "    [[1, 0, 1],  # blue\n",
        "     [1, 0, 0],  # circle\n",
        "     [0, 1, 0],  # green\n",
        "     [0, 1, 1]]  # square,\n",
        "    )"
      ]
    },
    {
      "cell_type": "markdown",
      "metadata": {
        "id": "mwPr-RFJkaRm"
      },
      "source": [
        "## Helper functions\n",
        "\n"
      ]
    },
    {
      "cell_type": "markdown",
      "metadata": {
        "id": "Q0HNDcankaRo"
      },
      "source": [
        "Two helper functions will come in handy:\n",
        "one for normalizing vectors and matrices;\n",
        "another for computing soft-max.\n",
        "\n"
      ]
    },
    {
      "cell_type": "code",
      "execution_count": 3,
      "metadata": {
        "id": "9C222p9xkaRp"
      },
      "outputs": [],
      "source": [
        "##################################################\n",
        "## helper functions\n",
        "##################################################\n",
        "\n",
        "def softmax(x, axis=1):\n",
        "    \"\"\"\n",
        "    Softmax function in numpy\n",
        "    Parameters\n",
        "    ----------\n",
        "    x: array\n",
        "        An array with any dimensionality\n",
        "    axis: int\n",
        "        The axis along which to apply the softmax\n",
        "    Returns\n",
        "    -------\n",
        "    array\n",
        "        Same shape as x\n",
        "    \"\"\"\n",
        "    e_x = np.exp(x - np.max(x, axis, keepdims=True))\n",
        "    return e_x / e_x.sum(axis=axis, keepdims=True)\n",
        "\n",
        "\n",
        "def normalize(arr, axis=1):\n",
        "    \"\"\"\n",
        "    Normalize arr along axis\n",
        "    \"\"\"\n",
        "    return arr / arr.sum(axis, keepdims=True)"
      ]
    },
    {
      "cell_type": "code",
      "execution_count": 4,
      "metadata": {
        "colab": {
          "base_uri": "https://localhost:8080/"
        },
        "id": "U8mRsPrukaRr",
        "outputId": "b77e71e6-465e-4d8a-e2b6-88e4feec1aac"
      },
      "outputs": [
        {
          "output_type": "stream",
          "name": "stdout",
          "text": [
            "[[0.26894142 0.73105858]\n",
            " [0.26894142 0.73105858]\n",
            " [0.26894142 0.73105858]]\n",
            "[[0.01587624 0.01587624]\n",
            " [0.11731043 0.11731043]\n",
            " [0.86681333 0.86681333]]\n",
            "[0.09003057 0.24472847 0.66524096]\n",
            "[0.16666667 0.33333333 0.5       ]\n"
          ]
        }
      ],
      "source": [
        "##################################################\n",
        "## add solutions here for exercise 1.1.1\n",
        "##################################################\n",
        "#1.\n",
        "row_stochastic_matrix = normalize(np.array([[1,2], [3,4]]), axis=1)\n",
        "column_stochastic_matrix = normalize(np.array([[1,2], [3,4]]), axis=0)\n",
        "#2.\n",
        "row_stochastic = softmax(np.array([[1,2],[3,4],[5,6]]), axis=1)\n",
        "print(row_stochastic)\n",
        "column_stochastic = softmax(np.array([[1,2],[3,4],[5,6]]), axis=0)\n",
        "print(column_stochastic)\n",
        "#3.\n",
        "print(softmax(np.array([1, 2, 3]), axis=0))\n",
        "print(normalize(np.array([1, 2, 3]), axis=0))"
      ]
    },
    {
      "cell_type": "markdown",
      "metadata": {
        "id": "P4-iCF7skaRt"
      },
      "source": [
        "> <strong><span style=&ldquo;color:#D83D2B;&rdquo;>Exercise 1.1.1: Apply the helper functions</span></strong>\n",
        "> 1. Normalize the following matrix to a row-stochastic and a column-stochastic matrix for the matrix: $[[1,2], [3,4]]$.\n",
        "> 2. Apply softmax to the following matrix to obtain a row-stochastic and a column-stochastic matrix:  $[[1,2], [3,4], [5,6]]$.\n",
        "> 3. Compute the soft-max and the normalized stochastic vector for the vector $[1,2,3]$. (NB: the definitions do *not* expect vector input, so &#x2026; what do you do?)\n",
        "\n"
      ]
    },
    {
      "cell_type": "markdown",
      "metadata": {
        "id": "UWidgbwzkaRv"
      },
      "source": [
        "## The model and its parameters\n",
        "\n"
      ]
    },
    {
      "cell_type": "markdown",
      "metadata": {
        "id": "JgyZE8VSkaRw"
      },
      "source": [
        "The model we want to implement is defined as follows:\n",
        "\n",
        "\\begin{align*}\n",
        "P_{lit}(s \\mid u) & \\propto L(u,s) \\\\\n",
        "P_S( u \\mid s) &= \\mathrm{SoftMax}  \\left ( \\alpha \\left ( \\log P_{lit}(s \\mid u)  - \\mathrm{C}(u) \\right ) \\right ) \\\\\n",
        "P_L( s \\mid u) & \\propto P_{sal}(s) \\ P_S( u \\mid s)\n",
        "\\end{align*}\n",
        "\n",
        "Here, $L$ is a *lexicon*, which assigns a truth-value (usually 0 or 1) to each pair of utterance and state.\n",
        "The sign $\\propto$ is to be read as &ldquo;proportional to&rdquo; and implies proper normalization of the to-be-defined (conditional) distributions.\n",
        "The parameter $\\alpha$ is the usual &ldquo;optimality&rdquo; or &ldquo;inverse temperature&rdquo; parameter of the soft-max function.\n",
        "The cost function $C$ assigns a real number to each utterance, representing the relative effort or dispreference for that utterance.\n",
        "(NB: Since soft-max is only sensitive to (additive) differences, only differences in cost between utterances matter.)\n",
        "The salience prior $P_{sal}$ provides a relative weight of accessibility, salience or *a priori* bias for each object.\n",
        "\n",
        "The model&rsquo;s free parameters are: the optimality parameter $\\alpha$, the relative cost $C(u_{\\text{ajd}})$ of using an adjective (rather than a noun, where $C(u_{\\text{noun}})=0$), and the salience prior $P_{sal}$.\n",
        "\n",
        "> <strong><span style=&ldquo;color:#D83D2B;&rdquo;>Exercise 1.1.2: Paraphrase the definitions</span></strong>\n",
        ">\n",
        "> Provide a short, intuitive and explanatory paraphrase for each of the three conditional probability distributions that define the RSA model above. I.e., formulate a sentence or two for each, so that a person can understand the purpose or gist of the definition. The less technical jargon you use, the better. The more insightful to a novice, the better.\n",
        "\n",
        "> <strong><span style=&ldquo;color:#D83D2B;&rdquo;>Solutions for Exercise 1.1.2</span></strong>\n",
        ">\n",
        "> &#x2026; add your solution here &#x2026;\n",
        "\n",
        "1. The interpretation of a literal lisener is represented by a conditional probability of each state given the utterance, which is propotional to the truth values assigned to each pair of utterance and state.\n",
        "2. The probabilities of utterance choices of a pragmatic speaker are calculated by a soft-max function of the information content of a literal interpretation with given utterance deducted by its relative cost. \n",
        "3. The interpretation of the pragmatic lisener is propotional to their prior beliefs and the probabilities of utterance choices of a progmatic speaker in various\n",
        "states.\n"
      ]
    },
    {
      "cell_type": "code",
      "execution_count": 5,
      "metadata": {
        "id": "SldSTOhEkaRy"
      },
      "outputs": [],
      "source": [
        "##################################################\n",
        "## model parameters\n",
        "##################################################\n",
        "\n",
        "alpha              = 1\n",
        "cost_adjectives    = 0.1\n",
        "salience_prior_flt = np.array([1,1,1])     # flat\n",
        "salience_prior_emp = np.array([71,139,30]) # empirical"
      ]
    },
    {
      "cell_type": "markdown",
      "metadata": {
        "id": "bF25HTArkaR0"
      },
      "source": [
        "## Implementation and visualization\n",
        "\n"
      ]
    },
    {
      "cell_type": "code",
      "execution_count": 6,
      "metadata": {
        "id": "qFkBvM2okaR1",
        "outputId": "5dbf2592-9096-4898-967e-8e02631401d1",
        "colab": {
          "base_uri": "https://localhost:8080/",
          "height": 589
        }
      },
      "outputs": [
        {
          "output_type": "stream",
          "name": "stdout",
          "text": [
            "              blue  circle  green  square        object\n",
            "blue_circle   0.31    0.69   0.00    0.00   blue_circle\n",
            "green_square  0.00    0.00   0.64    0.36  green_square\n",
            "blue_square   0.48    0.00   0.00    0.52   blue_square\n",
            "        blue_circle  green_square  blue_square utterance\n",
            "blue            0.4           0.0          0.6      blue\n",
            "circle          1.0           0.0          0.0    circle\n",
            "green           0.0           1.0          0.0     green\n",
            "square          0.0           0.4          0.6    square\n"
          ]
        },
        {
          "output_type": "display_data",
          "data": {
            "text/plain": [
              "<Figure size 648x216 with 3 Axes>"
            ],
            "image/png": "[encoded data removed]"
          },
          "metadata": {
            "needs_background": "light"
          }
        },
        {
          "output_type": "display_data",
          "data": {
            "text/plain": [
              "<Figure size 864x216 with 4 Axes>"
            ],
            "image/png": "[encoded data removed]"
          },
          "metadata": {
            "needs_background": "light"
          }
        }
      ],
      "source": [
        "##################################################\n",
        "## RSA model predictions\n",
        "##################################################\n",
        "\n",
        "\n",
        "def RSA(alpha, cost_adjectives, salience_prior):\n",
        "    \"\"\"\n",
        "    predictions of the vanilla RSA model for reference game\n",
        "    Parameters\n",
        "    ----------\n",
        "    alpha: float\n",
        "        Optimality parameter\n",
        "    cost_adjectives: float\n",
        "        Differential cost for production of adjectives\n",
        "    salience_prior: array\n",
        "        Prior over objects\n",
        "    Returns\n",
        "    -------\n",
        "    dictionary\n",
        "        Dictionary with keys 'speaker' and 'listener'\n",
        "    \"\"\"\n",
        "    costs              = np.array([1.0, 0, 1.0, 0]) * cost_adjectives\n",
        "    literal_listener   = normalize(semantic_meaning)\n",
        "    util_speaker       = np.log(np.transpose(literal_listener)) - costs\n",
        "    pragmatic_speaker  = softmax(alpha * util_speaker)\n",
        "    pragmatic_listener = normalize(np.transpose(pragmatic_speaker) * salience_prior)\n",
        "    return({'speaker': pragmatic_speaker, 'listener': pragmatic_listener})\n",
        "\n",
        "RSA_predictions = RSA(alpha, cost_adjectives, salience_prior_flt)\n",
        "\n",
        "##################################################\n",
        "## cast model predictions to DataFrames\n",
        "##################################################\n",
        "\n",
        "speaker  = pd.DataFrame(data = RSA_predictions['speaker'],\n",
        "                        index = object_names,\n",
        "                        columns = utterance_names)\n",
        "speaker['object'] = speaker.index\n",
        "print(speaker.round(2))\n",
        "\n",
        "listener = pd.DataFrame(data    = RSA_predictions['listener'],\n",
        "                        index   = utterance_names,\n",
        "                        columns = object_names)\n",
        "listener['utterance'] = listener.index\n",
        "print(listener.round(2))\n",
        "\n",
        "##################################################\n",
        "## plotting the results\n",
        "##################################################\n",
        "\n",
        "speaker_long = speaker.melt(id_vars = \"object\", var_name = \"utterance\",\n",
        "                            value_name = \"probability\", ignore_index = False)\n",
        "speaker_plot = sns.FacetGrid(speaker_long, col=\"object\")\n",
        "speaker_plot.map(sns.barplot, \"utterance\", \"probability\")\n",
        "plt.show()\n",
        "\n",
        "listener_long = listener.melt(id_vars = \"utterance\", var_name = \"object\",\n",
        "                              value_name = \"probability\", ignore_index = False)\n",
        "listener_plot = sns.FacetGrid(listener_long, col=\"utterance\")\n",
        "listener_plot.map(sns.barplot, \"object\", \"probability\")\n",
        "plt.show()"
      ]
    },
    {
      "cell_type": "markdown",
      "metadata": {
        "id": "nMhzlNw4kaR6"
      },
      "source": [
        "> <strong><span style=&ldquo;color:#D83D2B;&rdquo;>Exercise 1.1.3: Explore the vanilla RSA model</span></strong>\n",
        ">\n",
        "> 0. [for your own sake only; no written answer required] Go through the whole last code block. Try to understand every single line in the function \\`RSA<sub>predictions</sub>\\`. Ask if anything is unclear. (It is muss less important to understand the details of the subsequent data wrangling and plotting.)\n",
        "> 1. Explore what happens if you make the speaker more optimal. Does that also affect the listener&rsquo;s inferences? Why? Is that intuitive?\n",
        "> 2. Add another object to the context, namely a red triangle. Add any relevant utterances, their semantics and costs as well. What do you predict will happen to the model&rsquo;s predictions for the &ldquo;old&rdquo; objects and utterances? Test your predictions (= understanding of the model) and report the results.\n",
        "> 3. Run the model with different values for the cost parameter \\`cost<sub>adjectives</sub>\\`. Which effect does this have on the speaker prediction? Which effect does that have on the predictions for listener interpretation? Explain these observation in your own non-technical terms (e.g., for an interested outsider).\n",
        "> 4. Is there any way to get “blue” to refer to something green? I.e., is it possible (if so: how?; else: why not?) to change the context or model in such a way that $P_{L}(\\text{green square} \\mid \\text{blue}) > 0$, ideally in a way that might also be defensible in that it makes conceptual sense (not just by some technical trick that no reviewer of your work would accept as anything but a hack)?\n",
        "\n"
      ]
    },
    {
      "cell_type": "code",
      "source": [
        "# Exercise 1.1.3.1\n",
        "\n",
        "# to make the speaker more optimal, I increase the alpha value to 2\n",
        "alpha = 2\n",
        "\n",
        "# run model and print out predictions\n",
        "RSA_predictions = RSA(alpha, cost_adjectives, salience_prior_flt)\n",
        "speaker  = pd.DataFrame(data = RSA_predictions['speaker'],\n",
        "                        index = object_names,\n",
        "                        columns = utterance_names)\n",
        "speaker['object'] = speaker.index\n",
        "print(speaker.round(2))\n",
        "\n",
        "listener = pd.DataFrame(data    = RSA_predictions['listener'],\n",
        "                        index   = utterance_names,\n",
        "                        columns = object_names)\n",
        "listener['utterance'] = listener.index\n",
        "print(listener.round(2))"
      ],
      "metadata": {
        "id": "vvW0WJXMlU0B",
        "outputId": "8d85e522-d334-4a94-e9fa-25996ecaa6a6",
        "colab": {
          "base_uri": "https://localhost:8080/"
        }
      },
      "execution_count": 7,
      "outputs": [
        {
          "output_type": "stream",
          "name": "stdout",
          "text": [
            "              blue  circle  green  square        object\n",
            "blue_circle   0.17    0.83   0.00    0.00   blue_circle\n",
            "green_square  0.00    0.00   0.77    0.23  green_square\n",
            "blue_square   0.45    0.00   0.00    0.55   blue_square\n",
            "        blue_circle  green_square  blue_square utterance\n",
            "blue           0.27           0.0         0.73      blue\n",
            "circle         1.00           0.0         0.00    circle\n",
            "green          0.00           1.0         0.00     green\n",
            "square         0.00           0.3         0.70    square\n"
          ]
        }
      ]
    },
    {
      "cell_type": "markdown",
      "source": [
        "According to the printed result, after making the speaker more optimal, the listener's inference also becomes more optimal. That is intuitive, because if the lisener presuppose a more rational speaker, they should also make more rational inferences. Besides, since in this model the inferences of listeners are calculated based on the utterance choices of pragmatic speaker, the change in utterance probablities should also influence inferences."
      ],
      "metadata": {
        "id": "Rq41F8l4tsWW"
      }
    },
    {
      "cell_type": "code",
      "source": [
        "# Exercise 1.1.3.2\n",
        "\n",
        "# my prediction: adding of a red triangle would not influence the model's \n",
        "# predictions on the old objects, since red triangle has no common property\n",
        "# with previous objects, and therefore would not change the conditional \n",
        "# probabilities of the utterances of the old properties given the old objects\n",
        "\n",
        "# add a red triangle to the context\n",
        "object_names    = ['blue_circle', 'green_square', 'blue_square', 'red_triangle']\n",
        "utterance_names = ['blue', 'circle', 'green', 'square', 'red', 'triangle']\n",
        "semantic_meaning = np.array(\n",
        "    # blue circle, green square, blue square, red triangle\n",
        "    [[1, 0, 1, 0],  # blue\n",
        "     [1, 0, 0, 0],  # circle\n",
        "     [0, 1, 0, 0],  # green\n",
        "     [0, 1, 1, 0],  # square\n",
        "     [0, 0, 0, 1],  # red\n",
        "     [0, 0, 0, 1]   # trianle\n",
        "    ])\n",
        "\n",
        "# modify model parameters\n",
        "alpha              = 1\n",
        "cost_adjectives    = 0.1\n",
        "salience_prior_flt = np.array([1,1,1,1])     # flat\n",
        "\n",
        "# modify model definition\n",
        "def RSA(alpha, cost_adjectives, salience_prior):\n",
        "    \"\"\"\n",
        "    predictions of the vanilla RSA model for reference game\n",
        "    Parameters\n",
        "    ----------\n",
        "    alpha: float\n",
        "        Optimality parameter\n",
        "    cost_adjectives: float\n",
        "        Differential cost for production of adjectives\n",
        "    salience_prior: array\n",
        "        Prior over objects\n",
        "    Returns\n",
        "    -------\n",
        "    dictionary\n",
        "        Dictionary with keys 'speaker' and 'listener'\n",
        "    \"\"\"\n",
        "    costs              = np.array([1.0, 0, 1.0, 0, 1.0, 0]) * cost_adjectives\n",
        "    literal_listener   = normalize(semantic_meaning)\n",
        "    util_speaker       = np.log(np.transpose(literal_listener)) - costs\n",
        "    pragmatic_speaker  = softmax(alpha * util_speaker)\n",
        "    pragmatic_listener = normalize(np.transpose(pragmatic_speaker) * salience_prior)\n",
        "    return({'speaker': pragmatic_speaker, 'listener': pragmatic_listener})\n",
        "\n",
        "# run model and print out predictions\n",
        "RSA_predictions = RSA(alpha, cost_adjectives, salience_prior_flt)\n",
        "speaker  = pd.DataFrame(data = RSA_predictions['speaker'],\n",
        "                        index = object_names,\n",
        "                        columns = utterance_names)\n",
        "speaker['object'] = speaker.index\n",
        "print(speaker.round(2))\n",
        "\n",
        "listener = pd.DataFrame(data    = RSA_predictions['listener'],\n",
        "                        index   = utterance_names,\n",
        "                        columns = object_names)\n",
        "listener['utterance'] = listener.index\n",
        "print(listener.round(2))"
      ],
      "metadata": {
        "id": "lyEWP28svFcP",
        "outputId": "121e7c78-a28a-4f2a-f199-20c6f91034da",
        "colab": {
          "base_uri": "https://localhost:8080/"
        }
      },
      "execution_count": 10,
      "outputs": [
        {
          "output_type": "stream",
          "name": "stdout",
          "text": [
            "              blue  circle  green  square   red  triangle        object\n",
            "blue_circle   0.31    0.69   0.00    0.00  0.00      0.00   blue_circle\n",
            "green_square  0.00    0.00   0.64    0.36  0.00      0.00  green_square\n",
            "blue_square   0.48    0.00   0.00    0.52  0.00      0.00   blue_square\n",
            "red_triangle  0.00    0.00   0.00    0.00  0.48      0.52  red_triangle\n",
            "          blue_circle  green_square  blue_square  red_triangle utterance\n",
            "blue              0.4           0.0          0.6           0.0      blue\n",
            "circle            1.0           0.0          0.0           0.0    circle\n",
            "green             0.0           1.0          0.0           0.0     green\n",
            "square            0.0           0.4          0.6           0.0    square\n",
            "red               0.0           0.0          0.0           1.0       red\n",
            "triangle          0.0           0.0          0.0           1.0  triangle\n"
          ]
        }
      ]
    },
    {
      "cell_type": "markdown",
      "source": [
        "According to the printed results, the adding of a red triangle indeed did not interfere with the predictions of old objects."
      ],
      "metadata": {
        "id": "QKxuZUEb3gLg"
      }
    },
    {
      "cell_type": "code",
      "source": [
        "# Exercise 1.1.3.3\n",
        "\n",
        "# experiment by incrementing the cost of adjectives to 1\n",
        "cost_adjectives    = 0.1\n",
        "\n",
        "# run model and print out predictions\n",
        "RSA_predictions = RSA(alpha, cost_adjectives, salience_prior_flt)\n",
        "speaker  = pd.DataFrame(data = RSA_predictions['speaker'],\n",
        "                        index = object_names,\n",
        "                        columns = utterance_names)\n",
        "speaker['object'] = speaker.index\n",
        "print(speaker.round(2))\n",
        "\n",
        "listener = pd.DataFrame(data    = RSA_predictions['listener'],\n",
        "                        index   = utterance_names,\n",
        "                        columns = object_names)\n",
        "listener['utterance'] = listener.index\n",
        "print(listener.round(2))"
      ],
      "metadata": {
        "id": "RhkTtx5V31ZG",
        "outputId": "e348e3cc-cd0f-4a7c-8d39-a89169234b1d",
        "colab": {
          "base_uri": "https://localhost:8080/"
        }
      },
      "execution_count": 11,
      "outputs": [
        {
          "output_type": "stream",
          "name": "stdout",
          "text": [
            "              blue  circle  green  square   red  triangle        object\n",
            "blue_circle   0.31    0.69   0.00    0.00  0.00      0.00   blue_circle\n",
            "green_square  0.00    0.00   0.64    0.36  0.00      0.00  green_square\n",
            "blue_square   0.48    0.00   0.00    0.52  0.00      0.00   blue_square\n",
            "red_triangle  0.00    0.00   0.00    0.00  0.48      0.52  red_triangle\n",
            "          blue_circle  green_square  blue_square  red_triangle utterance\n",
            "blue              0.4           0.0          0.6           0.0      blue\n",
            "circle            1.0           0.0          0.0           0.0    circle\n",
            "green             0.0           1.0          0.0           0.0     green\n",
            "square            0.0           0.4          0.6           0.0    square\n",
            "red               0.0           0.0          0.0           1.0       red\n",
            "triangle          0.0           0.0          0.0           1.0  triangle\n"
          ]
        }
      ]
    },
    {
      "cell_type": "markdown",
      "metadata": {
        "id": "JxlXAFSIkaR9"
      },
      "source": [
        "## References\n",
        "\n"
      ]
    },
    {
      "cell_type": "markdown",
      "metadata": {
        "id": "7FcxGrztkaR_"
      },
      "source": [
        "Frank, M. C., & Goodman, N. D. (2012). Predicting pragmatic reasoning in language games. Science, 336(6084), 998. [http://dx.doi.org/10.1126/science.1218633](http://dx.doi.org/10.1126/science.1218633)\n",
        "\n",
        "Scontras, G., Tessler, M. H., & Franke, M. (2018). [Probabilistic language understanding: An introduction to the Rational Speech Act framework](http://www.problang.org/).\n",
        "\n"
      ]
    }
  ],
  "metadata": {
    "org": null,
    "kernelspec": {
      "display_name": "Python 3",
      "language": "python",
      "name": "python3"
    },
    "language_info": {
      "codemirror_mode": {
        "name": "ipython",
        "version": 3
      },
      "file_extension": ".py",
      "mimetype": "text/x-python",
      "name": "python",
      "nbconvert_exporter": "python",
      "pygments_lexer": "ipython3",
      "version": "3.5.2"
    },
    "colab": {
      "provenance": []
    }
  },
  "nbformat": 4,
  "nbformat_minor": 0
}