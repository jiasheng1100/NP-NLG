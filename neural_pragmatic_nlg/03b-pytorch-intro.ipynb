{
  "cells": [
    {
      "cell_type": "markdown",
      "metadata": {
        "id": "ZFJGH3e_ilgc"
      },
      "source": [
        "Sheet 2.1: PyTorch essentials\n",
        "=============================\n",
        "\n",
        "**Author:** Michael Franke\n",
        "\n"
      ]
    },
    {
      "cell_type": "markdown",
      "source": [
        "Student: Jia Sheng (5371477)"
      ],
      "metadata": {
        "id": "B6KMvrXX3sOj"
      }
    },
    {
      "cell_type": "markdown",
      "metadata": {
        "id": "jm_pRv-lilgf"
      },
      "source": [
        "This work sheet introduces the very basics of PyTorch.\n",
        "If you want to install PyTorch locally on your machine, follow [these instructions](https://pytorch.org/get-started/locally/).\n",
        "If installed, import the library to make it usable:\n",
        "\n"
      ]
    },
    {
      "cell_type": "code",
      "execution_count": 1,
      "metadata": {
        "id": "jCU8H2_Filgg"
      },
      "outputs": [],
      "source": [
        "import torch"
      ]
    },
    {
      "cell_type": "markdown",
      "metadata": {
        "id": "gtn6WOLxilgh"
      },
      "source": [
        "## Tensors\n",
        "\n"
      ]
    },
    {
      "cell_type": "markdown",
      "metadata": {
        "id": "Xkgx5ZDDilgi"
      },
      "source": [
        "Tensors are the default data structure used for the representation of\n",
        "numbers in PyTorch. In mathematics (algebra), a tensor is a\n",
        "generalization of the concept of a matrix. For our purposes, let&rsquo;s think\n",
        "of a tensor as basically an $n$-dimensional array of numbers.\n",
        "\n",
        "For example, a single scalar (a single number) is a zero-dimensional\n",
        "array. An $n$-dimensional vector is a one-dimensional array of $n$\n",
        "numbers. An $n \\times m$ matrix is a two-dimensional array with $n$\n",
        "rows and $m$ columns. All of these -scalars, vectors and matrices- are\n",
        "tensors. But *tensors also include even more high-dimensional objects*.\n",
        "For instance, an $k \\times n \\times m$ tensor is a three-dimensional\n",
        "array, which includes $k$ matrices, each of which has $n$ rows and\n",
        "$m$ columns. And so on.\n",
        "\n",
        "Full documetation for the \\`torch.Tensor\\` class can be found here:\n",
        "[https://pytorch.org/docs/stable/tensors.html](https://pytorch.org/docs/stable/tensors.html)\n",
        "\n",
        "![img](https://github.com/michael-franke/npNLG/blob/main/neural_pragmatic_nlg/pics/03-scalars-vectors-matrices-tensors.png?raw=1)\n",
        "\n",
        "> <strong><span style=&ldquo;color:#D83D2B;&rdquo;>Exercise 2.1.1: Dimensions of tensors</span></strong>\n",
        ">\n",
        "> What are the dimensions of the following tensors?\n",
        ">\n",
        "> 1. $1$\n",
        "> 2. $[1,2,3]$\n",
        "> 3. $[[1,2], [3,4]]$\n",
        "> 4. $[[1,2], [3,4], [5,6]]$\n",
        "> 5. $[[[1,2], [3,4], [5,6]]]$\n",
        "\n"
      ]
    },
    {
      "cell_type": "markdown",
      "source": [
        "### Answers to Exercise 2.1.1:\n",
        "1. 0D\n",
        "2. 1D\n",
        "3. 2D with 2 rows and 2 columns\n",
        "4. 2D with 3 rows and 2 columns\n",
        "5. 3D with 1 matrix, which has 3 rows and 2 columns"
      ],
      "metadata": {
        "id": "V0hhlLUakLkq"
      }
    },
    {
      "cell_type": "markdown",
      "metadata": {
        "id": "Wurmw8Tlilgj"
      },
      "source": [
        "## Creating a tensor\n",
        "\n"
      ]
    },
    {
      "cell_type": "markdown",
      "metadata": {
        "id": "kIM3PzHtilgk"
      },
      "source": [
        "There are various ways to create a tensor in PyTorch.\n",
        "We will go through a few examples here.\n",
        "\n",
        "Tensors can be initialised from a list:\n",
        "\n"
      ]
    },
    {
      "cell_type": "code",
      "execution_count": 2,
      "metadata": {
        "id": "JbaB5bRyilgl",
        "outputId": "fd8a2cf8-b657-4c8c-c590-b3072e8dc2ad",
        "colab": {
          "base_uri": "https://localhost:8080/"
        }
      },
      "outputs": [
        {
          "output_type": "execute_result",
          "data": {
            "text/plain": [
              "tensor([1, 2, 3, 4])"
            ]
          },
          "metadata": {},
          "execution_count": 2
        }
      ],
      "source": [
        "a_list = [1, 2, 3, 4]\n",
        "tensor_from_list = torch.tensor(a_list)\n",
        "tensor_from_list"
      ]
    },
    {
      "cell_type": "markdown",
      "metadata": {
        "id": "zTpZXQOAilgm"
      },
      "source": [
        "Or directly:\n",
        "\n"
      ]
    },
    {
      "cell_type": "code",
      "execution_count": 3,
      "metadata": {
        "id": "lpl45Ozjilgn",
        "outputId": "0c109b60-584a-436b-b927-c93364a9e7c6",
        "colab": {
          "base_uri": "https://localhost:8080/"
        }
      },
      "outputs": [
        {
          "output_type": "execute_result",
          "data": {
            "text/plain": [
              "tensor([1, 2, 3, 4])"
            ]
          },
          "metadata": {},
          "execution_count": 3
        }
      ],
      "source": [
        "new_tensor = torch.tensor([1, 2, 3, 4])\n",
        "new_tensor"
      ]
    },
    {
      "cell_type": "markdown",
      "metadata": {
        "id": "9-6hbZ8Filgo"
      },
      "source": [
        "Tensor construction will replicate shape and dimensionality of the data\n",
        "passed to it:\n",
        "\n"
      ]
    },
    {
      "cell_type": "code",
      "execution_count": 4,
      "metadata": {
        "id": "gZMbdTD1ilgp",
        "outputId": "bdda3f10-9028-4ba7-e61a-19f26232b9d7",
        "colab": {
          "base_uri": "https://localhost:8080/"
        }
      },
      "outputs": [
        {
          "output_type": "execute_result",
          "data": {
            "text/plain": [
              "tensor(1)"
            ]
          },
          "metadata": {},
          "execution_count": 4
        }
      ],
      "source": [
        "tensor_0d = torch.tensor(1)\n",
        "tensor_0d"
      ]
    },
    {
      "cell_type": "code",
      "execution_count": 5,
      "metadata": {
        "id": "pkGrBB9nilgq",
        "outputId": "a1447493-9319-44c0-8314-2aa2e25a45d8",
        "colab": {
          "base_uri": "https://localhost:8080/"
        }
      },
      "outputs": [
        {
          "output_type": "execute_result",
          "data": {
            "text/plain": [
              "tensor([[1, 2, 3],\n",
              "        [4, 5, 6]])"
            ]
          },
          "metadata": {},
          "execution_count": 5
        }
      ],
      "source": [
        "tensor_2d = torch.tensor([[1,2,3],[4,5,6]])\n",
        "tensor_2d"
      ]
    },
    {
      "cell_type": "markdown",
      "metadata": {
        "id": "NbXmXnDrilgq"
      },
      "source": [
        "Tensors can also be constructed from numpy arrays:\n",
        "\n"
      ]
    },
    {
      "cell_type": "code",
      "execution_count": 6,
      "metadata": {
        "id": "7nyCLt-gilgr",
        "outputId": "a4a82f25-f882-4fff-cb2f-f55c22235283",
        "colab": {
          "base_uri": "https://localhost:8080/"
        }
      },
      "outputs": [
        {
          "output_type": "execute_result",
          "data": {
            "text/plain": [
              "tensor([[0., 0.],\n",
              "        [0., 0.]], dtype=torch.float64)"
            ]
          },
          "metadata": {},
          "execution_count": 6
        }
      ],
      "source": [
        "import numpy as np\n",
        "\n",
        "np_array = np.zeros((2,2))\n",
        "np_array_to_tensor = torch.tensor(np_array)\n",
        "np_array_to_tensor"
      ]
    },
    {
      "cell_type": "markdown",
      "metadata": {
        "id": "pcMz8Kmrilgs"
      },
      "source": [
        "Or with build-in torch functionality:\n",
        "\n"
      ]
    },
    {
      "cell_type": "code",
      "execution_count": 7,
      "metadata": {
        "id": "F0MCGoVHilgs",
        "outputId": "a999d1b5-1f0a-4be5-e349-1ec4330b6780",
        "colab": {
          "base_uri": "https://localhost:8080/"
        }
      },
      "outputs": [
        {
          "output_type": "execute_result",
          "data": {
            "text/plain": [
              "tensor([[0., 0.],\n",
              "        [0., 0.]])"
            ]
          },
          "metadata": {},
          "execution_count": 7
        }
      ],
      "source": [
        "zeros = torch.zeros((2,2))\n",
        "zeros"
      ]
    },
    {
      "cell_type": "code",
      "execution_count": 8,
      "metadata": {
        "id": "ASd1vrbKilgt",
        "outputId": "e7795d7e-19d9-4725-f5da-162275c470d7",
        "colab": {
          "base_uri": "https://localhost:8080/"
        }
      },
      "outputs": [
        {
          "output_type": "execute_result",
          "data": {
            "text/plain": [
              "tensor([[1., 1., 1.],\n",
              "        [1., 1., 1.]])"
            ]
          },
          "metadata": {},
          "execution_count": 8
        }
      ],
      "source": [
        "ones = torch.ones((2,3))\n",
        "ones"
      ]
    },
    {
      "cell_type": "code",
      "execution_count": 9,
      "metadata": {
        "id": "DoU4gInkilgu",
        "outputId": "a181d6f9-6115-4107-a8da-cb233d639f89",
        "colab": {
          "base_uri": "https://localhost:8080/"
        }
      },
      "outputs": [
        {
          "output_type": "execute_result",
          "data": {
            "text/plain": [
              "tensor([[5, 5, 5],\n",
              "        [5, 5, 5],\n",
              "        [5, 5, 5],\n",
              "        [5, 5, 5]])"
            ]
          },
          "metadata": {},
          "execution_count": 9
        }
      ],
      "source": [
        "filled = torch.full((4,3), 5)\n",
        "filled"
      ]
    },
    {
      "cell_type": "markdown",
      "metadata": {
        "id": "vmHUnacnilgu"
      },
      "source": [
        "Often we might also want to fill tensors with random numbers.\n",
        "The function \\`torch.rand()\\` populates a tensor of the given size with random numbers drawn uniformly from the unit interval.\n",
        "\n"
      ]
    },
    {
      "cell_type": "code",
      "execution_count": 10,
      "metadata": {
        "id": "5WM0gCgAilgv",
        "outputId": "ecc7a4ab-155c-4a78-b80c-c28b5105098e",
        "colab": {
          "base_uri": "https://localhost:8080/"
        }
      },
      "outputs": [
        {
          "output_type": "execute_result",
          "data": {
            "text/plain": [
              "tensor([[0.2589, 0.2479, 0.5742],\n",
              "        [0.1019, 0.7040, 0.3938]])"
            ]
          },
          "metadata": {},
          "execution_count": 10
        }
      ],
      "source": [
        "torch.rand((2,3))"
      ]
    },
    {
      "cell_type": "markdown",
      "metadata": {
        "id": "HnXpG-mMilgv"
      },
      "source": [
        "> <strong><span style=&ldquo;color:#D83D2B;&rdquo;>Exercise 2.1.2: Creating tensors</span></strong>\n",
        ">\n",
        "> 1. Create a PyTorch tensor storing the following matrices:\n",
        ">\n",
        ">   a. $[[1,2], [3,4], [5,6]]$\n",
        ">\n",
        ">   b. $[[[1,2], [3,4], [5,6]], [[10,20], [30,40], [50,60]]]$\n",
        ">\n",
        "> 2. Create a PyTorch tensor of size $3 \\times 2 \\times 4$ filled with the number 3.\n",
        ">\n",
        ">\n",
        ">\n",
        "> 3. Create a PyTorch vector with 6 random numbers (lying between 0 and 1).\n",
        "\n"
      ]
    },
    {
      "cell_type": "code",
      "source": [
        "# Exercise 2.1.2.1a\n",
        "\n",
        "tensor1a = torch.tensor([[1,2],[3,4],[5,6]])\n",
        "tensor1a"
      ],
      "metadata": {
        "id": "OoOShN1FloE6",
        "outputId": "98e7eb02-386c-4aed-daf5-3da7432f312a",
        "colab": {
          "base_uri": "https://localhost:8080/"
        }
      },
      "execution_count": 15,
      "outputs": [
        {
          "output_type": "execute_result",
          "data": {
            "text/plain": [
              "tensor([[1, 2],\n",
              "        [3, 4],\n",
              "        [5, 6]])"
            ]
          },
          "metadata": {},
          "execution_count": 15
        }
      ]
    },
    {
      "cell_type": "code",
      "source": [
        "# Exercise 2.1.2.1b\n",
        "\n",
        "tensor1b = torch.tensor([[[1,2],[3,4],[5,6]],[[10,20],[30,40],[50,60]]])\n",
        "tensor1b"
      ],
      "metadata": {
        "id": "FRFfWwKOl6FD",
        "outputId": "9d80033a-7d6c-4353-9e0f-975a57ae5440",
        "colab": {
          "base_uri": "https://localhost:8080/"
        }
      },
      "execution_count": 16,
      "outputs": [
        {
          "output_type": "execute_result",
          "data": {
            "text/plain": [
              "tensor([[[ 1,  2],\n",
              "         [ 3,  4],\n",
              "         [ 5,  6]],\n",
              "\n",
              "        [[10, 20],\n",
              "         [30, 40],\n",
              "         [50, 60]]])"
            ]
          },
          "metadata": {},
          "execution_count": 16
        }
      ]
    },
    {
      "cell_type": "code",
      "source": [
        "# Exercise 2.1.2.2\n",
        "\n",
        "tensor2 = torch.full((3, 2, 4), 3)\n",
        "tensor2"
      ],
      "metadata": {
        "id": "m07TrF_vmKOl",
        "outputId": "697a715a-0cf7-4d1d-8993-40680e5ad78d",
        "colab": {
          "base_uri": "https://localhost:8080/"
        }
      },
      "execution_count": 17,
      "outputs": [
        {
          "output_type": "execute_result",
          "data": {
            "text/plain": [
              "tensor([[[3, 3, 3, 3],\n",
              "         [3, 3, 3, 3]],\n",
              "\n",
              "        [[3, 3, 3, 3],\n",
              "         [3, 3, 3, 3]],\n",
              "\n",
              "        [[3, 3, 3, 3],\n",
              "         [3, 3, 3, 3]]])"
            ]
          },
          "metadata": {},
          "execution_count": 17
        }
      ]
    },
    {
      "cell_type": "code",
      "source": [
        "# Exercise 2.1.2.3\n",
        "\n",
        "tensor3 = torch.rand(6)\n",
        "tensor3"
      ],
      "metadata": {
        "id": "RBUGFTbsmf-c",
        "outputId": "c29f5e95-73fc-4448-c7fb-2ffa790deeb1",
        "colab": {
          "base_uri": "https://localhost:8080/"
        }
      },
      "execution_count": 18,
      "outputs": [
        {
          "output_type": "execute_result",
          "data": {
            "text/plain": [
              "tensor([0.0806, 0.3942, 0.1932, 0.0957, 0.4642, 0.3651])"
            ]
          },
          "metadata": {},
          "execution_count": 18
        }
      ]
    },
    {
      "cell_type": "markdown",
      "metadata": {
        "id": "QiYHQ1zHilgw"
      },
      "source": [
        "## Row & column vectors\n",
        "\n"
      ]
    },
    {
      "cell_type": "markdown",
      "metadata": {
        "id": "Fggfxubcilgw"
      },
      "source": [
        "A one-dimensional tensor is a row-vector:\n",
        "\n"
      ]
    },
    {
      "cell_type": "code",
      "execution_count": 19,
      "metadata": {
        "id": "5JtJkjvpilgx",
        "outputId": "e20c1f97-88f6-4669-8ecb-af627eb66a98",
        "colab": {
          "base_uri": "https://localhost:8080/"
        }
      },
      "outputs": [
        {
          "output_type": "stream",
          "name": "stdout",
          "text": [
            "tensor([  1,  10, 100])\n",
            "torch.Size([3])\n"
          ]
        }
      ],
      "source": [
        "row_vector = torch.tensor([1,10,100])\n",
        "print(row_vector)\n",
        "print(row_vector.size())"
      ]
    },
    {
      "cell_type": "markdown",
      "metadata": {
        "id": "xRAtCd08ilgy"
      },
      "source": [
        "Strictly speaking, there are no column vectors in PyTorch.\n",
        "A column vector would be a matrix with one column:\n",
        "\n"
      ]
    },
    {
      "cell_type": "code",
      "execution_count": 20,
      "metadata": {
        "id": "8yu2MxDOilgy",
        "outputId": "e8b1de10-8a99-4534-9374-0c25fe070240",
        "colab": {
          "base_uri": "https://localhost:8080/"
        }
      },
      "outputs": [
        {
          "output_type": "stream",
          "name": "stdout",
          "text": [
            "tensor([[  1],\n",
            "        [ 10],\n",
            "        [100]])\n",
            "torch.Size([3, 1])\n"
          ]
        }
      ],
      "source": [
        "col_vector = torch.tensor([[1],[10],[100]])\n",
        "print(col_vector)\n",
        "print(col_vector.size())"
      ]
    },
    {
      "cell_type": "markdown",
      "metadata": {
        "id": "lVQUKuvjilgz"
      },
      "source": [
        "## Tensor data types\n",
        "\n"
      ]
    },
    {
      "cell_type": "markdown",
      "metadata": {
        "id": "dXWCFzP8ilgz"
      },
      "source": [
        "Tensor-supported data types are:\n",
        "\n",
        "-   numeric: float, int\n",
        "-   boolean\n",
        "-   complex numbers\n",
        "\n",
        "We can retrieve the type of a tensor with \\`.dtype\\`.\n",
        "\n"
      ]
    },
    {
      "cell_type": "code",
      "execution_count": 21,
      "metadata": {
        "id": "LbigkOA5ilgz",
        "outputId": "49721bff-259f-4026-be51-c1242d9119b8",
        "colab": {
          "base_uri": "https://localhost:8080/"
        }
      },
      "outputs": [
        {
          "output_type": "execute_result",
          "data": {
            "text/plain": [
              "torch.float32"
            ]
          },
          "metadata": {},
          "execution_count": 21
        }
      ],
      "source": [
        "torch.tensor([1.5, 2.1]).dtype"
      ]
    },
    {
      "cell_type": "markdown",
      "metadata": {
        "id": "Om2opT8milg0"
      },
      "source": [
        "If we construct a tensor with an integer, its type will be integer.\n",
        "Compare:\n",
        "\n"
      ]
    },
    {
      "cell_type": "code",
      "execution_count": 22,
      "metadata": {
        "id": "gUVs_I2kilg0",
        "outputId": "1b442904-dec3-4b03-cdfb-c0ed9295c878",
        "colab": {
          "base_uri": "https://localhost:8080/"
        }
      },
      "outputs": [
        {
          "output_type": "stream",
          "name": "stdout",
          "text": [
            "torch.int64\n",
            "torch.float32\n"
          ]
        }
      ],
      "source": [
        "print(torch.tensor(5).dtype)\n",
        "print(torch.tensor(5.0).dtype)"
      ]
    },
    {
      "cell_type": "markdown",
      "metadata": {
        "id": "iYVQUapdilg0"
      },
      "source": [
        "It is possible to declare the type explicitly, when constructing a tensor:\n",
        "\n"
      ]
    },
    {
      "cell_type": "code",
      "execution_count": 23,
      "metadata": {
        "id": "VhSuOuHoilg1",
        "outputId": "ba2e1511-7fa3-4d09-9d34-ef89a2602c5f",
        "colab": {
          "base_uri": "https://localhost:8080/"
        }
      },
      "outputs": [
        {
          "output_type": "stream",
          "name": "stdout",
          "text": [
            "torch.float64\n",
            "torch.bool\n"
          ]
        }
      ],
      "source": [
        "print(torch.tensor(5,   dtype=torch.float64).dtype)\n",
        "print(torch.tensor(1.0, dtype=torch.bool).dtype)"
      ]
    },
    {
      "cell_type": "markdown",
      "metadata": {
        "id": "7E7O4ffzilg1"
      },
      "source": [
        "All the values in the same tensor are of the same data type.\n",
        "\n"
      ]
    },
    {
      "cell_type": "code",
      "execution_count": 24,
      "metadata": {
        "id": "vCx21-Huilg2",
        "outputId": "283e9310-cdec-41fc-8acd-895417017508",
        "colab": {
          "base_uri": "https://localhost:8080/"
        }
      },
      "outputs": [
        {
          "output_type": "stream",
          "name": "stdout",
          "text": [
            "tensor([True, True])\n",
            "torch.bool\n"
          ]
        }
      ],
      "source": [
        "true = torch.tensor([True, True])\n",
        "print(true)\n",
        "print(true.dtype)"
      ]
    },
    {
      "cell_type": "markdown",
      "metadata": {
        "id": "Nz9gv6PZilg2"
      },
      "source": [
        "Careful: PyTorch will implicitly cast data types.\n",
        "\n"
      ]
    },
    {
      "cell_type": "code",
      "execution_count": 25,
      "metadata": {
        "id": "1lGTBxCCilg2",
        "outputId": "0e4b2c2c-300f-4d8e-87d0-ed046fe573ae",
        "colab": {
          "base_uri": "https://localhost:8080/"
        }
      },
      "outputs": [
        {
          "output_type": "stream",
          "name": "stdout",
          "text": [
            "tensor([1, 1])\n",
            "torch.int64\n"
          ]
        }
      ],
      "source": [
        "mix = torch.tensor([True, 1])\n",
        "print(mix)\n",
        "print(mix.dtype)"
      ]
    },
    {
      "cell_type": "markdown",
      "metadata": {
        "id": "bJcni2quilg2"
      },
      "source": [
        "What about strings? PyTorch tensors have no character or string data\n",
        "type support.\n",
        "\n"
      ]
    },
    {
      "cell_type": "code",
      "execution_count": 26,
      "metadata": {
        "id": "kxAUETY_ilg2",
        "outputId": "911c5e83-5eb1-43d9-de8d-8cccddf439af",
        "colab": {
          "base_uri": "https://localhost:8080/"
        }
      },
      "outputs": [
        {
          "output_type": "execute_result",
          "data": {
            "text/plain": [
              "tensor([ 72, 101, 108, 108, 111,  32,  87, 111, 114, 108, 100,  33])"
            ]
          },
          "metadata": {},
          "execution_count": 26
        }
      ],
      "source": [
        "hello        = 'Hello World!'\n",
        "hello_tensor = torch.tensor([ord(char) for char in hello])\n",
        "hello_tensor"
      ]
    },
    {
      "cell_type": "markdown",
      "metadata": {
        "id": "Za8oi78Nilg3"
      },
      "source": [
        "## Attributes of a tensor\n",
        "\n"
      ]
    },
    {
      "cell_type": "markdown",
      "metadata": {
        "id": "ZercjnB0ilg3"
      },
      "source": [
        "Tensors have attributes, which store information about some of their important properties.\n",
        "Here are some important examples:\n",
        "\n"
      ]
    },
    {
      "cell_type": "code",
      "execution_count": 27,
      "metadata": {
        "id": "CfyzZDDEilg3",
        "outputId": "4b9fa534-ccc8-4065-f361-ca1cc80dc74e",
        "colab": {
          "base_uri": "https://localhost:8080/"
        }
      },
      "outputs": [
        {
          "output_type": "stream",
          "name": "stdout",
          "text": [
            "Datatype of tensor         : torch.int64\n",
            "Shape of tensor            : torch.Size([12])\n",
            "Device tensor is stored on : cpu\n"
          ]
        }
      ],
      "source": [
        "print(f\"Datatype of tensor         : {hello_tensor.dtype}\")\n",
        "print(f\"Shape of tensor            : {hello_tensor.shape}\")\n",
        "print(f\"Device tensor is stored on : {hello_tensor.device}\")"
      ]
    },
    {
      "cell_type": "markdown",
      "metadata": {
        "id": "r4xnrtCWilg4"
      },
      "source": [
        "We have seen \\`dtype\\` already.\n",
        "The property \\`shape\\` gives equal output as a call to function \\`.size()\\`.\n",
        "The property assessed with \\`.device\\` tells us where the tensor is stored and manipulated.\n",
        "The default is the CPU.\n",
        "If your machine allows you can also shift all your tensors to a GPU.\n",
        "The syntax for doing this is slightly different on different machines.\n",
        "\n",
        "> <strong><span style=&ldquo;color:#D83D2B;&rdquo;>Exercise 2.1.3: Tensor attributes & types </span></strong>\n",
        ">\n",
        "> 1. Inspect the tensor type with \\`.dtype\\` for tensors created from a list containing two different data types supported by PyTorch (int, float, Boolean).\n",
        ">\n",
        "> 2. Use \\`.shape\\` or \\`.size()\\` to inspect the shape of a (row) vector, a single column matrix, and a $2 \\times 3$ matrix.\n",
        "\n"
      ]
    },
    {
      "cell_type": "code",
      "source": [
        "# Exercise 2.1.3.1\n",
        "\n",
        "type1 = torch.tensor([1, 1.7, 1, 1, 1.3])\n",
        "type1.dtype"
      ],
      "metadata": {
        "id": "COFZqZP_wfuB",
        "outputId": "0ce8683e-0893-4bac-cb3e-eb1d8dd0b642",
        "colab": {
          "base_uri": "https://localhost:8080/"
        }
      },
      "execution_count": 28,
      "outputs": [
        {
          "output_type": "execute_result",
          "data": {
            "text/plain": [
              "torch.float32"
            ]
          },
          "metadata": {},
          "execution_count": 28
        }
      ]
    },
    {
      "cell_type": "code",
      "source": [
        "# Exercise 2.1.3.2\n",
        "\n",
        "row_vector = torch.tensor([1, 2, 3, 4, 5])\n",
        "col_vector = torch.tensor([[1], [2], [3], [4], [5]])\n",
        "matrix = torch.zeros((2, 3))\n",
        "print(row_vector.shape)\n",
        "print(col_vector.shape)\n",
        "print(matrix.shape)"
      ],
      "metadata": {
        "id": "yuYDaWAjxFin",
        "outputId": "dae4f86c-46c3-4611-f326-1164744671b8",
        "colab": {
          "base_uri": "https://localhost:8080/"
        }
      },
      "execution_count": 29,
      "outputs": [
        {
          "output_type": "stream",
          "name": "stdout",
          "text": [
            "torch.Size([5])\n",
            "torch.Size([5, 1])\n",
            "torch.Size([2, 3])\n"
          ]
        }
      ]
    },
    {
      "cell_type": "markdown",
      "metadata": {
        "id": "pAT4ywyuilg4"
      },
      "source": [
        "## Operations on tensors\n",
        "\n"
      ]
    },
    {
      "cell_type": "markdown",
      "metadata": {
        "id": "8h0QBqO2ilg5"
      },
      "source": [
        "### Indexing and slicing\n",
        "\n"
      ]
    },
    {
      "cell_type": "markdown",
      "metadata": {
        "id": "OmFzgYduilg5"
      },
      "source": [
        "Indexing & slicing works in the way familiar from numpy.\n",
        "\n"
      ]
    },
    {
      "cell_type": "code",
      "execution_count": 30,
      "metadata": {
        "id": "edzR_p6dilg6",
        "outputId": "8d7a7b4c-1e21-43b9-9c6f-61e5311f0b90",
        "colab": {
          "base_uri": "https://localhost:8080/"
        }
      },
      "outputs": [
        {
          "output_type": "stream",
          "name": "stdout",
          "text": [
            "tensor([[1, 2, 3],\n",
            "        [4, 5, 6],\n",
            "        [7, 8, 9]])\n",
            "tensor(6)\n",
            "tensor([7, 8, 9])\n",
            "tensor([7, 8, 9])\n",
            "tensor([2, 5, 8])\n"
          ]
        }
      ],
      "source": [
        "matrix = torch.tensor([[1,2,3], [4,5,6], [7,8,9]])\n",
        "print(matrix)\n",
        "print(matrix[1,2])   # single element\n",
        "print(matrix[2,:])   # third row\n",
        "print(matrix[2])     # third row (alternative)\n",
        "print(matrix[:,1])   # second column"
      ]
    },
    {
      "cell_type": "markdown",
      "metadata": {
        "id": "3sgzvW2_ilg6"
      },
      "source": [
        "### Joining tensors\n",
        "\n"
      ]
    },
    {
      "cell_type": "markdown",
      "metadata": {
        "id": "9PlyM-Hsilg7"
      },
      "source": [
        "We can concatenate tensor like so:\n",
        "\n"
      ]
    },
    {
      "cell_type": "code",
      "execution_count": 31,
      "metadata": {
        "id": "Os4PHGWHilg7",
        "outputId": "dbc17659-a6af-4fa1-f3ef-06df7fbfd353",
        "colab": {
          "base_uri": "https://localhost:8080/"
        }
      },
      "outputs": [
        {
          "output_type": "stream",
          "name": "stdout",
          "text": [
            "tensor([1, 2, 3, 4, 5, 6])\n"
          ]
        }
      ],
      "source": [
        "head          = torch.tensor([1,2,3])\n",
        "tail          = torch.tensor([4,5,6])\n",
        "head_and_tail = torch.cat([head, tail])\n",
        "print(head_and_tail)"
      ]
    },
    {
      "cell_type": "markdown",
      "metadata": {
        "id": "FdZjpoCFilg8"
      },
      "source": [
        "What if we want to add a dimension?\n",
        "\n"
      ]
    },
    {
      "cell_type": "code",
      "execution_count": 32,
      "metadata": {
        "id": "Al43Jooyilg8",
        "outputId": "be46ddc6-e699-4250-f039-e7f8385cfdca",
        "colab": {
          "base_uri": "https://localhost:8080/"
        }
      },
      "outputs": [
        {
          "output_type": "stream",
          "name": "stdout",
          "text": [
            "tensor([[1, 2, 3],\n",
            "        [4, 5, 6]])\n"
          ]
        }
      ],
      "source": [
        "print(torch.stack([head, tail]))"
      ]
    },
    {
      "cell_type": "markdown",
      "metadata": {
        "id": "qyHUywhVilg8"
      },
      "source": [
        "### Reshaping\n",
        "\n"
      ]
    },
    {
      "cell_type": "markdown",
      "metadata": {
        "id": "yXf0sztqilg9"
      },
      "source": [
        "The function \\`torch.reshape()\\` is a frequently used way of returning a tensor in the\n",
        "specified shape.\n",
        "Its input are the desired output dimensions.\n",
        "NB: the reshaping returns a new tensor and does not modify the old tensor.\n",
        "\n"
      ]
    },
    {
      "cell_type": "code",
      "execution_count": 33,
      "metadata": {
        "id": "gWuOIOXNilg9",
        "outputId": "2bb3a0d8-1dc9-4f36-884a-fde3b1ce5ed0",
        "colab": {
          "base_uri": "https://localhost:8080/"
        }
      },
      "outputs": [
        {
          "output_type": "stream",
          "name": "stdout",
          "text": [
            "tensor([[1, 2],\n",
            "        [3, 4]])\n",
            "tensor([[1],\n",
            "        [2],\n",
            "        [3],\n",
            "        [4]])\n"
          ]
        }
      ],
      "source": [
        "tensor_1 = torch.tensor([[1, 2], [3, 4]])\n",
        "tensor_2 = tensor_1.reshape(4, 1)\n",
        "print(tensor_1)\n",
        "print(tensor_2)"
      ]
    },
    {
      "cell_type": "code",
      "execution_count": 34,
      "metadata": {
        "id": "RVdTqB_4ilg-",
        "outputId": "59a29e80-87e5-4072-d899-69ca3ad797ad",
        "colab": {
          "base_uri": "https://localhost:8080/"
        }
      },
      "outputs": [
        {
          "output_type": "stream",
          "name": "stdout",
          "text": [
            "tensor([[0, 1],\n",
            "        [2, 3]])\n",
            "tensor([0, 1, 2, 3])\n",
            "tensor([[0],\n",
            "        [1],\n",
            "        [2],\n",
            "        [3]])\n",
            "tensor([[0, 1, 2, 3]])\n"
          ]
        }
      ],
      "source": [
        "a = torch.tensor([[0, 1],\n",
        "                  [2, 3]])\n",
        "b = torch.reshape(a, (-1,))      # to (row) vector\n",
        "c = torch.reshape(a, (-1, 1))    # to one col matrix (~ col vector)\n",
        "d = torch.reshape(a, (1, -1))    # to one row matrix\n",
        "print(a)\n",
        "print(b)\n",
        "print(c)\n",
        "print(d)"
      ]
    },
    {
      "cell_type": "markdown",
      "metadata": {
        "id": "qEYpCjQwilg-"
      },
      "source": [
        "There is also the function \\`.flatten()\\` which returns all elements of a tensor.\n",
        "\n"
      ]
    },
    {
      "cell_type": "code",
      "execution_count": 35,
      "metadata": {
        "id": "HOBb80ljilg-",
        "outputId": "0b24ff36-9e2f-40fa-86ac-b172ecae1aa9",
        "colab": {
          "base_uri": "https://localhost:8080/"
        }
      },
      "outputs": [
        {
          "output_type": "stream",
          "name": "stdout",
          "text": [
            "tensor([[[0, 1],\n",
            "         [2, 3]],\n",
            "\n",
            "        [[4, 5],\n",
            "         [6, 7]]])\n",
            "tensor([0, 1, 2, 3, 4, 5, 6, 7])\n"
          ]
        }
      ],
      "source": [
        "a = torch.tensor([ [[0, 1], [2, 3]], [[4, 5], [6, 7]]] )\n",
        "print(a)\n",
        "print(torch.flatten(a))"
      ]
    },
    {
      "cell_type": "markdown",
      "metadata": {
        "id": "5GdQ1g2nilg_"
      },
      "source": [
        "### Transposing\n",
        "\n"
      ]
    },
    {
      "cell_type": "markdown",
      "metadata": {
        "id": "w-VWIjOzilg_"
      },
      "source": [
        "It is possible to transpose a tensor (with a dimension at least 2) by specified dimesions using the\n",
        "function: \\`torch.transpose()\\`,\n",
        "This function takes the dimensions which are to be transposed as an argument.\n",
        "\n"
      ]
    },
    {
      "cell_type": "code",
      "execution_count": 36,
      "metadata": {
        "id": "6POptW5BilhA",
        "outputId": "0393a942-a7c5-42c7-d0fe-cac011f03568",
        "colab": {
          "base_uri": "https://localhost:8080/"
        }
      },
      "outputs": [
        {
          "output_type": "stream",
          "name": "stdout",
          "text": [
            "tensor([[[10, 20, 30],\n",
            "         [40, 50, 60],\n",
            "         [70, 80, 90]],\n",
            "\n",
            "        [[ 1,  2,  3],\n",
            "         [ 4,  5,  6],\n",
            "         [ 7,  8,  9]]])\n",
            "tensor([[[10, 40, 70],\n",
            "         [20, 50, 80],\n",
            "         [30, 60, 90]],\n",
            "\n",
            "        [[ 1,  4,  7],\n",
            "         [ 2,  5,  8],\n",
            "         [ 3,  6,  9]]])\n"
          ]
        }
      ],
      "source": [
        "tensor_1 = torch.tensor([[[10, 20, 30], [40, 50, 60], [70, 80, 90]],\n",
        "                         [[1,2,3],[4,5,6],[7,8,9]] ])\n",
        "tensor_1_transpose = torch.transpose(tensor_1, 1, 2)\n",
        "print(tensor_1)\n",
        "print(tensor_1_transpose)"
      ]
    },
    {
      "cell_type": "markdown",
      "metadata": {
        "id": "6TPSAILWilhA"
      },
      "source": [
        "### Tensor arithmetic\n",
        "\n"
      ]
    },
    {
      "cell_type": "markdown",
      "metadata": {
        "id": "Duz5zqeHilhB"
      },
      "source": [
        "The usual infix notation for arithmetic functions works element-wise on tensors:\n",
        "\n"
      ]
    },
    {
      "cell_type": "code",
      "execution_count": 37,
      "metadata": {
        "id": "JsBAL51BilhB",
        "outputId": "95f50108-7ff5-492a-bb86-9a73c8560908",
        "colab": {
          "base_uri": "https://localhost:8080/"
        }
      },
      "outputs": [
        {
          "output_type": "stream",
          "name": "stdout",
          "text": [
            "tensor([ 2,  6, 11])\n",
            "tensor([ 0, -2, -5])\n",
            "tensor([ 1,  8, 24])\n",
            "tensor([1.0000, 0.5000, 0.3750])\n",
            "tensor([  1,  16, 512])\n"
          ]
        }
      ],
      "source": [
        "x = torch.tensor([1,2,3])\n",
        "y = torch.tensor([1,4,8])\n",
        "print(x + y)\n",
        "print(x - y)\n",
        "print(x * y)\n",
        "print(x / y)\n",
        "print(y ** x)"
      ]
    },
    {
      "cell_type": "markdown",
      "metadata": {
        "id": "4qXrFmZOilhC"
      },
      "source": [
        "### Broadcasting\n",
        "\n"
      ]
    },
    {
      "cell_type": "markdown",
      "metadata": {
        "id": "5L9Q7UQ_ilhC"
      },
      "source": [
        "When we apply these operations to tensors of different sizes, PyTorch will try to broadcast the input.\n",
        "\n",
        "For example, if we multiply a vector with a scalar, the scalar is broadcasted (extended) to a vector of the same length.\n",
        "The result is that each element in the vector is multiplied by that scalar.\n",
        "\n"
      ]
    },
    {
      "cell_type": "code",
      "execution_count": 38,
      "metadata": {
        "id": "TuLpu-BkilhC",
        "outputId": "e7f69a05-29d6-4b6f-c7c1-97809ce85556",
        "colab": {
          "base_uri": "https://localhost:8080/"
        }
      },
      "outputs": [
        {
          "output_type": "stream",
          "name": "stdout",
          "text": [
            "tensor([ 4,  8, 12])\n"
          ]
        }
      ],
      "source": [
        "x = torch.tensor([1,2,3])\n",
        "print(x * 4)"
      ]
    },
    {
      "cell_type": "markdown",
      "metadata": {
        "id": "e0qpklbXilhD"
      },
      "source": [
        "Similarly, for higher dimensions.\n",
        "With the usual arithmetic operations, a row vector will be recycled in the obvious way.\n",
        "\n"
      ]
    },
    {
      "cell_type": "code",
      "execution_count": 39,
      "metadata": {
        "id": "TO8VPVvRilhD",
        "outputId": "dc30bb2e-f300-4039-fd98-11743dda7262",
        "colab": {
          "base_uri": "https://localhost:8080/"
        }
      },
      "outputs": [
        {
          "output_type": "stream",
          "name": "stdout",
          "text": [
            "multiplication:\n",
            " tensor([[ 1, 20],\n",
            "        [ 3, 40]])\n"
          ]
        }
      ],
      "source": [
        "row_vector = torch.tensor([1,10])\n",
        "matrix     = torch.tensor([[1,2], [3,4]])\n",
        "print(\"multiplication:\\n\", matrix * row_vector)"
      ]
    },
    {
      "cell_type": "code",
      "execution_count": 40,
      "metadata": {
        "id": "-8lwauVHilhD",
        "outputId": "d5fbea93-a90f-492e-e368-3eb97db96af7",
        "colab": {
          "base_uri": "https://localhost:8080/"
        }
      },
      "outputs": [
        {
          "output_type": "stream",
          "name": "stdout",
          "text": [
            "division:\n",
            " tensor([[1.0000, 0.2000],\n",
            "        [3.0000, 0.4000]])\n"
          ]
        }
      ],
      "source": [
        "print(\"division:\\n\" , matrix / row_vector)"
      ]
    },
    {
      "cell_type": "code",
      "execution_count": 41,
      "metadata": {
        "id": "VjFS4NOnilhE",
        "outputId": "d3d10942-a074-423f-b6fe-40ec865d91d3",
        "colab": {
          "base_uri": "https://localhost:8080/"
        }
      },
      "outputs": [
        {
          "output_type": "stream",
          "name": "stdout",
          "text": [
            "addition:\n",
            " tensor([[ 2, 12],\n",
            "        [ 4, 14]])\n",
            "subtraction:\n",
            " tensor([[ 0, -8],\n",
            "        [ 2, -6]])\n"
          ]
        }
      ],
      "source": [
        "print(\"addition:\\n\"    , matrix + row_vector)\n",
        "print(\"subtraction:\\n\" , matrix - row_vector)"
      ]
    },
    {
      "cell_type": "markdown",
      "metadata": {
        "id": "F4BPhd9pilhE"
      },
      "source": [
        "The precise documentation of broadcasting is [here](https://pytorch.org/docs/stable/notes/broadcasting.html#broadcasting-semantics).\n",
        "\n"
      ]
    },
    {
      "cell_type": "markdown",
      "metadata": {
        "id": "P9INyZAvilhE"
      },
      "source": [
        "### Matrix Multiplication\n",
        "\n"
      ]
    },
    {
      "cell_type": "markdown",
      "metadata": {
        "id": "RFXKqVopilhF"
      },
      "source": [
        "To perform a matrix multiplications on tensors, we use the function\n",
        "\\`torch.matmmul(tensor1, tensor2)\\`, or its short-form notation \\`tensor1 @ tensor2\\`.\n",
        "If \\`tensor1\\` is an $(n×m)$ tensor, and \\`tensor2\\` is an $(m×p)$ tensor, the\n",
        "output will be an $(n×p)$ tensor.\n",
        "\n"
      ]
    },
    {
      "cell_type": "code",
      "execution_count": 42,
      "metadata": {
        "id": "GJTiujESilhF",
        "outputId": "689d01f0-2e80-44f7-80cb-d599f6a1d836",
        "colab": {
          "base_uri": "https://localhost:8080/"
        }
      },
      "outputs": [
        {
          "output_type": "stream",
          "name": "stdout",
          "text": [
            "tensor([[ 12, 200],\n",
            "        [ 34, 400],\n",
            "        [ 56, 600]])\n",
            "tensor([[ 12, 200],\n",
            "        [ 34, 400],\n",
            "        [ 56, 600]])\n"
          ]
        }
      ],
      "source": [
        "tensor1 = torch.tensor([[1, 2], [3, 4], [5, 6]])\n",
        "tensor2 = torch.tensor([[10, 0], [1, 100]])\n",
        "print(torch.matmul(tensor1, tensor2))\n",
        "print(tensor1 @ tensor2)"
      ]
    },
    {
      "cell_type": "markdown",
      "metadata": {
        "id": "Zu5tKO8cilhG"
      },
      "source": [
        "Notice that the function \\`torch.matmul()\\` implicitly converts and broadcasts and so also flexibly applies yields a matrix-vector product or a dot products.\n",
        "\n"
      ]
    },
    {
      "cell_type": "code",
      "execution_count": 43,
      "metadata": {
        "id": "c661Xa94ilhG",
        "outputId": "8eae132f-2b19-4be4-8ad9-a831349846f6",
        "colab": {
          "base_uri": "https://localhost:8080/"
        }
      },
      "outputs": [
        {
          "output_type": "stream",
          "name": "stdout",
          "text": [
            "tensor([[1, 2],\n",
            "        [3, 4],\n",
            "        [5, 6]])\n",
            "tensor([ 1, 10])\n",
            "tensor([21, 43, 65])\n",
            "tensor(101)\n"
          ]
        }
      ],
      "source": [
        "matrix = torch.tensor([[1, 2], [3, 4], [5, 6]])\n",
        "vector = torch.tensor([1,10])\n",
        "print(matrix)\n",
        "print(vector)\n",
        "print(matrix @ vector)  # matrix-vector product\n",
        "print(vector @ vector)  # dot prodcut"
      ]
    },
    {
      "cell_type": "markdown",
      "metadata": {
        "id": "Q9vgQ8rWilhH"
      },
      "source": [
        "Full documentation of \\`torch.matmul()\\` is [here](https://pytorch.org/docs/stable/generated/torch.matmul.html).\n",
        "\n"
      ]
    },
    {
      "cell_type": "markdown",
      "metadata": {
        "id": "R4rdrE8LilhH"
      },
      "source": [
        "### Assessing just the values of a tensor\n",
        "\n"
      ]
    },
    {
      "cell_type": "markdown",
      "metadata": {
        "id": "Z27cQpw2ilhH"
      },
      "source": [
        "The \\`tensor.item()\\` function returns the value of a single-item tensor without any further information, which is often useful for inspection or plotting of results:\n",
        "\n"
      ]
    },
    {
      "cell_type": "code",
      "execution_count": 44,
      "metadata": {
        "id": "zD4kK9dqilhI",
        "outputId": "2f9fb843-f9ba-4c7b-e06d-f9cfcdbe68ef",
        "colab": {
          "base_uri": "https://localhost:8080/"
        }
      },
      "outputs": [
        {
          "output_type": "stream",
          "name": "stdout",
          "text": [
            "tensor(4)\n",
            "4\n"
          ]
        }
      ],
      "source": [
        "tensor = torch.tensor([[1, 2], [3, 4], [5, 6]])\n",
        "print(tensor[1,1])\n",
        "print(tensor[1,1].item())"
      ]
    },
    {
      "cell_type": "markdown",
      "metadata": {
        "id": "1ApSyuvVilhI"
      },
      "source": [
        "To convert a larger tensor back to numpy (e.g., for plotting) you can do this:\n",
        "\n"
      ]
    },
    {
      "cell_type": "code",
      "execution_count": 45,
      "metadata": {
        "id": "uLZgoEsGilhI",
        "outputId": "19176968-a12f-4fd5-dd04-7d7dc17a19f0",
        "colab": {
          "base_uri": "https://localhost:8080/"
        }
      },
      "outputs": [
        {
          "output_type": "execute_result",
          "data": {
            "text/plain": [
              "array([[1, 2, 3],\n",
              "       [4, 5, 6]])"
            ]
          },
          "metadata": {},
          "execution_count": 45
        }
      ],
      "source": [
        "another_tensor = torch.tensor([[1,2,3], [4,5,6]])\n",
        "another_tensor.detach().numpy()"
      ]
    },
    {
      "cell_type": "markdown",
      "metadata": {
        "id": "eSPvrq4iilhJ"
      },
      "source": [
        "> <strong><span style=&ldquo;color:#D83D2B;&rdquo;>Exercise 2.1.4: Operations on tensors</span></strong>\n",
        ">\n",
        "> 1. Define a tensor for matrix $[[[1,2], [3,4], [5,6]]]$. Create new tensors obtained by Reshaping this matrix into a vector (row vector), a one-column matrix. Also, create its transpose.\n",
        ">\n",
        "> 2. Compute the dot product between $[1,3,5]$ and $[1,10,100]$.\n",
        ">\n",
        "> 3. Compute the matrix product between PyTorch tensors $[[1], [2], [3]]$ and $[[1,10,100]]$. Convert the result to a numpy array.\n",
        "\n"
      ]
    },
    {
      "cell_type": "code",
      "source": [
        "# Exercise 2.1.4.1\n",
        "\n",
        "# define the tensor \n",
        "matrix = torch.tensor([[[1,2],[3,4],[5,6]]])\n",
        "print(matrix)\n",
        "\n",
        "# reshape this matrix into a vector\n",
        "vector = matrix.reshape(6)\n",
        "print(vector)\n",
        "\n",
        "# reshape the matrix into a one-column matrix\n",
        "one_column_matrix = matrix.reshape(6, 1)\n",
        "print(one_column_matrix)\n",
        "\n",
        "# create its transpose\n",
        "transpose = torch.transpose(matrix, 1, 2)\n",
        "print(transpose)"
      ],
      "metadata": {
        "id": "T-GTs5eM0J8V",
        "outputId": "8b5f5a21-1e74-49d2-b7a7-85fc761d5df6",
        "colab": {
          "base_uri": "https://localhost:8080/"
        }
      },
      "execution_count": 50,
      "outputs": [
        {
          "output_type": "stream",
          "name": "stdout",
          "text": [
            "tensor([[[1, 2],\n",
            "         [3, 4],\n",
            "         [5, 6]]])\n",
            "tensor([1, 2, 3, 4, 5, 6])\n",
            "tensor([[1],\n",
            "        [2],\n",
            "        [3],\n",
            "        [4],\n",
            "        [5],\n",
            "        [6]])\n",
            "tensor([[[1, 3, 5],\n",
            "         [2, 4, 6]]])\n"
          ]
        }
      ]
    },
    {
      "cell_type": "code",
      "source": [
        "# Exercise 2.1.4.2\n",
        "\n",
        "vector1 = torch.tensor([1,3,5])\n",
        "vector2 = torch.tensor([1,10,100])\n",
        "\n",
        "# calculate point product\n",
        "point_product = vector1 @ vector2\n",
        "point_product"
      ],
      "metadata": {
        "id": "K2x22ne-2AGd",
        "outputId": "f0e0a376-1288-494b-e09e-0cea880afd51",
        "colab": {
          "base_uri": "https://localhost:8080/"
        }
      },
      "execution_count": 51,
      "outputs": [
        {
          "output_type": "execute_result",
          "data": {
            "text/plain": [
              "tensor(531)"
            ]
          },
          "metadata": {},
          "execution_count": 51
        }
      ]
    },
    {
      "cell_type": "code",
      "source": [
        "# Exercise 2.1.4.2\n",
        "\n",
        "matrix1 = torch.tensor([[1],[2],[3]])\n",
        "matrix2 = torch.tensor([[1,10,100]])\n",
        "\n",
        "# calculate matrix product\n",
        "matrix_product = matrix1 @ matrix2\n",
        "print(matrix_product)\n",
        "\n",
        "# convert the result to a numpy array\n",
        "numpy_array = matrix_product.detach().numpy()\n",
        "print(numpy_array)"
      ],
      "metadata": {
        "id": "KOKO0w6V23Bg",
        "outputId": "89f30773-35a8-4749-ff35-cd6bc28ba55b",
        "colab": {
          "base_uri": "https://localhost:8080/"
        }
      },
      "execution_count": 52,
      "outputs": [
        {
          "output_type": "stream",
          "name": "stdout",
          "text": [
            "tensor([[  1,  10, 100],\n",
            "        [  2,  20, 200],\n",
            "        [  3,  30, 300]])\n",
            "[[  1  10 100]\n",
            " [  2  20 200]\n",
            " [  3  30 300]]\n"
          ]
        }
      ]
    }
  ],
  "metadata": {
    "org": null,
    "kernelspec": {
      "display_name": "Python 3",
      "language": "python",
      "name": "python3"
    },
    "language_info": {
      "codemirror_mode": {
        "name": "ipython",
        "version": 3
      },
      "file_extension": ".py",
      "mimetype": "text/x-python",
      "name": "python",
      "nbconvert_exporter": "python",
      "pygments_lexer": "ipython3",
      "version": "3.5.2"
    },
    "colab": {
      "provenance": []
    }
  },
  "nbformat": 4,
  "nbformat_minor": 0
}