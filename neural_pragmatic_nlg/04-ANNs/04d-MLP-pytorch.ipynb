{
  "cells": [
    {
      "cell_type": "markdown",
      "metadata": {
        "id": "vktPeqYmy2sp"
      },
      "source": [
        "Sheet 4.2: Non-linear regression (MLP w/ PyTorch modules)\n",
        "=========================================================\n",
        "\n",
        "**Author:** Michael Franke\n",
        "\n"
      ]
    },
    {
      "cell_type": "markdown",
      "metadata": {
        "id": "8QPB9GVHy2sr"
      },
      "source": [
        "In this tutorial, we will fit a non-linear regression, implemented as a multi-layer perceptron.\n",
        "We will see how the use of modules from PyTorch&rsquo;s neural network package \\`torch.nn\\` helps us implement the model efficiently.\n",
        "\n"
      ]
    },
    {
      "cell_type": "markdown",
      "source": [
        "Student: Jia Sheng (5371477)"
      ],
      "metadata": {
        "id": "oYi-JhvhP4x9"
      }
    },
    {
      "cell_type": "markdown",
      "metadata": {
        "id": "J9SWy-i0y2st"
      },
      "source": [
        "## Packages & global parameters\n",
        "\n"
      ]
    },
    {
      "cell_type": "markdown",
      "metadata": {
        "id": "TNbYVfvry2su"
      },
      "source": [
        "We will need to import the \\`torch\\` package for the main functionality.\n",
        "In addition to the previous sheet, In order to have a convenient, we will use PyTorch&rsquo;s \\`DataLoader\\` and \\`Dataset\\` in order to feed our training data to the model.\n",
        "\n"
      ]
    },
    {
      "cell_type": "code",
      "execution_count": 17,
      "metadata": {
        "id": "IbOoh9Hay2sw"
      },
      "outputs": [],
      "source": [
        "import torch\n",
        "import torch.nn as nn\n",
        "import torch.nn.functional as F\n",
        "from torch.utils.data import DataLoader\n",
        "from torch.utils.data import Dataset\n",
        "import numpy as np\n",
        "import seaborn as sns\n",
        "import pandas as pd\n",
        "import matplotlib.pyplot as plt\n",
        "import warnings\n",
        "warnings.filterwarnings('ignore')"
      ]
    },
    {
      "cell_type": "markdown",
      "metadata": {
        "id": "2pllnHQMy2sx"
      },
      "source": [
        "## True model & training data\n",
        "\n"
      ]
    },
    {
      "cell_type": "markdown",
      "metadata": {
        "id": "xJcxRuLZy2sy"
      },
      "source": [
        "The &ldquo;true model&rdquo; is a constructed non-linear function $y = f(x)$.\n",
        "Here is its definition and a plot to show what the &ldquo;ground truth&rdquo; looks like.\n",
        "\n"
      ]
    },
    {
      "cell_type": "code",
      "execution_count": 18,
      "metadata": {
        "id": "c8e7TA95y2sy",
        "outputId": "483ff62f-3a05-40c3-e5cf-74c29fec65ac",
        "colab": {
          "base_uri": "https://localhost:8080/",
          "height": 279
        }
      },
      "outputs": [
        {
          "output_type": "display_data",
          "data": {
            "text/plain": [
              "<Figure size 432x288 with 1 Axes>"
            ],
            "image/png": "[encoded data removed]"
          },
          "metadata": {
            "needs_background": "light"
          }
        }
      ],
      "source": [
        "##################################################\n",
        "## ground-truth model\n",
        "##################################################\n",
        "\n",
        "def goalFun(x):\n",
        "    return(x**3 - x**2 + 25 * np.sin(2*x))\n",
        "\n",
        "# create linear sequence (x) and apply goalFun (y)\n",
        "x = np.linspace(start = -5, stop =5, num = 1000)\n",
        "y = goalFun(x)\n",
        "\n",
        "# plot the function\n",
        "d = pd.DataFrame({'x' : x, 'y' : y})\n",
        "sns.lineplot(data = d, x = 'x', y = 'y')\n",
        "plt.show()"
      ]
    },
    {
      "cell_type": "markdown",
      "metadata": {
        "id": "_gCqEZUmy2s0"
      },
      "source": [
        "The training data consists of 100 pairs of  $(x,y)$ values.\n",
        "Each pair is generated by first sampling an $x$ value from a uniform distribution.\n",
        "For each sampled $x$, we compute the value of the target function $f(x)$ and add Gaussian noise to it.\n",
        "\n"
      ]
    },
    {
      "cell_type": "code",
      "execution_count": 19,
      "metadata": {
        "id": "r68l-yqZy2s1",
        "outputId": "987b3d87-a6db-463e-c31c-500824f2e5ef",
        "colab": {
          "base_uri": "https://localhost:8080/",
          "height": 280
        }
      },
      "outputs": [
        {
          "output_type": "display_data",
          "data": {
            "text/plain": [
              "<Figure size 432x288 with 1 Axes>"
            ],
            "image/png": "[encoded data removed]"
          },
          "metadata": {
            "needs_background": "light"
          }
        }
      ],
      "source": [
        "##################################################\n",
        "## generate training data (with noise)\n",
        "##################################################\n",
        "\n",
        "nObs = 100 # number of observations\n",
        "\n",
        "# get noise around y observations\n",
        "yNormal = torch.distributions.Normal(loc=0.0, scale=10)\n",
        "yNoise  = yNormal.sample([nObs])\n",
        "\n",
        "# get observations\n",
        "xObs = 10*torch.rand([nObs])-5    # uniform from [-5,5]\n",
        "yObs = xObs**3 - xObs**2 + 25 * torch.sin(2*xObs) + yNoise\n",
        "\n",
        "# plot the data\n",
        "d = pd.DataFrame({'xObs' : xObs, 'yObs' : yObs})\n",
        "sns.scatterplot(data = d, x = 'xObs', y = 'yObs')\n",
        "plt.show()"
      ]
    },
    {
      "cell_type": "markdown",
      "metadata": {
        "id": "v4hxlxNHy2s3"
      },
      "source": [
        "## Defining the MLP using PyTorch&rsquo;s built-in modules\n",
        "\n"
      ]
    },
    {
      "cell_type": "markdown",
      "metadata": {
        "id": "ZfYl34Jdy2s3"
      },
      "source": [
        "As before (sheet 4.1), our model maps a single scalar $x$ onto another scalar $y$.\n",
        "We use a 3-layer MLP, each hidden layer with dimension 10:\n",
        "\n"
      ]
    },
    {
      "cell_type": "code",
      "execution_count": 20,
      "metadata": {
        "id": "kyBqzgGzy2s3"
      },
      "outputs": [],
      "source": [
        "##################################################\n",
        "## network dimension parameters\n",
        "##################################################\n",
        "\n",
        "nInput  = 1\n",
        "nHidden = 10\n",
        "nOutput = 1"
      ]
    },
    {
      "cell_type": "markdown",
      "metadata": {
        "id": "rX-GsaMjy2s4"
      },
      "source": [
        "PyTorch defines a special-purpose class called \\`nn.Module\\` from which pre-defined neural networks or custom-made networks inherit the structure and basic functionality.\n",
        "Below, we define our feed-forward neural network as a class extending \\`nn.Module\\`.\n",
        "Minimally, we have to define two functions for this to work:\n",
        "\n",
        "1.  the **initialization** function \\`\\_<sub>init</sub>\\_\\_\\` which defines which variables (mostly, but not exclusively: parameters) our model has (using \\`nn.Linear\\` instantiates a linear layer with all the trainable parameters (weights and biases) implicitly);\n",
        "2.  the **forward pass** which takes the model&rsquo;s input and computes the corresponding prediction given the current parameter values (recall the function \\`singleForwardPass\\` from sheet 4.1; PyTorch automatically batches the computation implicitly).\n",
        "\n",
        "Since PyTorch allows flexibility in how to define neural network modules, we look at two variants below, one explicit and one more concise.\n",
        "They should implement the exact same model and work the same way eventually.\n",
        "\n"
      ]
    },
    {
      "cell_type": "markdown",
      "metadata": {
        "id": "gWsCuRgMy2s5"
      },
      "source": [
        "### More explicit definition NN module\n",
        "\n"
      ]
    },
    {
      "cell_type": "code",
      "execution_count": 5,
      "metadata": {
        "id": "lEqLdPYdy2s5"
      },
      "outputs": [],
      "source": [
        "##################################################\n",
        "## set up multi-layer perceptron w/ PyTorch\n",
        "##    -- explicit version --\n",
        "##################################################\n",
        "\n",
        "class MLPexplicit(nn.Module):\n",
        "    '''\n",
        "    Multi-layer perceptron for non-linear regression.\n",
        "    '''\n",
        "    def __init__(self, nInput, nHidden, nOutput):\n",
        "        super(MLPexplicit, self).__init__()\n",
        "        self.nInput  = nInput\n",
        "        self.nHidden = nHidden\n",
        "        self.nOutput = nOutput\n",
        "        self.linear1 = nn.Linear(self.nInput, self.nHidden)\n",
        "        self.linear2 = nn.Linear(self.nHidden, self.nHidden)\n",
        "        self.linear3 = nn.Linear(self.nHidden, self.nHidden)\n",
        "        self.linear4 = nn.Linear(self.nHidden, self.nOutput)\n",
        "        self.ReLU    = nn.ReLU()\n",
        "\n",
        "    def forward(self, x):\n",
        "        h1 = self.ReLU(self.linear1(x))\n",
        "        h2 = self.ReLU(self.linear2(h1))\n",
        "        h3 = self.ReLU(self.linear3(h2))\n",
        "        output = self.linear4(h3)\n",
        "        return(output)\n",
        "\n",
        "mlpExplicit = MLPexplicit(nInput, nHidden, nOutput)"
      ]
    },
    {
      "cell_type": "markdown",
      "metadata": {
        "id": "90Dl6Y_Zy2s5"
      },
      "source": [
        "We can access the current parameter values of this model instance like so:\n",
        "\n"
      ]
    },
    {
      "cell_type": "code",
      "execution_count": 6,
      "metadata": {
        "id": "LNszcqJ2y2s6",
        "outputId": "73842fe4-5152-4ed5-a016-03d8014b90f3",
        "colab": {
          "base_uri": "https://localhost:8080/"
        }
      },
      "outputs": [
        {
          "output_type": "stream",
          "name": "stdout",
          "text": [
            "[[ 0.742 ]\n",
            " [-0.3659]\n",
            " [-0.6948]\n",
            " [ 0.2521]\n",
            " [-0.2351]\n",
            " [-0.4745]\n",
            " [-0.6517]\n",
            " [ 0.6002]\n",
            " [ 0.4818]\n",
            " [ 0.6618]]\n",
            "[-0.8729  0.0786 -0.2734  0.8608 -0.3256 -0.8423  0.6926  0.1032  0.6158\n",
            " -0.7436]\n",
            "[[ 0.1163  0.2118 -0.2337  0.2596 -0.1743  0.2415  0.1677  0.1634  0.0797\n",
            "   0.1669]\n",
            " [ 0.2712 -0.1616 -0.228   0.1453  0.1806 -0.0497  0.1589  0.244  -0.2588\n",
            "   0.057 ]\n",
            " [ 0.2007 -0.074  -0.2408  0.1411 -0.2677 -0.2505  0.0779  0.1806  0.2674\n",
            "   0.0866]\n",
            " [-0.1041  0.2333  0.1812 -0.1697  0.2952 -0.1535 -0.0849  0.1676 -0.0389\n",
            "  -0.1555]\n",
            " [-0.2944  0.1777 -0.2561 -0.1688  0.1451 -0.2528  0.3067 -0.1404 -0.0121\n",
            "  -0.2846]\n",
            " [-0.1918 -0.1545 -0.2287  0.2284  0.3084 -0.2979 -0.2143 -0.0457  0.0093\n",
            "   0.1348]\n",
            " [-0.1015 -0.2283  0.208  -0.2548  0.0865  0.0497  0.1337  0.2697 -0.3034\n",
            "   0.0423]\n",
            " [-0.1947 -0.2235  0.2468 -0.1081  0.1056  0.1319  0.0832  0.1971  0.2237\n",
            "  -0.1827]\n",
            " [ 0.134  -0.1401 -0.2769  0.1212  0.059  -0.1973 -0.2893  0.0818  0.2963\n",
            "  -0.1132]\n",
            " [ 0.1365  0.1607  0.3119  0.2294 -0.2649 -0.0446 -0.2092  0.0068  0.3103\n",
            "  -0.259 ]]\n",
            "[ 0.3015  0.2128  0.2849 -0.0661 -0.118   0.124  -0.255   0.2782  0.1687\n",
            "  0.1699]\n",
            "[[-0.1789 -0.2392  0.2469 -0.1285  0.2347 -0.1258  0.0794 -0.1465 -0.2796\n",
            "  -0.0807]\n",
            " [ 0.0459  0.2821 -0.2785 -0.1968 -0.2395  0.2284 -0.0593 -0.2278 -0.0758\n",
            "   0.0077]\n",
            " [-0.2865  0.2688 -0.1337 -0.1906  0.0375  0.0634 -0.0643 -0.2054  0.2731\n",
            "   0.2925]\n",
            " [ 0.0958  0.2499 -0.0995 -0.0354 -0.1684 -0.0115 -0.1285  0.1195  0.1423\n",
            "  -0.2377]\n",
            " [-0.2698 -0.2694 -0.245  -0.043   0.2664 -0.056   0.0432  0.1036 -0.0707\n",
            "   0.1144]\n",
            " [ 0.0697 -0.1419 -0.3048  0.1665 -0.0718 -0.2859  0.2719  0.0429 -0.0095\n",
            "  -0.27  ]\n",
            " [-0.0552  0.0109 -0.1977  0.1758 -0.193   0.2887  0.1013  0.1192 -0.0465\n",
            "  -0.2478]\n",
            " [-0.2774 -0.2481  0.1012 -0.2803 -0.1153  0.2714 -0.3026  0.1278 -0.2631\n",
            "  -0.0636]\n",
            " [ 0.1163  0.0571 -0.23   -0.0222  0.2107  0.1338  0.2995 -0.056   0.1536\n",
            "   0.3019]\n",
            " [ 0.1902  0.1643  0.1492 -0.1458 -0.0219 -0.2802 -0.3106 -0.1494  0.1202\n",
            "  -0.2151]]\n",
            "[-0.2682  0.1958  0.2727 -0.15    0.2411 -0.2926 -0.3132 -0.1198  0.0675\n",
            "  0.259 ]\n",
            "[[-0.2729  0.0544 -0.2275 -0.0111 -0.2639 -0.0166  0.2749  0.2821 -0.0592\n",
            "   0.011 ]]\n",
            "[0.0738]\n"
          ]
        }
      ],
      "source": [
        "for p in mlpExplicit.parameters():\n",
        "    print(p.detach().numpy().round(4))"
      ]
    },
    {
      "cell_type": "markdown",
      "metadata": {
        "id": "WVlSKx4zy2s6"
      },
      "source": [
        "> <strong><span style=&ldquo;color:#D83D2B;&rdquo;>Exercise 4.2.1: Inspect the model&rsquo;s parameters and their initial values</span></strong>\n",
        ">\n",
        "> 0. [Just for yourself.] Make sure that you understand what these parameters are by mapping these onto the parameters of the custom-made model from sheet 4.1. (Hint: the order of the presentation in this print-out is the order in which the components occur in the computation of the forward pass.)\n",
        ">\n",
        "> 1. Guess how the weights of the slope matrices are initialized (roughly). Same for the intercept vectors.\n",
        "\n"
      ]
    },
    {
      "cell_type": "markdown",
      "source": [
        "### Answer to Exercise 4.2.1.0 [only for myself]:\n",
        "1. U - 1st embedding\n",
        "2. b1 - 1st slope\n",
        "3. V1 - 1st hidden-to-hidden transformation\n",
        "4. p2 - 2nd slope\n",
        "5. V2 - 2nd hidden-to-hidden transformation\n",
        "6. p3 - 3rd slope\n",
        "7. W - hidden-to-output mapping"
      ],
      "metadata": {
        "id": "hmcJNnqY4qsf"
      }
    },
    {
      "cell_type": "markdown",
      "source": [
        "### Answer to Exercise 4.2.1.1\n",
        "The weights of slope matrices and intercept vectors might have been initilized by a random generator that generates floats between -1 and 1."
      ],
      "metadata": {
        "id": "NKU0vRlK7fH2"
      }
    },
    {
      "cell_type": "markdown",
      "metadata": {
        "id": "WlBR9H9Ky2s6"
      },
      "source": [
        "### More concise definition of NN module\n",
        "\n"
      ]
    },
    {
      "cell_type": "markdown",
      "metadata": {
        "id": "fV8v-t0Ny2s6"
      },
      "source": [
        "Here is another, more condensed definition of the same NN model, which uses the \\`nn.Sequantial\\` function to neatly chain components, thus defining the model parameters and the forward pass in one swoop.\n",
        "\n"
      ]
    },
    {
      "cell_type": "code",
      "execution_count": 21,
      "metadata": {
        "id": "Zyz_jp_9y2s6"
      },
      "outputs": [],
      "source": [
        "##################################################\n",
        "## set up multi-layer perceptron w/ PyTorch\n",
        "##    -- condensed version --\n",
        "##################################################\n",
        "\n",
        "class MLPcondensed(nn.Module):\n",
        "    '''\n",
        "    Multi-layer perceptron for non-linear regression.\n",
        "    '''\n",
        "    def __init__(self, nInput, nHidden, nOutput):\n",
        "        super().__init__()\n",
        "        self.layers = nn.Sequential(\n",
        "            nn.Linear(nInput, nHidden),\n",
        "            nn.ReLU(),\n",
        "            nn.Linear(nHidden, nHidden),\n",
        "            nn.ReLU(),\n",
        "            nn.Linear(nHidden, nHidden),\n",
        "            nn.ReLU(),\n",
        "            nn.Linear(nHidden, nOutput)\n",
        "        )\n",
        "\n",
        "    def forward(self, x):\n",
        "        return(self.layers(x))\n",
        "\n",
        "mlpCondensed = MLPcondensed(nInput, nHidden, nOutput)"
      ]
    },
    {
      "cell_type": "markdown",
      "metadata": {
        "id": "2cfkednay2s7"
      },
      "source": [
        "Here you can select which one to use in the following.\n",
        "\n"
      ]
    },
    {
      "cell_type": "code",
      "execution_count": 22,
      "metadata": {
        "id": "2YGMBv9ry2s7"
      },
      "outputs": [],
      "source": [
        "# which model to use from here onwards\n",
        "# model = mlpExplicit\n",
        "model = mlpCondensed"
      ]
    },
    {
      "cell_type": "markdown",
      "metadata": {
        "id": "TTjoOSmdy2s7"
      },
      "source": [
        "## Preparing the training data\n",
        "\n"
      ]
    },
    {
      "cell_type": "markdown",
      "metadata": {
        "id": "MY6AX_-Ly2s8"
      },
      "source": [
        "Data pre-processing is a tedious job, but an integral part of machine learning.\n",
        "In order to have a clean interface between data processing and modeling, we would ideally like to have a common data format to feed data into any kind of model.\n",
        "That also makes sharing and reusing data sets much less painful.\n",
        "For this purpose, PyTorch provides two data primitives: \\`torch.utils.data.Dataset\\` and \\`torch.utils.data.DataLoader\\`.\n",
        "The class **Dataset** stores the training data (in a reusable format).\n",
        "The class **DataLoader** takes a \\`dataset\\` object as input and returns an iterable to enable easy access to the training data.\n",
        "\n",
        "To define a \\`Dataset\\` object, we have to specify two key functions:\n",
        "\n",
        "1.  the \\`\\_<sub>len</sub>\\_\\_\\` function, which tells subsequent applications how many data points there are; and\n",
        "2.  the \\`\\_<sub>getitem</sub>\\_\\_\\` function, which takes an index as input and outputs the data point corresponding to that index.\n",
        "\n"
      ]
    },
    {
      "cell_type": "code",
      "execution_count": 9,
      "metadata": {
        "id": "C73KZPr9y2s8"
      },
      "outputs": [],
      "source": [
        "##################################################\n",
        "## representing train data as a Dataset object\n",
        "##################################################\n",
        "\n",
        "class nonLinearRegressionData(Dataset):\n",
        "    '''\n",
        "    Custom 'Dataset' object for our regression data.\n",
        "    Must implement these functions: __init__, __len__, and __getitem__.\n",
        "    '''\n",
        "\n",
        "    def __init__(self, xObs, yObs):\n",
        "        self.xObs = torch.reshape(xObs, (len(xObs), 1))\n",
        "        self.yObs = torch.reshape(yObs, (len(yObs), 1))\n",
        "\n",
        "    def __len__(self):\n",
        "        return(len(self.xObs))\n",
        "\n",
        "    def __getitem__(self, idx):\n",
        "        return(xObs[idx], yObs[idx])\n",
        "\n",
        "# instantiate Dataset object for current training data\n",
        "d = nonLinearRegressionData(xObs, yObs)\n",
        "\n",
        "# instantiate DataLoader\n",
        "#    we use the 4 batches of 25 observations each (full data  has 100 observations)\n",
        "#    we also shuffle the data\n",
        "train_dataloader = DataLoader(d, batch_size=25 , shuffle=True)"
      ]
    },
    {
      "cell_type": "markdown",
      "metadata": {
        "id": "zVG9jQ1Ly2s_"
      },
      "source": [
        "We can test the iterable that we create, just to inspect how the data will be delivered later on:\n",
        "\n"
      ]
    },
    {
      "cell_type": "code",
      "execution_count": 10,
      "metadata": {
        "id": "VRtRBH3by2s_",
        "outputId": "842661b2-cd34-48cc-dd26-c4c2818d5249",
        "colab": {
          "base_uri": "https://localhost:8080/"
        }
      },
      "outputs": [
        {
          "output_type": "stream",
          "name": "stdout",
          "text": [
            "In:  tensor([-0.1378,  4.8241,  4.0089,  4.1931, -2.7032,  0.3729,  2.5550, -1.5796,\n",
            "         2.5939, -2.3679,  1.3472,  2.8514, -4.3128,  2.5584,  1.8683,  1.0273,\n",
            "        -4.3376, -2.5754, -2.9686, -2.1319, -3.3007, -0.3859,  4.4131, -2.5515,\n",
            "        -3.3076])\n",
            "Out: tensor([ -11.6152,   84.1245,   77.9118,   57.6794,   -9.6270,   24.4067,\n",
            "           0.8647,   -8.0430,    3.7300,    8.7620,    4.0943,   -0.1488,\n",
            "        -115.4486,   -5.8870,   -4.2338,   32.7824, -135.0929,   -0.5613,\n",
            "         -24.4842,   11.2250,  -57.5876,  -17.2296,   89.8852,  -11.2332,\n",
            "         -49.2808]) \n",
            "\n",
            "In:  tensor([-1.8940,  1.3323, -4.4624, -1.8618, -2.0101,  3.1088, -2.0865, -2.2648,\n",
            "        -0.5472,  2.0012,  0.4093,  4.8820,  1.9623,  2.6080, -3.1259, -2.8310,\n",
            "        -0.7258, -2.4297, -3.4782, -0.5041, -0.4256,  3.4845, -0.6735, -3.3571,\n",
            "        -2.5902])\n",
            "Out: tensor([  16.7571,    9.7566, -119.9703,    2.2194,   10.4614,   11.5207,\n",
            "           1.0722,   12.2028,   -2.0305,  -16.2077,   24.8656,   61.5095,\n",
            "          -5.8152,   -4.5292,  -54.3349,  -20.9166,  -22.8382,   -3.1940,\n",
            "         -76.0730,  -22.6752,  -18.8547,   53.0659,  -37.1200,  -48.6947,\n",
            "         -11.6079]) \n",
            "\n",
            "In:  tensor([-0.3917, -1.1940, -3.5970, -3.6658,  1.8555, -3.5669, -2.1884, -4.2665,\n",
            "        -1.2046,  0.8484, -2.2032,  1.0086, -1.9922,  0.7433, -4.7403, -2.5262,\n",
            "        -1.5322, -3.6422,  2.3746,  4.2703, -4.7228,  1.7132,  1.2032, -3.7515,\n",
            "         4.9499])\n",
            "Out: tensor([  -6.1561,  -23.6288,  -81.1370,  -82.6290,  -23.8755, -102.8696,\n",
            "          -2.6951, -107.5811,  -17.3845,   35.4705,    6.2319,   19.2445,\n",
            "           4.1260,    3.1345, -135.6983,    8.1938,    2.1680,  -79.9879,\n",
            "         -13.5640,   81.4339, -109.0179,    5.2136,   -7.3042,  -95.6866,\n",
            "          78.8014]) \n",
            "\n",
            "In:  tensor([ 4.3989e+00,  3.7560e+00,  1.0436e+00,  1.7420e-01, -3.6232e+00,\n",
            "         3.3402e+00, -1.4217e+00,  4.8301e+00, -2.6618e+00,  4.7532e+00,\n",
            "        -1.5772e+00, -3.0639e+00, -2.7507e+00, -3.6146e+00,  3.3310e-01,\n",
            "         3.2580e-01, -4.7086e-01, -4.9521e+00,  4.4602e+00,  2.6272e+00,\n",
            "        -1.8337e+00, -1.1296e-03, -3.4722e+00, -2.8511e-01,  4.0813e+00])\n",
            "Out: tensor([  95.6563,   52.8172,   34.4933,   12.3797, -100.8196,   25.0734,\n",
            "         -15.6801,   72.6104,    1.1194,   72.3714,    0.5482,  -30.1478,\n",
            "         -18.5581,  -94.9411,   -1.5509,    5.4472,  -41.1860, -153.6680,\n",
            "          87.2489,    5.0885,  -16.9552,    5.9228,  -67.6135,   -7.6519,\n",
            "          73.4437]) \n",
            "\n"
          ]
        }
      ],
      "source": [
        "for i, data in enumerate(train_dataloader, 0):\n",
        "    input, target = data\n",
        "    print(\"In: \", input)\n",
        "    print(\"Out:\", target,\"\\n\")"
      ]
    },
    {
      "cell_type": "markdown",
      "metadata": {
        "id": "lXtthBlny2tA"
      },
      "source": [
        "## Training the model\n",
        "\n"
      ]
    },
    {
      "cell_type": "markdown",
      "metadata": {
        "id": "niBnu1lRy2tA"
      },
      "source": [
        "We can now train the model similar to how we did this before.\n",
        "Note that we need to slightly reshape the input data to have the model compute the batched input correctly.\n",
        "\n"
      ]
    },
    {
      "cell_type": "code",
      "execution_count": 11,
      "metadata": {
        "id": "YnogsA0gy2tA",
        "outputId": "45c1d792-a378-41ca-9ea4-945933a8528a",
        "colab": {
          "base_uri": "https://localhost:8080/",
          "height": 644
        }
      },
      "outputs": [
        {
          "output_type": "stream",
          "name": "stdout",
          "text": [
            "Loss after epoch  2500: 3660.444\n",
            "Loss after epoch  5000: 2711.583\n",
            "Loss after epoch  7500: 1133.877\n",
            "Loss after epoch 10000: 721.844\n",
            "Loss after epoch 12500: 573.307\n",
            "Loss after epoch 15000: 504.574\n",
            "Loss after epoch 17500: 478.250\n",
            "Loss after epoch 20000: 462.450\n",
            "Loss after epoch 22500: 450.853\n",
            "Loss after epoch 25000: 441.229\n",
            "Loss after epoch 27500: 432.541\n",
            "Loss after epoch 30000: 424.343\n",
            "Loss after epoch 32500: 414.323\n",
            "Loss after epoch 35000: 406.998\n",
            "Loss after epoch 37500: 401.437\n",
            "Loss after epoch 40000: 394.847\n",
            "Loss after epoch 42500: 391.553\n",
            "Loss after epoch 45000: 389.147\n",
            "Loss after epoch 47500: 386.791\n",
            "Loss after epoch 50000: 383.946\n",
            "Training process has finished.\n"
          ]
        },
        {
          "output_type": "display_data",
          "data": {
            "text/plain": [
              "<Figure size 432x288 with 1 Axes>"
            ],
            "image/png": "[encoded data removed]"
          },
          "metadata": {
            "needs_background": "light"
          }
        }
      ],
      "source": [
        "##################################################\n",
        "## training the model\n",
        "##################################################\n",
        "\n",
        "# Define the loss function and optimizer\n",
        "loss_function = nn.MSELoss()\n",
        "optimizer = torch.optim.Adam(model.parameters(), lr=1e-4)\n",
        "nTrainSteps = 50000\n",
        "\n",
        "# Run the training loop\n",
        "for epoch in range(0, nTrainSteps):\n",
        "\n",
        "  # Set current loss value\n",
        "  current_loss = 0.0\n",
        "\n",
        "  # Iterate over the DataLoader for training data\n",
        "  for i, data in enumerate(train_dataloader, 0):\n",
        "    # Get inputs\n",
        "    inputs, targets = data\n",
        "    # Zero the gradients\n",
        "    optimizer.zero_grad()\n",
        "    # Perform forward pass (make sure to supply the input in the right way)\n",
        "    outputs = model(torch.reshape(inputs, (len(inputs), 1))).squeeze()\n",
        "    # Compute loss\n",
        "    loss = loss_function(outputs, targets)\n",
        "    # Perform backward pass\n",
        "    loss.backward()\n",
        "    # Perform optimization\n",
        "    optimizer.step()\n",
        "    # Print statistics\n",
        "    current_loss += loss.item()\n",
        "\n",
        "  if (epoch + 1) % 2500 == 0:\n",
        "      print('Loss after epoch %5d: %.3f' %\n",
        "            (epoch + 1, current_loss))\n",
        "      current_loss = 0.0\n",
        "\n",
        "# Process is complete.\n",
        "print('Training process has finished.')\n",
        "\n",
        "yPred = np.array([model.forward(torch.tensor([o])).detach().numpy() for o in xObs]).flatten()\n",
        "\n",
        "# plot the data\n",
        "d = pd.DataFrame({'xObs' : xObs.detach().numpy(),\n",
        "                  'yObs' : yObs.detach().numpy(),\n",
        "                  'yPred': yPred})\n",
        "dWide = pd.melt(d, id_vars = 'xObs', value_vars= ['yObs', 'yPred'])\n",
        "sns.scatterplot(data = dWide, x = 'xObs', y = 'value', hue = 'variable', alpha = 0.7)\n",
        "x = np.linspace(start = -5, stop =5, num = 1000)\n",
        "y = goalFun(x)\n",
        "plt.plot(x,y, color='g', alpha = 0.5)\n",
        "plt.show()"
      ]
    },
    {
      "cell_type": "markdown",
      "metadata": {
        "id": "3S5sOZcUy2tA"
      },
      "source": [
        "> <strong><span style=&ldquo;color:#D83D2B;&rdquo;>Exercise 4.2.2: Explore the model&rsquo;s behavior</span></strong>\n",
        ">\n",
        "> 0. [Just for yourself.] Make sure you understand *every line* in this last code block. Ask if anything is unclear.\n",
        ">\n",
        "> 1. Above we used the DataLoader to train in 4 mini-batches. Change it so that there is only one batch containing all the data. Change the \\`shuffle\\` parameter so that data is not shuffled. Run the model and check if you observe any notable differences. Explain what your observations. (If you do not see anything, explain why you don&rsquo;t. You might pay attention to the results of training)\n",
        "\n"
      ]
    },
    {
      "cell_type": "markdown",
      "source": [
        "### Answer to Exercise 4.2.2"
      ],
      "metadata": {
        "id": "4lWfzGgvJMUM"
      }
    },
    {
      "cell_type": "code",
      "source": [
        "d = nonLinearRegressionData(xObs, yObs)\n",
        "\n",
        "# Change the DataLoader so that there is only one batch containing all the data. \n",
        "# Change the `shuffle` parameter so that data is not shuffled.\n",
        "train_dataloader = DataLoader(d, batch_size=100 , shuffle=False)\n",
        "\n",
        "# check the iterable\n",
        "for i, data in enumerate(train_dataloader, 0):\n",
        "    input, target = data\n",
        "    print(\"In: \", input)\n",
        "    print(\"Out:\", target,\"\\n\")"
      ],
      "metadata": {
        "id": "ffHNdkq2JKhj",
        "outputId": "04aeca4d-d7a9-4082-d4aa-f5292df97778",
        "colab": {
          "base_uri": "https://localhost:8080/"
        }
      },
      "execution_count": 23,
      "outputs": [
        {
          "output_type": "stream",
          "name": "stdout",
          "text": [
            "In:  tensor([-1.7047, -0.6775, -4.9859, -2.5258,  0.1587,  1.9350,  2.1983, -4.1032,\n",
            "        -1.5930, -4.1512, -4.7312, -3.5710, -4.8814, -4.9165,  0.8283,  0.9843,\n",
            "         1.3769, -4.8141,  3.1549,  3.3468, -4.1878,  2.1645,  3.2630, -4.6435,\n",
            "         3.7879,  2.9909,  3.1408, -0.9749, -0.0521,  3.1003,  4.3729,  4.5757,\n",
            "         4.2942,  3.8397, -3.0785, -4.9778, -2.0855,  3.9704, -1.3946,  0.5690,\n",
            "        -1.7036,  1.5005, -3.3938,  2.2441, -1.6002,  1.5152,  1.5652,  3.2761,\n",
            "        -1.8929,  1.3748, -0.6101,  1.4007, -1.9043, -4.7715, -3.4632, -1.9477,\n",
            "        -3.6277,  3.3834,  1.9851, -2.7803,  1.9132, -2.1572,  1.5330,  0.4217,\n",
            "        -1.0635,  3.6796, -2.2802,  0.7130,  4.3994,  4.9680, -4.1815,  0.6391,\n",
            "        -0.1846, -0.7656, -0.7985, -1.4925,  2.6354,  0.8263,  0.8380, -4.9921,\n",
            "        -3.4828,  3.7500, -1.4642,  4.7119,  3.8614, -3.6216,  1.3826, -2.5061,\n",
            "        -1.0754, -4.9896,  4.4997,  1.9010,  4.5052, -3.3260,  1.7418,  2.9969,\n",
            "         2.6485,  4.0723,  0.0373,  4.7108])\n",
            "Out: tensor([-5.3597e-02, -3.5841e+01, -1.2669e+02, -8.1068e+00,  5.5827e+00,\n",
            "        -1.8900e+01, -2.4362e+01, -1.0323e+02, -1.3645e+01, -1.0089e+02,\n",
            "        -1.4311e+02, -8.0864e+01, -1.2881e+02, -1.2743e+02,  2.1301e+01,\n",
            "         1.5152e+01, -1.3339e+01, -1.3479e+02,  1.1726e+01,  3.2477e+01,\n",
            "        -1.0266e+02, -2.8640e+01,  4.1982e+01, -1.3320e+02,  6.2654e+01,\n",
            "         2.1402e+01,  1.1683e+01, -1.3098e+01,  7.8321e+00,  2.4273e+01,\n",
            "         8.7380e+01,  6.7860e+01,  6.8820e+01,  4.2831e+01, -1.3075e+01,\n",
            "        -1.4395e+02,  1.1493e+00,  7.5201e+01,  8.1139e+00,  1.2203e+01,\n",
            "         1.6507e+00,  1.6375e+01, -4.8348e+01, -1.4839e+01, -4.5988e+00,\n",
            "         1.8833e+01, -4.3234e+00,  3.6622e+01,  1.4292e+01,  3.5109e-01,\n",
            "        -3.2242e+01, -1.0356e+00,  1.1167e-01, -1.1366e+02, -7.4004e+01,\n",
            "         1.8858e+01, -8.3380e+01,  2.3455e+01, -9.9256e+00, -2.3118e+01,\n",
            "        -1.6616e+01,  1.3142e+01,  6.2394e+00,  6.4918e+00, -2.3879e+01,\n",
            "         4.5137e+01,  2.3853e+01,  1.9161e+01,  6.2541e+01,  8.6900e+01,\n",
            "        -8.7035e+01,  3.6030e+01, -4.3567e+00, -3.6332e+01, -3.1367e+01,\n",
            "        -4.9150e+00, -1.0479e+01,  2.3751e+01,  4.0365e+01, -1.2286e+02,\n",
            "        -7.1203e+01,  9.0555e+01, -1.2763e+01,  8.1498e+01,  7.4768e+01,\n",
            "        -8.0290e+01,  2.5316e+00,  2.9704e+00, -3.0266e+01, -1.5304e+02,\n",
            "         8.4412e+01, -1.0148e+01,  8.5682e+01, -1.8733e+01, -8.5468e+00,\n",
            "        -4.7001e+00, -1.8039e+00,  9.2177e+01,  8.2248e-01,  7.4823e+01]) \n",
            "\n"
          ]
        }
      ]
    },
    {
      "cell_type": "code",
      "source": [
        "# run the model again\n",
        "\n",
        "# Define the loss function and optimizer\n",
        "loss_function = nn.MSELoss()\n",
        "optimizer = torch.optim.Adam(model.parameters(), lr=1e-4)\n",
        "nTrainSteps = 50000\n",
        "\n",
        "# Run the training loop\n",
        "for epoch in range(0, nTrainSteps):\n",
        "\n",
        "  # Set current loss value\n",
        "  current_loss = 0.0\n",
        "\n",
        "  # Iterate over the DataLoader for training data\n",
        "  for i, data in enumerate(train_dataloader, 0):\n",
        "    # Get inputs\n",
        "    inputs, targets = data\n",
        "    # Zero the gradients\n",
        "    optimizer.zero_grad()\n",
        "    # Perform forward pass (make sure to supply the input in the right way)\n",
        "    outputs = model(torch.reshape(inputs, (len(inputs), 1))).squeeze()\n",
        "    # Compute loss\n",
        "    loss = loss_function(outputs, targets)\n",
        "    # Perform backward pass\n",
        "    loss.backward()\n",
        "    # Perform optimization\n",
        "    optimizer.step()\n",
        "    # Print statistics\n",
        "    current_loss += loss.item()\n",
        "\n",
        "  if (epoch + 1) % 2500 == 0:\n",
        "      print('Loss after epoch %5d: %.3f' %\n",
        "            (epoch + 1, current_loss))\n",
        "      current_loss = 0.0\n",
        "\n",
        "# Process is complete.\n",
        "print('Training process has finished.')\n",
        "\n",
        "yPred = np.array([model.forward(torch.tensor([o])).detach().numpy() for o in xObs]).flatten()\n",
        "\n",
        "# plot the data\n",
        "d = pd.DataFrame({'xObs' : xObs.detach().numpy(),\n",
        "                  'yObs' : yObs.detach().numpy(),\n",
        "                  'yPred': yPred})\n",
        "dWide = pd.melt(d, id_vars = 'xObs', value_vars= ['yObs', 'yPred'])\n",
        "sns.scatterplot(data = dWide, x = 'xObs', y = 'value', hue = 'variable', alpha = 0.7)\n",
        "x = np.linspace(start = -5, stop =5, num = 1000)\n",
        "y = goalFun(x)\n",
        "plt.plot(x,y, color='g', alpha = 0.5)\n",
        "plt.show()"
      ],
      "metadata": {
        "id": "8zAFbH1kL-qP",
        "outputId": "f9ced872-5b12-484d-fa76-e3a24a39c41e",
        "colab": {
          "base_uri": "https://localhost:8080/",
          "height": 645
        }
      },
      "execution_count": 24,
      "outputs": [
        {
          "output_type": "stream",
          "name": "stdout",
          "text": [
            "Loss after epoch  2500: 2607.392\n",
            "Loss after epoch  5000: 988.145\n",
            "Loss after epoch  7500: 726.655\n",
            "Loss after epoch 10000: 435.143\n",
            "Loss after epoch 12500: 262.941\n",
            "Loss after epoch 15000: 151.054\n",
            "Loss after epoch 17500: 126.956\n",
            "Loss after epoch 20000: 120.711\n",
            "Loss after epoch 22500: 114.595\n",
            "Loss after epoch 25000: 106.815\n",
            "Loss after epoch 27500: 104.012\n",
            "Loss after epoch 30000: 102.949\n",
            "Loss after epoch 32500: 102.443\n",
            "Loss after epoch 35000: 102.145\n",
            "Loss after epoch 37500: 101.919\n",
            "Loss after epoch 40000: 101.701\n",
            "Loss after epoch 42500: 101.470\n",
            "Loss after epoch 45000: 101.236\n",
            "Loss after epoch 47500: 100.994\n",
            "Loss after epoch 50000: 100.738\n",
            "Training process has finished.\n"
          ]
        },
        {
          "output_type": "display_data",
          "data": {
            "text/plain": [
              "<Figure size 432x288 with 1 Axes>"
            ],
            "image/png": "[encoded data removed]"
          },
          "metadata": {
            "needs_background": "light"
          }
        }
      ]
    },
    {
      "cell_type": "markdown",
      "source": [
        "**My observations**: when using only 1 batch instead of 4 and not shuffle the data, the loss seems to be smaller and decreasing faster. However, at the same time, the y prediction data points seem to have more overfitting than before. \n",
        "\n",
        "My guess is that maybe when data is not shuffled, the the model receives larger amount of data for each training and therefore improved the training efficiency (or speed). However, that seems to also cause some overfitting because the data passed to the model each time is the same and there are not as many variations for the model to learn."
      ],
      "metadata": {
        "id": "DUq9XFUfOAeT"
      }
    }
  ],
  "metadata": {
    "org": null,
    "kernelspec": {
      "display_name": "Python 3",
      "language": "python",
      "name": "python3"
    },
    "language_info": {
      "codemirror_mode": {
        "name": "ipython",
        "version": 3
      },
      "file_extension": ".py",
      "mimetype": "text/x-python",
      "name": "python",
      "nbconvert_exporter": "python",
      "pygments_lexer": "ipython3",
      "version": "3.5.2"
    },
    "colab": {
      "provenance": []
    }
  },
  "nbformat": 4,
  "nbformat_minor": 0
}