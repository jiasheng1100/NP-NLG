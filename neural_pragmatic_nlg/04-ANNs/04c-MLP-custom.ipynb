{
  "cells": [
    {
      "cell_type": "markdown",
      "metadata": {
        "id": "LJvtZbWrsJqr"
      },
      "source": [
        "Sheet 4.1: Non-linear regression (custom MLP)\n",
        "=============================================\n",
        "\n",
        "**Author:** Michael Franke\n",
        "\n"
      ]
    },
    {
      "cell_type": "markdown",
      "metadata": {
        "id": "98Lzg4ezsJq7"
      },
      "source": [
        "In this tutorial, we will fit a non-linear regression, implemented as a multi-layer perceptron.\n",
        "First, we will implement it the hard way: coding the different layers in terms of explicitly spelled out matrix operations.\n",
        "In the next worksheet, we will see how the use of modules from PyTorch&rsquo; neural network package \\`torch.nn\\` helps us implement the model in a more efficient way.\n",
        "Going through the model entirely by hand, helps understand what is happening &rsquo;under the hood&rsquo; and also helps appreciating the high-level functionality provided by software like PyTorch.\n",
        "\n"
      ]
    },
    {
      "cell_type": "markdown",
      "metadata": {
        "id": "sXtp-qFQsJq9"
      },
      "source": [
        "## Packages & global parameters\n",
        "\n"
      ]
    },
    {
      "cell_type": "markdown",
      "metadata": {
        "id": "qGCelXt2sJrA"
      },
      "source": [
        "We will need to import the \\`torch\\` package for the main functionality.\n",
        "We specifically import the neural network functionalities from PyTorch as \\`nn\\`.\n",
        "We use this here only for the training loss function (MSE).\n",
        "In order to have a convenient handle, we load the \\`torch.nn.functional\\` package into variable \\`F\\`.\n",
        "We use this to pick up the activation function (ReLU) we will use for our neural network.\n",
        "\n"
      ]
    },
    {
      "cell_type": "code",
      "execution_count": 1,
      "metadata": {
        "id": "Kqv7nz8osJrC"
      },
      "outputs": [],
      "source": [
        "import torch\n",
        "import torch.nn as nn\n",
        "import torch.nn.functional as F\n",
        "import numpy as np\n",
        "import seaborn as sns\n",
        "import pandas as pd\n",
        "import matplotlib.pyplot as plt\n",
        "# import sys\n",
        "import warnings\n",
        "warnings.filterwarnings('ignore')"
      ]
    },
    {
      "cell_type": "markdown",
      "metadata": {
        "id": "0kBjU8ZcsJrG"
      },
      "source": [
        "We will also globally set the float precision to 64:\n",
        "\n"
      ]
    },
    {
      "cell_type": "code",
      "execution_count": 2,
      "metadata": {
        "id": "YzdQLxMMsJrI"
      },
      "outputs": [],
      "source": [
        "torch.set_default_dtype(torch.float64)"
      ]
    },
    {
      "cell_type": "markdown",
      "metadata": {
        "id": "XfxJHytesJrL"
      },
      "source": [
        "## True model\n",
        "\n"
      ]
    },
    {
      "cell_type": "markdown",
      "metadata": {
        "id": "pX8IopWxsJrN"
      },
      "source": [
        "The &ldquo;true model&rdquo; is a constructed non-linear function $y = f(x)$.\n",
        "Here is its definition and a plot to show what the &ldquo;ground truth&rdquo; looks like.\n",
        "\n"
      ]
    },
    {
      "cell_type": "code",
      "execution_count": 3,
      "metadata": {
        "id": "8UhBmJaysJrQ",
        "outputId": "d4fc4820-6d5d-46f0-b5b3-1af97d27557b",
        "colab": {
          "base_uri": "https://localhost:8080/",
          "height": 279
        }
      },
      "outputs": [
        {
          "output_type": "display_data",
          "data": {
            "text/plain": [
              "<Figure size 432x288 with 1 Axes>"
            ],
            "image/png": "[encoded data removed]"
          },
          "metadata": {
            "needs_background": "light"
          }
        }
      ],
      "source": [
        "##################################################\n",
        "## ground-truth model\n",
        "##################################################\n",
        "\n",
        "def goalFun(x):\n",
        "    return(x**3 - x**2 + 25 * np.sin(2*x))\n",
        "\n",
        "# create linear sequence (x) and apply goalFun (y)\n",
        "x = np.linspace(start = -5, stop =5, num = 1000)\n",
        "y = goalFun(x)\n",
        "\n",
        "# plot the function\n",
        "d = pd.DataFrame({'x' : x, 'y' : y})\n",
        "sns.lineplot(data = d, x = 'x', y = 'y')\n",
        "plt.show()"
      ]
    },
    {
      "cell_type": "markdown",
      "metadata": {
        "id": "90DzVb7gsJrV"
      },
      "source": [
        "## Training data\n",
        "\n"
      ]
    },
    {
      "cell_type": "markdown",
      "metadata": {
        "id": "znBV3zjpsJrX"
      },
      "source": [
        "The training data consists of 100 pairs of  $(x,y)$ values.\n",
        "Each pair is generated by first sampling an $x$ value from a uniform distribution.\n",
        "For each sampled $x$, we compute the value of the target function $f(x)$ and add Gaussian noise to it.\n",
        "\n"
      ]
    },
    {
      "cell_type": "code",
      "execution_count": 4,
      "metadata": {
        "id": "cNqs0RzrsJrY",
        "outputId": "0b152f69-fa9d-47f3-a221-a05c9396746a",
        "colab": {
          "base_uri": "https://localhost:8080/",
          "height": 279
        }
      },
      "outputs": [
        {
          "output_type": "display_data",
          "data": {
            "text/plain": [
              "<Figure size 432x288 with 1 Axes>"
            ],
            "image/png": "[encoded data removed]"
          },
          "metadata": {
            "needs_background": "light"
          }
        }
      ],
      "source": [
        "##################################################\n",
        "## generate training data (with noise)\n",
        "##################################################\n",
        "\n",
        "nObs = 100 # number of observations\n",
        "\n",
        "# get noise around y observations\n",
        "yNormal = torch.distributions.Normal(loc=0.0, scale=10)\n",
        "yNoise  = yNormal.sample([nObs])\n",
        "\n",
        "# get observations\n",
        "xObs = 10*torch.rand([nObs])-5    # uniform from [-5,5]\n",
        "yObs = xObs**3 - xObs**2 + 25 * torch.sin(2*xObs) + yNoise\n",
        "\n",
        "# plot the data\n",
        "d = pd.DataFrame({'xObs' : xObs, 'yObs' : yObs})\n",
        "sns.scatterplot(data = d, x = 'xObs', y = 'yObs')\n",
        "plt.show()"
      ]
    },
    {
      "cell_type": "markdown",
      "metadata": {
        "id": "upGdcrAwsJra"
      },
      "source": [
        "> <strong><span style=&ldquo;color:#D83D2B;&rdquo;>Exercise 4.1.1: Explore the training data</span></strong>\n",
        ">\n",
        "> 1. Remove the noise in the data by changing a single number (parameter value).\n",
        "> 2. At what point is the noise in the data so large that there is nothing more to learn?\n",
        "\n"
      ]
    },
    {
      "cell_type": "markdown",
      "source": [
        "### Answer to Exercise 4.1.1.1"
      ],
      "metadata": {
        "id": "99Keyh-YxOeU"
      }
    },
    {
      "cell_type": "code",
      "source": [
        "# remove the noise in the data by reducing the scale (standard deviation) to minimally small\n",
        "yNormal = torch.distributions.Normal(loc=0.0, scale=0.0000000001)\n",
        "yNoise  = yNormal.sample([nObs])\n",
        "\n",
        "# get observations\n",
        "xObs = 10*torch.rand([nObs])-5    # uniform from [-5,5]\n",
        "yObs = xObs**3 - xObs**2 + 25 * torch.sin(2*xObs) + yNoise\n",
        "\n",
        "# plot the data\n",
        "d = pd.DataFrame({'xObs' : xObs, 'yObs' : yObs})\n",
        "sns.scatterplot(data = d, x = 'xObs', y = 'yObs')\n",
        "plt.show()"
      ],
      "metadata": {
        "id": "6ADITTAat8dm",
        "outputId": "c1039c75-483a-45b7-912c-b23f8a16d282",
        "colab": {
          "base_uri": "https://localhost:8080/",
          "height": 279
        }
      },
      "execution_count": 9,
      "outputs": [
        {
          "output_type": "display_data",
          "data": {
            "text/plain": [
              "<Figure size 432x288 with 1 Axes>"
            ],
            "image/png": "[encoded data removed]"
          },
          "metadata": {
            "needs_background": "light"
          }
        }
      ]
    },
    {
      "cell_type": "markdown",
      "source": [
        "### Answer to Exercise 4.1.1.2"
      ],
      "metadata": {
        "id": "T8fXID_nxYwh"
      }
    },
    {
      "cell_type": "code",
      "source": [
        "# raise the scale of noise distribution to a very large number\n",
        "yNormal = torch.distributions.Normal(loc=0.0, scale=90)\n",
        "yNoise  = yNormal.sample([nObs])\n",
        "\n",
        "# get observations\n",
        "xObs = 10*torch.rand([nObs])-5    # uniform from [-5,5]\n",
        "yObs = xObs**3 - xObs**2 + 25 * torch.sin(2*xObs) + yNoise\n",
        "\n",
        "# plot the data\n",
        "d = pd.DataFrame({'xObs' : xObs, 'yObs' : yObs})\n",
        "sns.scatterplot(data = d, x = 'xObs', y = 'yObs')\n",
        "plt.show()"
      ],
      "metadata": {
        "id": "5kspMiVrw-pL",
        "outputId": "5b754626-caa2-4890-9942-8eccac8a04ea",
        "colab": {
          "base_uri": "https://localhost:8080/",
          "height": 279
        }
      },
      "execution_count": 15,
      "outputs": [
        {
          "output_type": "display_data",
          "data": {
            "text/plain": [
              "<Figure size 432x288 with 1 Axes>"
            ],
            "image/png": "[encoded data removed]"
          },
          "metadata": {
            "needs_background": "light"
          }
        }
      ]
    },
    {
      "cell_type": "markdown",
      "source": [
        "As can be observed above, when rasing the standard deviation of the noise to about 90 or 100, the noise is so large that there is almost no pattern in the data to learn."
      ],
      "metadata": {
        "id": "Fp13vArxx5HS"
      }
    },
    {
      "cell_type": "markdown",
      "metadata": {
        "id": "NTTciSn7sJrc"
      },
      "source": [
        "## Hand-coding a multi-layer perceptron\n",
        "\n"
      ]
    },
    {
      "cell_type": "markdown",
      "metadata": {
        "id": "_5Npnl5csJrd"
      },
      "source": [
        "Our model maps a single real number $x$ onto another single real number $y$.\n",
        "We therefore have a neural network whith input and output dimension set to 1.\n",
        "In between $x$ and $y$, we will use three hidden layers $h_{1}, h_{2}, h_{3}$ each with dimension 10:\n",
        "\n"
      ]
    },
    {
      "cell_type": "code",
      "execution_count": 16,
      "metadata": {
        "id": "eBAN2YMisJrf"
      },
      "outputs": [],
      "source": [
        "##################################################\n",
        "## network dimension parameters\n",
        "##################################################\n",
        "\n",
        "nInput  = 1\n",
        "nHidden = 10\n",
        "nOutput = 1"
      ]
    },
    {
      "cell_type": "markdown",
      "metadata": {
        "id": "NfM9Ih4BsJrg"
      },
      "source": [
        "The networks parameters are four matrices and three slopes.\n",
        "The first embedding is called $U$, the following two hidden-to-hidden transformations are $V_{1}$ and $V_{2}$, the hidden-to-output mapping is given by matrix $W$.\n",
        "\n"
      ]
    },
    {
      "cell_type": "code",
      "execution_count": 17,
      "metadata": {
        "id": "sAz2ZxjlsJri"
      },
      "outputs": [],
      "source": [
        "##################################################\n",
        "## trainable (matrix & slope) parameters\n",
        "##           --initializing weights --\n",
        "##################################################\n",
        "\n",
        "U  = torch.tensor(np.random.rand(nHidden,nInput) * 2 - 1,\n",
        "                  requires_grad=True)\n",
        "V1 = torch.tensor(np.random.rand(nHidden, nHidden) * 2 - 1,\n",
        "                  requires_grad=True)\n",
        "V2 = torch.tensor(np.random.rand(nHidden, nHidden) * 2 - 1,\n",
        "                  requires_grad=True)\n",
        "W  = torch.tensor(np.random.rand(nOutput, nHidden) * 2 - 1,\n",
        "                  requires_grad=True)\n",
        "b1 = torch.zeros((nHidden,1), requires_grad=True)\n",
        "b2 = torch.zeros((nHidden,1), requires_grad=True)\n",
        "b3 = torch.zeros((nHidden,1), requires_grad=True)"
      ]
    },
    {
      "cell_type": "markdown",
      "metadata": {
        "id": "VDxWrX3WsJrk"
      },
      "source": [
        "Next, we will define the forward pass.\n",
        "\n"
      ]
    },
    {
      "cell_type": "code",
      "execution_count": 21,
      "metadata": {
        "id": "PbLhhvjasJrl"
      },
      "outputs": [],
      "source": [
        "##################################################\n",
        "## forward pass\n",
        "##################################################\n",
        "\n",
        "activationFun = F.relu # use ReLU fct from PyTorch\n",
        "\n",
        "# this function takes a /single/ observation for x as input\n",
        "#   and it outputs a /single/ observation for y\n",
        "#   we will NOT use this one, but include for better understanding\n",
        "def singleForwardPass(x):\n",
        "    h1 = activationFun(U*x + b1)\n",
        "    h2 = activationFun(torch.mm(V1,h1) + b2)\n",
        "    h3 = activationFun(torch.mm(V2,h2) + b3)\n",
        "    y  = torch.mm(W,h3)\n",
        "    return(y[0,0])\n",
        "\n",
        "# this function takes a /vector/ of observations for x as input\n",
        "#   and it outputs a /vector/ of observations for y\n",
        "#   we will use this function as it is massively more efficient in training\n",
        "def singleForwardPassBatched(xObs):\n",
        "    xObsBatched = xObs.reshape(100,1,1)       # 100 1x1 matrices\n",
        "    h1 = activationFun(U @ xObsBatched + b1)  # 100 column vectors\n",
        "    h2 = activationFun(V1 @ h1 + b2)\n",
        "    h3 = activationFun(V2 @ h2 + b3)\n",
        "    y  = W @ h3\n",
        "    yReshaped = torch.reshape(y,(-1,))\n",
        "    return(yReshaped)\n"
      ]
    },
    {
      "cell_type": "markdown",
      "metadata": {
        "id": "TZDy7bbYsJrn"
      },
      "source": [
        "> <strong><span style=&ldquo;color:#D83D2B;&rdquo;>Exercise 4.1.2: Digest the model, the parameters and their initialization</span></strong>\n",
        ">\n",
        "> 1. Verify that the functions &rsquo;singleForwardPass&rsquo; and &rsquo;singleForwardPassBatched&rsquo; do the same thing by comparing their predictions for the whole sequence of &rsquo;xObs&rsquo;.\n",
        "> I.e., simply call &rsquo;singleForwardPassBatched&rsquo; and compare the output to calls of &rsquo;singleForwardPass&rsquo;.\n",
        "> Ideally, produce outputs from &rsquo;singleForwardPass&rsquo; for all elements of &rsquo;xObs&rsquo; by list-comprehension.\n",
        ">\n",
        "> 2. Write down this model (forward pass) in mathematical notation. (The mathematical formulation of the model should follow the &rsquo;singleForwardPass&rsquo;).\n",
        ">\n",
        "> 3. Describe the way parameters are initialized (above) in your own intuitive terms?\n",
        ">\n",
        "> 4. Why can we not just set all parameter values to 0 initially?\n",
        "\n",
        "It remains to instantiate an optimizer and to run execute the training loop.\n",
        "\n",
        "Next, we will define the &rsquo;forward pass&rsquo;, i.e., a function that computes the predicted $y$ for a given input $x$ based on the current model parameters.\n",
        "\n"
      ]
    },
    {
      "cell_type": "markdown",
      "source": [
        "### Answer to Exercise 4.1.2.1"
      ],
      "metadata": {
        "id": "apN80Uoq8ERR"
      }
    },
    {
      "cell_type": "code",
      "source": [
        "# call ’singleForwardPassBatched’\n",
        "print(singleForwardPassBatched(xObs))"
      ],
      "metadata": {
        "id": "mDqVOIaE7wgV",
        "outputId": "213f800e-60be-4dd8-aaa1-07f8fd22f686",
        "colab": {
          "base_uri": "https://localhost:8080/"
        }
      },
      "execution_count": 22,
      "outputs": [
        {
          "output_type": "stream",
          "name": "stdout",
          "text": [
            "tensor([-0.7850, -0.8012, -0.2039, -0.4159, -0.8262, -1.2719, -0.5368, -0.0881,\n",
            "        -0.8213, -0.4302, -0.6580, -0.0766, -0.5973, -0.7097, -0.3272, -0.1946,\n",
            "        -0.5709, -0.4204, -0.6278, -0.1524, -0.4173, -0.9126, -0.0722, -0.7075,\n",
            "        -0.0322, -0.9266, -0.4215, -0.6293, -0.1171, -0.1796, -0.3400, -0.8160,\n",
            "        -0.4490, -0.3560, -0.0030, -1.1371, -0.2007, -0.7098, -0.4041, -0.3464,\n",
            "        -0.6072, -0.3543, -0.8315, -0.4333, -0.5069, -0.4551, -0.9607, -0.6752,\n",
            "        -0.7630, -0.8320, -0.4507, -0.2224, -0.2181, -0.6099, -0.8868, -0.4841,\n",
            "        -0.5942, -0.6345, -0.7950, -0.0968, -0.0116, -0.1548, -0.2138, -1.2269,\n",
            "        -0.4113, -0.2013, -0.4286, -0.6244, -0.1861, -0.5018, -0.2748, -0.0050,\n",
            "        -0.2366, -1.3943, -0.4865, -0.4983, -0.7294, -0.6067, -1.0379, -1.3256,\n",
            "        -0.1717, -0.5125, -0.1590, -0.5264, -0.3349, -0.1523, -0.3558, -0.0951,\n",
            "        -0.7346, -0.1548, -0.9469, -0.2740, -0.7483, -1.1042, -0.7454, -1.2911,\n",
            "        -0.1619, -0.5951, -0.4449, -0.2891], grad_fn=<ReshapeAliasBackward0>)\n"
          ]
        }
      ]
    },
    {
      "cell_type": "code",
      "source": [
        "# produce outputs from ’singleForwardPass’ for all elements of ’xObs’ by list-comprehension.\n",
        "print([singleForwardPass(x).detach() for x in xObs])"
      ],
      "metadata": {
        "id": "wQYIQNHo8NNS",
        "outputId": "95c02b68-6674-4780-da30-0af5841ba206",
        "colab": {
          "base_uri": "https://localhost:8080/"
        }
      },
      "execution_count": 25,
      "outputs": [
        {
          "output_type": "stream",
          "name": "stdout",
          "text": [
            "[tensor(-0.7850), tensor(-0.8012), tensor(-0.2039), tensor(-0.4159), tensor(-0.8262), tensor(-1.2719), tensor(-0.5368), tensor(-0.0881), tensor(-0.8213), tensor(-0.4302), tensor(-0.6580), tensor(-0.0766), tensor(-0.5973), tensor(-0.7097), tensor(-0.3272), tensor(-0.1946), tensor(-0.5709), tensor(-0.4204), tensor(-0.6278), tensor(-0.1524), tensor(-0.4173), tensor(-0.9126), tensor(-0.0722), tensor(-0.7075), tensor(-0.0322), tensor(-0.9266), tensor(-0.4215), tensor(-0.6293), tensor(-0.1171), tensor(-0.1796), tensor(-0.3400), tensor(-0.8160), tensor(-0.4490), tensor(-0.3560), tensor(-0.0030), tensor(-1.1371), tensor(-0.2007), tensor(-0.7098), tensor(-0.4041), tensor(-0.3464), tensor(-0.6072), tensor(-0.3543), tensor(-0.8315), tensor(-0.4333), tensor(-0.5069), tensor(-0.4551), tensor(-0.9607), tensor(-0.6752), tensor(-0.7630), tensor(-0.8320), tensor(-0.4507), tensor(-0.2224), tensor(-0.2181), tensor(-0.6099), tensor(-0.8868), tensor(-0.4841), tensor(-0.5942), tensor(-0.6345), tensor(-0.7950), tensor(-0.0968), tensor(-0.0116), tensor(-0.1548), tensor(-0.2138), tensor(-1.2269), tensor(-0.4113), tensor(-0.2013), tensor(-0.4286), tensor(-0.6244), tensor(-0.1861), tensor(-0.5018), tensor(-0.2748), tensor(-0.0050), tensor(-0.2366), tensor(-1.3943), tensor(-0.4865), tensor(-0.4983), tensor(-0.7294), tensor(-0.6067), tensor(-1.0379), tensor(-1.3256), tensor(-0.1717), tensor(-0.5125), tensor(-0.1590), tensor(-0.5264), tensor(-0.3349), tensor(-0.1523), tensor(-0.3558), tensor(-0.0951), tensor(-0.7346), tensor(-0.1548), tensor(-0.9469), tensor(-0.2740), tensor(-0.7483), tensor(-1.1042), tensor(-0.7454), tensor(-1.2911), tensor(-0.1619), tensor(-0.5951), tensor(-0.4449), tensor(-0.2891)]\n"
          ]
        }
      ]
    },
    {
      "cell_type": "markdown",
      "source": [
        "As can be seen above, the outputs from singleForwardPassBatched are the same as the ones produced by singleForwardPass separately. So they do the same thing."
      ],
      "metadata": {
        "id": "F2DfN7Fs9RFa"
      }
    },
    {
      "cell_type": "code",
      "execution_count": null,
      "metadata": {
        "id": "VzY_0ETHsJro",
        "outputId": "4483784e-48bf-4462-88ae-02cfe45cbccb"
      },
      "outputs": [
        {
          "name": "stdout",
          "output_type": "stream",
          "text": "#+begin_example\n\n\nIteration:     0 | Loss:       3680.0\nIteration:  5000 | Loss:        930.0\nIteration: 10000 | Loss:        686.0\nIteration: 15000 | Loss:        278.0\nIteration: 20000 | Loss:        139.0\nIteration: 25000 | Loss:         99.0\nIteration: 30000 | Loss:         98.0\nIteration: 35000 | Loss:         97.0\nIteration: 40000 | Loss:         97.0\nIteration: 45000 | Loss:         96.0\nIteration: 50000 | Loss:         96.0\nIteration: 55000 | Loss:         95.0\nIteration: 60000 | Loss:         95.0\nIteration: 65000 | Loss:         94.0\nIteration: 70000 | Loss:         93.0\nIteration: 75000 | Loss:         91.0\nIteration: 80000 | Loss:         90.0\nIteration: 85000 | Loss:         90.0\nIteration: 90000 | Loss:         89.0\nIteration: 95000 | Loss:         89.0\nIteration: 100000 | Loss:         89.0\n#+end_example"
        },
        {
          "data": {
            "image/png": "[encoded data removed]",
            "text/plain": "<matplotlib.figure.Figure>"
          },
          "metadata": {},
          "output_type": "display_data"
        }
      ],
      "source": [
        "##################################################\n",
        "## optimizer & training loop\n",
        "##################################################\n",
        "\n",
        "# initialize optimizer: Adam optimizer\n",
        "loss_function = nn.MSELoss()\n",
        "opt = torch.optim.Adam([U,V1,V2,W,b1,b2,b3], lr=1e-4)\n",
        "\n",
        "epochs = 100000\n",
        "for i in range(epochs+1):\n",
        "    if (i == 0):\n",
        "        print(\"\\n\")\n",
        "    yPred = singleForwardPassBatched(xObs)\n",
        "    loss  = loss_function(yPred, yObs)\n",
        "    # loss  = torch.mean((yPred - yObs)**2)\n",
        "    if (i == 0 or i % 5000 == 0):\n",
        "        print('Iteration: {:5d} | Loss: {:12}'.format(i, loss.detach().numpy().round(0)))\n",
        "        # print(\"Iteration: \", i, \" Loss: \", loss.detach().numpy())\n",
        "    loss.backward()\n",
        "    opt.step()\n",
        "    opt.zero_grad()\n",
        "\n",
        "yPred = singleForwardPassBatched(xObs)\n",
        "\n",
        "# plot the data\n",
        "d = pd.DataFrame({'xObs' : xObs.detach().numpy(),\n",
        "                  'yObs' : yObs.detach().numpy(),\n",
        "                  'yPred': yPred.detach().numpy()})\n",
        "dWide = pd.melt(d, id_vars = 'xObs', value_vars= ['yObs', 'yPred'])\n",
        "sns.scatterplot(data = dWide, x = 'xObs', y = 'value', hue = 'variable', alpha = 0.7)\n",
        "x = np.linspace(start = -5, stop =5, num = 1000)\n",
        "y = goalFun(x)\n",
        "plt.plot(x,y, color='g', alpha = 0.5)\n",
        "plt.show()"
      ]
    },
    {
      "cell_type": "markdown",
      "metadata": {
        "id": "ZJiGoHvTsJrr"
      },
      "source": [
        "> <strong><span style=&ldquo;color:#D83D2B;&rdquo;>Exercise 4.1.3: Inspecting and interpreting the model fit</span></strong>\n",
        ">\n",
        "> 0. [just for yourself] Make sure that you understand all ingredients and steps used here. Read up on the MSE loss function, for instance, or ask if you are unsure.\n",
        ">\n",
        "> 1. Inspect the print-outs from the training sequence. Does this output suggest that the training was successful or not?\n",
        ">\n",
        "> 2. What does the plot produced here after training show exactly? Does that picture suggest that the model learned successfully? Do you think that there might even be a sense in which the model &ldquo;[overfitted](https://en.wikipedia.org/wiki/Overfitting)&rdquo; the data?\n",
        ">\n",
        "> 3. Change the optimizer to vanilla Gradient Descent (&rsquo;SGD&rsquo;), change the training rate to &rsquo;lr=1e-6&rsquo; and the number of training epochs to &rsquo;epochs = 50000&rsquo;.\n",
        "> Now, (first re-initialize all parameter values to start training anew) and repeatedly execute the last code cell (probably 4-6 times).\n",
        "> Describe what you observe by answering the following questions:\n",
        "> (i) is training with &rsquo;SGD&rsquo; more or less efficient than the initial set-up?;\n",
        "> (ii) why is it more/less efficient?\n",
        "> (iii) if we think of training the model as &ldquo;curve fitting&rdquo;, which parts of the curve are adapted first, which ones later?\n",
        "> (iv) explain the difference you described in (iii).\n",
        "\n"
      ]
    }
  ],
  "metadata": {
    "org": null,
    "kernelspec": {
      "display_name": "Python 3",
      "language": "python",
      "name": "python3"
    },
    "language_info": {
      "codemirror_mode": {
        "name": "ipython",
        "version": 3
      },
      "file_extension": ".py",
      "mimetype": "text/x-python",
      "name": "python",
      "nbconvert_exporter": "python",
      "pygments_lexer": "ipython3",
      "version": "3.5.2"
    },
    "colab": {
      "provenance": []
    }
  },
  "nbformat": 4,
  "nbformat_minor": 0
}